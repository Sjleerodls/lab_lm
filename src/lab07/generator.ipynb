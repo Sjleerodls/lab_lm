{
 "cells": [
  {
   "metadata": {},
   "cell_type": "markdown",
   "source": "return문을 사용하는 함수",
   "id": "9f9a8fda9f9e6d44"
  },
  {
   "cell_type": "code",
   "id": "initial_id",
   "metadata": {
    "collapsed": true,
    "ExecuteTime": {
     "end_time": "2025-09-11T04:37:33.684102Z",
     "start_time": "2025-09-11T04:37:33.676744Z"
    }
   },
   "source": [
    "def test_1():\n",
    "    for i in range(5):\n",
    "        return i"
   ],
   "outputs": [],
   "execution_count": 1
  },
  {
   "metadata": {
    "ExecuteTime": {
     "end_time": "2025-09-11T04:40:44.658647Z",
     "start_time": "2025-09-11T04:40:44.655331Z"
    }
   },
   "cell_type": "code",
   "source": "result = test_1()",
   "id": "6229fc9772da7726",
   "outputs": [],
   "execution_count": 3
  },
  {
   "metadata": {
    "ExecuteTime": {
     "end_time": "2025-09-11T04:40:49.472232Z",
     "start_time": "2025-09-11T04:40:49.468724Z"
    }
   },
   "cell_type": "code",
   "source": "print(result)",
   "id": "c85340c259eac294",
   "outputs": [
    {
     "name": "stdout",
     "output_type": "stream",
     "text": [
      "0\n"
     ]
    }
   ],
   "execution_count": 4
  },
  {
   "metadata": {
    "ExecuteTime": {
     "end_time": "2025-09-11T04:41:03.939600Z",
     "start_time": "2025-09-11T04:41:03.934977Z"
    }
   },
   "cell_type": "code",
   "source": "print(type(result))",
   "id": "68fe6e022d1559b7",
   "outputs": [
    {
     "name": "stdout",
     "output_type": "stream",
     "text": [
      "<class 'int'>\n"
     ]
    }
   ],
   "execution_count": 5
  },
  {
   "metadata": {},
   "cell_type": "markdown",
   "source": "test_1() 함수는 내부에서 반복문으로 작성되어 있지만, 실제로는 한 번 리턴한 후에는 함수가 종료됨.",
   "id": "d61306057f406eb9"
  },
  {
   "metadata": {},
   "cell_type": "markdown",
   "source": "yield를 사용하는 함수",
   "id": "bc0e5152c62a5530"
  },
  {
   "metadata": {
    "ExecuteTime": {
     "end_time": "2025-09-11T04:44:26.899165Z",
     "start_time": "2025-09-11T04:44:26.894552Z"
    }
   },
   "cell_type": "code",
   "source": [
    "def my_generator():\n",
    "    for i in range(5):\n",
    "        yield i"
   ],
   "id": "bd8966ffbb2bdbfa",
   "outputs": [],
   "execution_count": 22
  },
  {
   "metadata": {
    "ExecuteTime": {
     "end_time": "2025-09-11T04:44:28.505240Z",
     "start_time": "2025-09-11T04:44:28.501486Z"
    }
   },
   "cell_type": "code",
   "source": "result = my_generator()",
   "id": "e67a5a23528c432c",
   "outputs": [],
   "execution_count": 23
  },
  {
   "metadata": {
    "ExecuteTime": {
     "end_time": "2025-09-11T04:44:29.507129Z",
     "start_time": "2025-09-11T04:44:29.503948Z"
    }
   },
   "cell_type": "code",
   "source": "print(result)",
   "id": "7df3054ab68c4ebd",
   "outputs": [
    {
     "name": "stdout",
     "output_type": "stream",
     "text": [
      "<generator object my_generator at 0x00000132E4C5E680>\n"
     ]
    }
   ],
   "execution_count": 24
  },
  {
   "metadata": {
    "ExecuteTime": {
     "end_time": "2025-09-11T04:44:30.420662Z",
     "start_time": "2025-09-11T04:44:30.415328Z"
    }
   },
   "cell_type": "code",
   "source": [
    "# generator 타입의 객체는 for-in 구문에서 사용할 수 있음.\n",
    "for x in result:\n",
    "    print(x)"
   ],
   "id": "6b71921cf5f90947",
   "outputs": [
    {
     "name": "stdout",
     "output_type": "stream",
     "text": [
      "0\n",
      "1\n",
      "2\n",
      "3\n",
      "4\n"
     ]
    }
   ],
   "execution_count": 25
  },
  {
   "metadata": {
    "ExecuteTime": {
     "end_time": "2025-09-11T04:51:33.098916Z",
     "start_time": "2025-09-11T04:51:33.094395Z"
    }
   },
   "cell_type": "code",
   "source": [
    "for x in result:        # 이미 yield로 소진되어서 return 할 수 있는것이 없음.\n",
    "    print(x)"
   ],
   "id": "16b3b0ef5bc20cd5",
   "outputs": [],
   "execution_count": 26
  },
  {
   "metadata": {
    "ExecuteTime": {
     "end_time": "2025-09-11T04:54:15.267279Z",
     "start_time": "2025-09-11T04:54:15.263486Z"
    }
   },
   "cell_type": "code",
   "source": [
    "def my_generator_2():\n",
    "    values = ['OpenAI', 'Google', 'Meta']\n",
    "    for x in values:\n",
    "        print('*' * 10)\n",
    "        yield x"
   ],
   "id": "2c305bdecc533647",
   "outputs": [],
   "execution_count": 27
  },
  {
   "metadata": {
    "ExecuteTime": {
     "end_time": "2025-09-11T04:54:46.368207Z",
     "start_time": "2025-09-11T04:54:46.364507Z"
    }
   },
   "cell_type": "code",
   "source": "result = my_generator_2()",
   "id": "3768f951d153d043",
   "outputs": [],
   "execution_count": 28
  },
  {
   "metadata": {
    "ExecuteTime": {
     "end_time": "2025-09-11T04:54:51.132691Z",
     "start_time": "2025-09-11T04:54:51.127973Z"
    }
   },
   "cell_type": "code",
   "source": "print(result)",
   "id": "cf68be7d5ea41161",
   "outputs": [
    {
     "name": "stdout",
     "output_type": "stream",
     "text": [
      "<generator object my_generator_2 at 0x00000132E4E231D0>\n"
     ]
    }
   ],
   "execution_count": 29
  },
  {
   "metadata": {
    "ExecuteTime": {
     "end_time": "2025-09-11T04:55:08.340663Z",
     "start_time": "2025-09-11T04:55:08.336662Z"
    }
   },
   "cell_type": "code",
   "source": [
    "for x in result:    # generator를 순서대로 실행.\n",
    "    print(x)"
   ],
   "id": "1ae83b0d1d56b8c5",
   "outputs": [
    {
     "name": "stdout",
     "output_type": "stream",
     "text": [
      "**********\n",
      "OpenAI\n",
      "**********\n",
      "Google\n",
      "**********\n",
      "Meta\n"
     ]
    }
   ],
   "execution_count": 30
  },
  {
   "metadata": {},
   "cell_type": "code",
   "outputs": [],
   "execution_count": null,
   "source": "",
   "id": "33b840e1ad97514e"
  }
 ],
 "metadata": {
  "kernelspec": {
   "display_name": "Python 3",
   "language": "python",
   "name": "python3"
  },
  "language_info": {
   "codemirror_mode": {
    "name": "ipython",
    "version": 2
   },
   "file_extension": ".py",
   "mimetype": "text/x-python",
   "name": "python",
   "nbconvert_exporter": "python",
   "pygments_lexer": "ipython2",
   "version": "2.7.6"
  }
 },
 "nbformat": 4,
 "nbformat_minor": 5
}
