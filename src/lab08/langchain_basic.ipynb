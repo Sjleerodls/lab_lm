{
 "cells": [
  {
   "metadata": {},
   "cell_type": "markdown",
   "source": [
    "# LangChain 소개\n",
    "\n",
    "- LLM에 기반한 AI 앱(에이전트)를 쉽게 개발할 수 있도록 도와주는 프레임워크\n",
    "- 적은 코드 수정으로 다른 LLM 모델들을 쉽게 교체할 수 있다.\n",
    "    - 구글 Gemini, 메타 Llama, 앤트로픽 Claude, Deepseek와 같은 모델들은 OpenAI GPT와 사용 방식이 달라서, 다른 언어 모델로 변경하려면 코드 전반을 수정해야 함.\n",
    "    - LangChain을 사용하면 LLM 선언 부분만 수정해서 다른 모델로 쉽게 교체할 수 있음.\n",
    "    - 특정 LLM에 종속되지 않고 다양한 모델의 장점을 활용하는 앱을 개발할 수 있음.\n",
    "- LangChain에서 미리 구축된 모듈들을 활용해서 개발 속도를 높일 수 있음."
   ],
   "id": "874f4c18a3713573"
  },
  {
   "cell_type": "code",
   "id": "initial_id",
   "metadata": {
    "collapsed": true,
    "ExecuteTime": {
     "end_time": "2025-09-12T01:18:43.258310Z",
     "start_time": "2025-09-12T01:18:43.253205Z"
    }
   },
   "source": [
    "import dotenv   # .env 파일에 작성된 키-값을 OS 환경변수로 로딩.\n",
    "from langchain_openai import OpenAI, ChatOpenAI\n",
    "from langchain_core.messages import SystemMessage, HumanMessage, AIMessage"
   ],
   "outputs": [],
   "execution_count": 9
  },
  {
   "metadata": {
    "ExecuteTime": {
     "end_time": "2025-09-12T01:15:04.056204Z",
     "start_time": "2025-09-12T01:15:04.052337Z"
    }
   },
   "cell_type": "code",
   "source": "dotenv.load_dotenv()",
   "id": "f181a2ab1359fc5b",
   "outputs": [
    {
     "data": {
      "text/plain": [
       "True"
      ]
     },
     "execution_count": 6,
     "metadata": {},
     "output_type": "execute_result"
    }
   ],
   "execution_count": 6
  },
  {
   "metadata": {
    "ExecuteTime": {
     "end_time": "2025-09-12T01:15:51.782217Z",
     "start_time": "2025-09-12T01:15:51.778540Z"
    }
   },
   "cell_type": "code",
   "source": [
    "model = ChatOpenAI(model='gpt-4o-mini')     # ChatOpenAI 객체를 생성\n",
    "# LangChain의 ChatOpenAI 클래스는 OS 환경변수에 로딩된 api_key 값을 스스로 찾음."
   ],
   "id": "6b449ce31e667ef3",
   "outputs": [],
   "execution_count": 8
  },
  {
   "metadata": {
    "ExecuteTime": {
     "end_time": "2025-09-12T01:26:36.544878Z",
     "start_time": "2025-09-12T01:26:35.427978Z"
    }
   },
   "cell_type": "code",
   "source": [
    "response = model.invoke([HumanMessage(content='안녕, 난 sj야, 넌 누구니?')])\n",
    "# OpenAI를 사용할 때 {'role': 'user', 'content' : 'user messages...'}와 비슷.\n",
    "\n",
    "# model.invoke : OpenAI의 client.chat.completions.create() 메서드 호출."
   ],
   "id": "5fee69f20db6a040",
   "outputs": [],
   "execution_count": 11
  },
  {
   "metadata": {
    "ExecuteTime": {
     "end_time": "2025-09-12T01:26:39.452792Z",
     "start_time": "2025-09-12T01:26:39.448823Z"
    }
   },
   "cell_type": "code",
   "source": "print(type(response))",
   "id": "98b812090424c938",
   "outputs": [
    {
     "name": "stdout",
     "output_type": "stream",
     "text": [
      "<class 'langchain_core.messages.ai.AIMessage'>\n"
     ]
    }
   ],
   "execution_count": 12
  },
  {
   "metadata": {
    "ExecuteTime": {
     "end_time": "2025-09-12T01:27:34.969721Z",
     "start_time": "2025-09-12T01:27:34.965628Z"
    }
   },
   "cell_type": "code",
   "source": "print(response)",
   "id": "84fa7b9a096a8309",
   "outputs": [
    {
     "name": "stdout",
     "output_type": "stream",
     "text": [
      "content='안녕하세요, sj님! 저는 AI 언어 모델입니다. 여러분의 질문에 답하거나 다양한 정보를 제공하기 위해 여기 있습니다. 무엇을 도와드릴까요?' additional_kwargs={'refusal': None} response_metadata={'token_usage': {'completion_tokens': 35, 'prompt_tokens': 19, 'total_tokens': 54, 'completion_tokens_details': {'accepted_prediction_tokens': 0, 'audio_tokens': 0, 'reasoning_tokens': 0, 'rejected_prediction_tokens': 0}, 'prompt_tokens_details': {'audio_tokens': 0, 'cached_tokens': 0}}, 'model_name': 'gpt-4o-mini-2024-07-18', 'system_fingerprint': 'fp_560af6e559', 'id': 'chatcmpl-CEmqZCA1PO7eFgir20TBrExP61WTj', 'service_tier': 'default', 'finish_reason': 'stop', 'logprobs': None} id='run--9cd3e81f-02bc-4f55-8d05-4b1018f0903f-0' usage_metadata={'input_tokens': 19, 'output_tokens': 35, 'total_tokens': 54, 'input_token_details': {'audio': 0, 'cache_read': 0}, 'output_token_details': {'audio': 0, 'reasoning': 0}}\n"
     ]
    }
   ],
   "execution_count": 13
  },
  {
   "metadata": {
    "ExecuteTime": {
     "end_time": "2025-09-12T01:52:18.550586Z",
     "start_time": "2025-09-12T01:52:17.680461Z"
    }
   },
   "cell_type": "code",
   "source": "response = model.invoke([HumanMessage(content='내 이름은 뭐야?')])",
   "id": "14c1c4737c341703",
   "outputs": [],
   "execution_count": 14
  },
  {
   "metadata": {
    "ExecuteTime": {
     "end_time": "2025-09-12T01:52:26.792219Z",
     "start_time": "2025-09-12T01:52:26.788210Z"
    }
   },
   "cell_type": "code",
   "source": "print(response.content)",
   "id": "97575fb0c37c3c98",
   "outputs": [
    {
     "name": "stdout",
     "output_type": "stream",
     "text": [
      "저는 당신의 이름을 알 수 없어요. 당신의 이름을 알려주실 수 있나요?\n"
     ]
    }
   ],
   "execution_count": 15
  },
  {
   "metadata": {},
   "cell_type": "markdown",
   "source": "LLM이 대화 내용을 기억하면 문맥에 맞게 답변을 생성하도록 유도하려면 이전의 대화 내용들을 list와 같은 형식으로 계속 추가하면서 요청을 보내야 됨.",
   "id": "ab00f2580d98e68f"
  },
  {
   "metadata": {
    "ExecuteTime": {
     "end_time": "2025-09-12T01:56:34.807917Z",
     "start_time": "2025-09-12T01:56:34.804480Z"
    }
   },
   "cell_type": "code",
   "source": "messages = [HumanMessage('난 sj야. 넌 누구야?')]      # 최초 메시지",
   "id": "d6d1612f5ad8e172",
   "outputs": [],
   "execution_count": 16
  },
  {
   "metadata": {
    "ExecuteTime": {
     "end_time": "2025-09-12T01:57:52.461296Z",
     "start_time": "2025-09-12T01:57:51.509301Z"
    }
   },
   "cell_type": "code",
   "source": "ai_message = model.invoke(messages)     # 대화 시작",
   "id": "287e20d19bd02d89",
   "outputs": [],
   "execution_count": 17
  },
  {
   "metadata": {
    "ExecuteTime": {
     "end_time": "2025-09-12T01:58:02.929796Z",
     "start_time": "2025-09-12T01:58:02.925835Z"
    }
   },
   "cell_type": "code",
   "source": "print(ai_message.content)       # 첫 번째 AI 응답",
   "id": "81b97f2667daf8f5",
   "outputs": [
    {
     "name": "stdout",
     "output_type": "stream",
     "text": [
      "안녕하세요, SJ! 저는 AI 언어 모델입니다. 당신과 대화하고 도와드리기 위해 여기 있어요. 어떤 이야기를 나눌까요?\n"
     ]
    }
   ],
   "execution_count": 19
  },
  {
   "metadata": {
    "ExecuteTime": {
     "end_time": "2025-09-12T02:00:55.290632Z",
     "start_time": "2025-09-12T02:00:55.286157Z"
    }
   },
   "cell_type": "code",
   "source": "messages.append(ai_message)     # 메시지 리스트에 AIMessage 객체를 추가.",
   "id": "d19eb2413f1a8ff6",
   "outputs": [],
   "execution_count": 20
  },
  {
   "metadata": {
    "ExecuteTime": {
     "end_time": "2025-09-12T02:01:03.020784Z",
     "start_time": "2025-09-12T02:01:03.016513Z"
    }
   },
   "cell_type": "code",
   "source": "messages.append(HumanMessage(content='내 이름은 뭐야?'))      # 사용자의 두번째 질문",
   "id": "a949b5e3f08862bb",
   "outputs": [],
   "execution_count": 21
  },
  {
   "metadata": {
    "ExecuteTime": {
     "end_time": "2025-09-12T02:01:15.795717Z",
     "start_time": "2025-09-12T02:01:14.732924Z"
    }
   },
   "cell_type": "code",
   "source": "ai_message = model.invoke(messages)",
   "id": "48eb4f93b03cb2f6",
   "outputs": [],
   "execution_count": 22
  },
  {
   "metadata": {
    "ExecuteTime": {
     "end_time": "2025-09-12T02:01:19.521630Z",
     "start_time": "2025-09-12T02:01:19.517453Z"
    }
   },
   "cell_type": "code",
   "source": "print(ai_message.content)",
   "id": "e2f63ec37ee7e969",
   "outputs": [
    {
     "name": "stdout",
     "output_type": "stream",
     "text": [
      "당신의 이름은 SJ라고 하셨어요. 다른 질문이나 이야기하고 싶은 주제가 있나요?\n"
     ]
    }
   ],
   "execution_count": 23
  },
  {
   "metadata": {},
   "cell_type": "code",
   "outputs": [],
   "execution_count": null,
   "source": "",
   "id": "7f3b9106703e4e37"
  }
 ],
 "metadata": {
  "kernelspec": {
   "display_name": "Python 3",
   "language": "python",
   "name": "python3"
  },
  "language_info": {
   "codemirror_mode": {
    "name": "ipython",
    "version": 2
   },
   "file_extension": ".py",
   "mimetype": "text/x-python",
   "name": "python",
   "nbconvert_exporter": "python",
   "pygments_lexer": "ipython2",
   "version": "2.7.6"
  }
 },
 "nbformat": 4,
 "nbformat_minor": 5
}
