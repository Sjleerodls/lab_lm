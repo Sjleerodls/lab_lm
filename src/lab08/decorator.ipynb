{
 "cells": [
  {
   "metadata": {},
   "cell_type": "markdown",
   "source": "# Decorator 디자인 패턴",
   "id": "169050d8520a17ec"
  },
  {
   "metadata": {
    "ExecuteTime": {
     "end_time": "2025-09-15T08:34:44.295284Z",
     "start_time": "2025-09-15T08:34:44.290147Z"
    }
   },
   "cell_type": "code",
   "source": [
    "from pygments.lexer import words\n",
    "\n",
    "\n",
    "def hello():\n",
    "    print('--- hello 시작 ---')   # 로그 기능\n",
    "    print('안녕...')      # hello 함수의 주된 기능\n",
    "    print('--- hello 종료 ---')   # 로그 기능"
   ],
   "id": "867335f5b51aca66",
   "outputs": [],
   "execution_count": 53
  },
  {
   "metadata": {
    "ExecuteTime": {
     "end_time": "2025-09-15T08:34:44.834195Z",
     "start_time": "2025-09-15T08:34:44.829734Z"
    }
   },
   "cell_type": "code",
   "source": "hello()",
   "id": "57426933c8b778a3",
   "outputs": [
    {
     "name": "stdout",
     "output_type": "stream",
     "text": [
      "--- hello 시작 ---\n",
      "안녕...\n",
      "--- hello 종료 ---\n"
     ]
    }
   ],
   "execution_count": 54
  },
  {
   "metadata": {
    "ExecuteTime": {
     "end_time": "2025-09-15T08:34:45.483249Z",
     "start_time": "2025-09-15T08:34:45.479929Z"
    }
   },
   "cell_type": "code",
   "source": [
    "def world():\n",
    "    print('--- world 시작 ---')\n",
    "    print('World...')\n",
    "    print('--- world 종료 ---')"
   ],
   "id": "102d13e8821804c4",
   "outputs": [],
   "execution_count": 55
  },
  {
   "metadata": {
    "ExecuteTime": {
     "end_time": "2025-09-15T08:34:45.985715Z",
     "start_time": "2025-09-15T08:34:45.982231Z"
    }
   },
   "cell_type": "code",
   "source": "world()",
   "id": "94f801f130ce16c9",
   "outputs": [
    {
     "name": "stdout",
     "output_type": "stream",
     "text": [
      "--- world 시작 ---\n",
      "World...\n",
      "--- world 종료 ---\n"
     ]
    }
   ],
   "execution_count": 56
  },
  {
   "metadata": {},
   "cell_type": "markdown",
   "source": "hello() 함수와 world() 함수는 주된 기능만을 작성, 부가적인 기능(로깅, 아규먼트 검사, ...)들은 공통으로 작성하는 기법.",
   "id": "bca1f9caf372059b"
  },
  {
   "metadata": {
    "ExecuteTime": {
     "end_time": "2025-09-15T08:34:47.118496Z",
     "start_time": "2025-09-15T08:34:47.114147Z"
    }
   },
   "cell_type": "code",
   "source": [
    "def trace(func):\n",
    "    # 지역 함수(local function) 선언\n",
    "    def wrapper():\n",
    "        print(f'===== {func.__name__} 시작 =====')\n",
    "        func()      # trace 함수의 아규먼트인 함수 func를 실행.\n",
    "        print(f'===== {func.__name__} 종료 =====')\n",
    "\n",
    "    return wrapper  # 지역 함수 \"객체\"를 리턴."
   ],
   "id": "f11022a58e7b3e4c",
   "outputs": [],
   "execution_count": 57
  },
  {
   "metadata": {
    "ExecuteTime": {
     "end_time": "2025-09-15T08:34:47.640573Z",
     "start_time": "2025-09-15T08:34:47.637372Z"
    }
   },
   "cell_type": "code",
   "source": [
    "def hello():\n",
    "    print('안녕...')"
   ],
   "id": "f32bba337819a3a2",
   "outputs": [],
   "execution_count": 58
  },
  {
   "metadata": {
    "ExecuteTime": {
     "end_time": "2025-09-15T08:34:48.175574Z",
     "start_time": "2025-09-15T08:34:48.172255Z"
    }
   },
   "cell_type": "code",
   "source": [
    "def world():\n",
    "    print('World...')"
   ],
   "id": "f41a9b02cc14d47c",
   "outputs": [],
   "execution_count": 59
  },
  {
   "metadata": {
    "ExecuteTime": {
     "end_time": "2025-09-15T08:34:48.706898Z",
     "start_time": "2025-09-15T08:34:48.702961Z"
    }
   },
   "cell_type": "code",
   "source": "hello_trace = trace(hello)      # 단순 할당",
   "id": "abb6d11bada00dd8",
   "outputs": [],
   "execution_count": 60
  },
  {
   "metadata": {
    "ExecuteTime": {
     "end_time": "2025-09-15T08:34:49.235128Z",
     "start_time": "2025-09-15T08:34:49.230280Z"
    }
   },
   "cell_type": "code",
   "source": "type(hello_trace)       # 타입 확인",
   "id": "d45665b0faf6bc77",
   "outputs": [
    {
     "data": {
      "text/plain": [
       "function"
      ]
     },
     "execution_count": 61,
     "metadata": {},
     "output_type": "execute_result"
    }
   ],
   "execution_count": 61
  },
  {
   "metadata": {
    "ExecuteTime": {
     "end_time": "2025-09-15T08:34:49.779090Z",
     "start_time": "2025-09-15T08:34:49.774982Z"
    }
   },
   "cell_type": "code",
   "source": "hello_trace()",
   "id": "5ff90ffc82ff7017",
   "outputs": [
    {
     "name": "stdout",
     "output_type": "stream",
     "text": [
      "===== hello 시작 =====\n",
      "안녕...\n",
      "===== hello 종료 =====\n"
     ]
    }
   ],
   "execution_count": 62
  },
  {
   "metadata": {
    "ExecuteTime": {
     "end_time": "2025-09-15T08:34:50.301003Z",
     "start_time": "2025-09-15T08:34:50.297125Z"
    }
   },
   "cell_type": "code",
   "source": [
    "world_trace = trace(world)\n",
    "world_trace()"
   ],
   "id": "5c18e7e2df82e300",
   "outputs": [
    {
     "name": "stdout",
     "output_type": "stream",
     "text": [
      "===== world 시작 =====\n",
      "World...\n",
      "===== world 종료 =====\n"
     ]
    }
   ],
   "execution_count": 63
  },
  {
   "metadata": {},
   "cell_type": "markdown",
   "source": [
    "trace() 함수를 데코레이터(decorator) 함수라고 함.\n",
    "\n",
    "`@decorator` 애너테이션을 호출하고자 하는 함수 선언 부분에 사용하면 더 편리하게 이용할 수 있음."
   ],
   "id": "b769adc79f30bbf9"
  },
  {
   "metadata": {
    "ExecuteTime": {
     "end_time": "2025-09-15T08:34:51.912356Z",
     "start_time": "2025-09-15T08:34:51.908377Z"
    }
   },
   "cell_type": "code",
   "source": [
    "@trace\n",
    "def hello2():\n",
    "    print('hello2...')"
   ],
   "id": "9242558d1f8ff43b",
   "outputs": [],
   "execution_count": 64
  },
  {
   "metadata": {
    "ExecuteTime": {
     "end_time": "2025-09-15T08:34:53.176631Z",
     "start_time": "2025-09-15T08:34:53.172209Z"
    }
   },
   "cell_type": "code",
   "source": "hello2()",
   "id": "154bb66edfdafdbb",
   "outputs": [
    {
     "name": "stdout",
     "output_type": "stream",
     "text": [
      "===== hello2 시작 =====\n",
      "hello2...\n",
      "===== hello2 종료 =====\n"
     ]
    }
   ],
   "execution_count": 65
  },
  {
   "metadata": {
    "ExecuteTime": {
     "end_time": "2025-09-15T08:35:00.371332Z",
     "start_time": "2025-09-15T08:35:00.366832Z"
    }
   },
   "cell_type": "code",
   "source": [
    "@trace\n",
    "def world2():\n",
    "    print('world2...')"
   ],
   "id": "e2ba556ba67f04b9",
   "outputs": [],
   "execution_count": 66
  },
  {
   "metadata": {
    "ExecuteTime": {
     "end_time": "2025-09-15T08:35:06.927225Z",
     "start_time": "2025-09-15T08:35:06.923560Z"
    }
   },
   "cell_type": "code",
   "source": "world2()",
   "id": "c5edbbac2e545c8",
   "outputs": [
    {
     "name": "stdout",
     "output_type": "stream",
     "text": [
      "===== world2 시작 =====\n",
      "world2...\n",
      "===== world2 종료 =====\n"
     ]
    }
   ],
   "execution_count": 67
  },
  {
   "metadata": {},
   "cell_type": "markdown",
   "source": "함수에 데코레이터를 여러 개 지정할 수도 있음.",
   "id": "d205a33763bcf7ce"
  },
  {
   "metadata": {
    "ExecuteTime": {
     "end_time": "2025-09-15T08:36:09.768624Z",
     "start_time": "2025-09-15T08:36:09.765616Z"
    }
   },
   "cell_type": "code",
   "source": [
    "def deco1(func):\n",
    "    def wrapper():\n",
    "        print('--- deco1 시작 ---')\n",
    "        func()\n",
    "        print('--- deco1 종료 ---')\n",
    "\n",
    "    return wrapper"
   ],
   "id": "b93d39d171ded05d",
   "outputs": [],
   "execution_count": 69
  },
  {
   "metadata": {
    "ExecuteTime": {
     "end_time": "2025-09-15T08:36:39.019574Z",
     "start_time": "2025-09-15T08:36:39.014410Z"
    }
   },
   "cell_type": "code",
   "source": [
    "def deco2(func):\n",
    "    def wrapper():\n",
    "        print('--- deco2 시작 ---')\n",
    "        func()\n",
    "        print('--- deco2 종료 ---')\n",
    "\n",
    "    return wrapper"
   ],
   "id": "88924ca649318ffa",
   "outputs": [],
   "execution_count": 70
  },
  {
   "metadata": {
    "ExecuteTime": {
     "end_time": "2025-09-15T08:36:55.191948Z",
     "start_time": "2025-09-15T08:36:55.188031Z"
    }
   },
   "cell_type": "code",
   "source": [
    "@deco1\n",
    "@deco2\n",
    "def hello_world():\n",
    "    print('Hello, world!')"
   ],
   "id": "4e406cbd04f2acd5",
   "outputs": [],
   "execution_count": 71
  },
  {
   "metadata": {
    "ExecuteTime": {
     "end_time": "2025-09-15T08:37:03.968406Z",
     "start_time": "2025-09-15T08:37:03.963919Z"
    }
   },
   "cell_type": "code",
   "source": "hello_world()",
   "id": "8ab7d80e182481bb",
   "outputs": [
    {
     "name": "stdout",
     "output_type": "stream",
     "text": [
      "--- deco1 시작 ---\n",
      "--- deco2 시작 ---\n",
      "Hello, world!\n",
      "--- deco2 종료 ---\n",
      "--- deco1 종료 ---\n"
     ]
    }
   ],
   "execution_count": 72
  },
  {
   "metadata": {},
   "cell_type": "markdown",
   "source": "# 파라미터와 반환값을 처리하는 데코레이터",
   "id": "c4c4312d0c00b4ef"
  },
  {
   "metadata": {
    "ExecuteTime": {
     "end_time": "2025-09-15T08:41:36.539386Z",
     "start_time": "2025-09-15T08:41:36.536088Z"
    }
   },
   "cell_type": "code",
   "source": [
    "def add(x, y):\n",
    "    return x + y"
   ],
   "id": "7db74ee83ffa532c",
   "outputs": [],
   "execution_count": 80
  },
  {
   "metadata": {
    "ExecuteTime": {
     "end_time": "2025-09-15T08:41:37.563382Z",
     "start_time": "2025-09-15T08:41:37.559741Z"
    }
   },
   "cell_type": "code",
   "source": [
    "def trace(func):    # 데코레이터에서 호출할 함수를 아규먼트로 전달받음\n",
    "    def wrapper(x, y):  # 호출할 함수 func()과 동일하게 파라미터들을 선언.\n",
    "        r = func(x, y)  # 함수 func에게 파라미터 x와 y를 아규먼트로 전달하면서 호출.\n",
    "        print(f'{func.__name__}(x={x}, y={y}) -> {r}')\n",
    "        return r        # func의 리턴 값을 반환.\n",
    "\n",
    "    return wrapper"
   ],
   "id": "868ba3b2363f977c",
   "outputs": [],
   "execution_count": 81
  },
  {
   "metadata": {
    "ExecuteTime": {
     "end_time": "2025-09-15T08:41:39.096294Z",
     "start_time": "2025-09-15T08:41:39.092985Z"
    }
   },
   "cell_type": "code",
   "source": [
    "@trace\n",
    "def add(x, y):\n",
    "    return x + y"
   ],
   "id": "4cd39d530ca34fbe",
   "outputs": [],
   "execution_count": 82
  },
  {
   "metadata": {
    "ExecuteTime": {
     "end_time": "2025-09-15T08:41:40.620083Z",
     "start_time": "2025-09-15T08:41:40.615268Z"
    }
   },
   "cell_type": "code",
   "source": "result = add(1, 2)",
   "id": "b47e7c477aa1ae6a",
   "outputs": [
    {
     "name": "stdout",
     "output_type": "stream",
     "text": [
      "add(x=1, y=2) -> 3\n"
     ]
    }
   ],
   "execution_count": 83
  },
  {
   "metadata": {
    "ExecuteTime": {
     "end_time": "2025-09-15T08:41:45.495919Z",
     "start_time": "2025-09-15T08:41:45.492395Z"
    }
   },
   "cell_type": "code",
   "source": "print(result)",
   "id": "b657df98e8f7827",
   "outputs": [
    {
     "name": "stdout",
     "output_type": "stream",
     "text": [
      "3\n"
     ]
    }
   ],
   "execution_count": 84
  },
  {
   "metadata": {
    "ExecuteTime": {
     "end_time": "2025-09-15T08:42:03.393051Z",
     "start_time": "2025-09-15T08:42:03.390529Z"
    }
   },
   "cell_type": "code",
   "source": [
    "@trace\n",
    "def subtract(x, y):\n",
    "    return x - y"
   ],
   "id": "18c95742c3496889",
   "outputs": [],
   "execution_count": 85
  },
  {
   "metadata": {
    "ExecuteTime": {
     "end_time": "2025-09-15T08:42:09.775018Z",
     "start_time": "2025-09-15T08:42:09.771495Z"
    }
   },
   "cell_type": "code",
   "source": "result = subtract(1, 2)",
   "id": "fba8e4af74170348",
   "outputs": [
    {
     "name": "stdout",
     "output_type": "stream",
     "text": [
      "subtract(x=1, y=2) -> -1\n"
     ]
    }
   ],
   "execution_count": 86
  },
  {
   "metadata": {
    "ExecuteTime": {
     "end_time": "2025-09-15T08:42:13.148120Z",
     "start_time": "2025-09-15T08:42:13.143512Z"
    }
   },
   "cell_type": "code",
   "source": "print(result)",
   "id": "4a5d26c54e92df97",
   "outputs": [
    {
     "name": "stdout",
     "output_type": "stream",
     "text": [
      "-1\n"
     ]
    }
   ],
   "execution_count": 87
  },
  {
   "metadata": {},
   "cell_type": "markdown",
   "source": "# 가변길이 인수 함수 데코레이터",
   "id": "6d85e4f992abc704"
  },
  {
   "metadata": {
    "ExecuteTime": {
     "end_time": "2025-09-15T08:44:37.263477Z",
     "start_time": "2025-09-15T08:44:37.259247Z"
    }
   },
   "cell_type": "code",
   "source": [
    "def trace(func):    # 실제로 호출할 함수를 아규먼트로 전달받음\n",
    "    def wrapper(*args, **kwargs):   # 가변길이 인수로 파라미터를 선언\n",
    "        r = func(*args, **kwargs)   # 함수 func에게 args와 kwargs를 \"unpacking\"해서 아규먼트로 전달.\n",
    "        print(f'{func.__name__}(args={args}, kwargs={kwargs}) -> {r}')\n",
    "        return r        # func의 리턴 값을 반환.\n",
    "\n",
    "    return wrapper"
   ],
   "id": "e4b7f49b17a97cc2",
   "outputs": [],
   "execution_count": 89
  },
  {
   "metadata": {
    "ExecuteTime": {
     "end_time": "2025-09-15T08:44:49.535892Z",
     "start_time": "2025-09-15T08:44:49.532335Z"
    }
   },
   "cell_type": "code",
   "source": [
    "@trace\n",
    "def get_max(*args):\n",
    "    return max(args)"
   ],
   "id": "b9a84cbffcee699e",
   "outputs": [],
   "execution_count": 90
  },
  {
   "metadata": {
    "ExecuteTime": {
     "end_time": "2025-09-15T08:45:04.288424Z",
     "start_time": "2025-09-15T08:45:04.284281Z"
    }
   },
   "cell_type": "code",
   "source": "result = get_max(10, 20, 0, 1, 100, 55)",
   "id": "b3e07bed881a47e1",
   "outputs": [
    {
     "name": "stdout",
     "output_type": "stream",
     "text": [
      "get_max(args=(10, 20, 0, 1, 100, 55), kwargs={}) -> 100\n"
     ]
    }
   ],
   "execution_count": 91
  },
  {
   "metadata": {
    "ExecuteTime": {
     "end_time": "2025-09-15T08:45:10.036776Z",
     "start_time": "2025-09-15T08:45:10.032093Z"
    }
   },
   "cell_type": "code",
   "source": "print(result)",
   "id": "6a87647e63ed338c",
   "outputs": [
    {
     "name": "stdout",
     "output_type": "stream",
     "text": [
      "100\n"
     ]
    }
   ],
   "execution_count": 92
  },
  {
   "metadata": {
    "ExecuteTime": {
     "end_time": "2025-09-15T08:45:17.906296Z",
     "start_time": "2025-09-15T08:45:17.890653Z"
    }
   },
   "cell_type": "code",
   "source": "result = get_max(1, 10, -1)",
   "id": "a9bde5f7fcce1b9",
   "outputs": [
    {
     "name": "stdout",
     "output_type": "stream",
     "text": [
      "get_max(args=(1, 10, -1), kwargs={}) -> 10\n"
     ]
    }
   ],
   "execution_count": 93
  },
  {
   "metadata": {
    "ExecuteTime": {
     "end_time": "2025-09-15T08:45:19.957479Z",
     "start_time": "2025-09-15T08:45:19.953459Z"
    }
   },
   "cell_type": "code",
   "source": "print(result)",
   "id": "977808a336a26248",
   "outputs": [
    {
     "name": "stdout",
     "output_type": "stream",
     "text": [
      "10\n"
     ]
    }
   ],
   "execution_count": 94
  },
  {
   "metadata": {},
   "cell_type": "markdown",
   "source": "# unpacking 연산자",
   "id": "a7a7e778b2752fc8"
  },
  {
   "metadata": {
    "ExecuteTime": {
     "end_time": "2025-09-15T08:45:45.202858Z",
     "start_time": "2025-09-15T08:45:45.199231Z"
    }
   },
   "cell_type": "code",
   "source": [
    "def add_three_number(x, y, z):\n",
    "    return x + y + z"
   ],
   "id": "91d8b086485eb461",
   "outputs": [],
   "execution_count": 95
  },
  {
   "metadata": {
    "ExecuteTime": {
     "end_time": "2025-09-15T08:45:49.982811Z",
     "start_time": "2025-09-15T08:45:49.978842Z"
    }
   },
   "cell_type": "code",
   "source": "add_three_number(1, 2, 3)",
   "id": "33c40e076025cc19",
   "outputs": [
    {
     "data": {
      "text/plain": [
       "6"
      ]
     },
     "execution_count": 96,
     "metadata": {},
     "output_type": "execute_result"
    }
   ],
   "execution_count": 96
  },
  {
   "metadata": {
    "ExecuteTime": {
     "end_time": "2025-09-15T08:46:25.612751Z",
     "start_time": "2025-09-15T08:46:25.596278Z"
    }
   },
   "cell_type": "code",
   "source": [
    "try:\n",
    "    r = add_three_number((1, 2, 3))\n",
    "    print(r)\n",
    "except Exception as e:\n",
    "    print(e)"
   ],
   "id": "d0c8e375002dc112",
   "outputs": [
    {
     "name": "stdout",
     "output_type": "stream",
     "text": [
      "add_three_number() missing 2 required positional arguments: 'y' and 'z'\n"
     ]
    }
   ],
   "execution_count": 97
  },
  {
   "metadata": {
    "ExecuteTime": {
     "end_time": "2025-09-15T08:47:00.261584Z",
     "start_time": "2025-09-15T08:47:00.257542Z"
    }
   },
   "cell_type": "code",
   "source": [
    "try:\n",
    "    r = add_three_number(*(1, 2, 3))    # *(1, 2, 3) -> 1, 2, 3\n",
    "    print(r)\n",
    "except Exception as e:\n",
    "    print(e)"
   ],
   "id": "21e7d458e3b67af6",
   "outputs": [
    {
     "name": "stdout",
     "output_type": "stream",
     "text": [
      "6\n"
     ]
    }
   ],
   "execution_count": 98
  },
  {
   "metadata": {
    "ExecuteTime": {
     "end_time": "2025-09-15T08:47:23.310374Z",
     "start_time": "2025-09-15T08:47:23.306943Z"
    }
   },
   "cell_type": "code",
   "source": [
    "def print_info(name, age):\n",
    "    print(f'이름 : {name}, 나이: {age}')"
   ],
   "id": "c10e733811f1972a",
   "outputs": [],
   "execution_count": 99
  },
  {
   "metadata": {
    "ExecuteTime": {
     "end_time": "2025-09-15T08:47:44.535899Z",
     "start_time": "2025-09-15T08:47:44.531600Z"
    }
   },
   "cell_type": "code",
   "source": "print_info(name='오쌤', age=16)",
   "id": "3de4a9277bfd08e3",
   "outputs": [
    {
     "name": "stdout",
     "output_type": "stream",
     "text": [
      "이름 : 오쌤, 나이: 16\n"
     ]
    }
   ],
   "execution_count": 100
  },
  {
   "metadata": {
    "ExecuteTime": {
     "end_time": "2025-09-15T08:48:08.902832Z",
     "start_time": "2025-09-15T08:48:08.899424Z"
    }
   },
   "cell_type": "code",
   "source": [
    "try:\n",
    "    print_info({'name': '홍길동', 'age':20})\n",
    "except Exception as e:\n",
    "    print(e)"
   ],
   "id": "202aa5eaa6e586a7",
   "outputs": [
    {
     "name": "stdout",
     "output_type": "stream",
     "text": [
      "print_info() missing 1 required positional argument: 'age'\n"
     ]
    }
   ],
   "execution_count": 101
  },
  {
   "metadata": {
    "ExecuteTime": {
     "end_time": "2025-09-15T08:49:02.901478Z",
     "start_time": "2025-09-15T08:49:02.896769Z"
    }
   },
   "cell_type": "code",
   "source": [
    "try:\n",
    "    print_info(**{'name': '홍길동', 'age':20})\n",
    "    # unpacking 연산자 : **{key1: value1, key2: value2} -> key1=value1, key2=value2\n",
    "except Exception as e:\n",
    "    print(e)"
   ],
   "id": "935198f9f4860af8",
   "outputs": [
    {
     "name": "stdout",
     "output_type": "stream",
     "text": [
      "이름 : 홍길동, 나이: 20\n"
     ]
    }
   ],
   "execution_count": 102
  },
  {
   "metadata": {},
   "cell_type": "code",
   "outputs": [],
   "execution_count": null,
   "source": "",
   "id": "1840ec6bb52f4156"
  },
  {
   "metadata": {},
   "cell_type": "code",
   "outputs": [],
   "execution_count": null,
   "source": "",
   "id": "13fab6c1d329496e"
  },
  {
   "metadata": {},
   "cell_type": "markdown",
   "source": "# 파라미터를 갖는 데코레이터 작성",
   "id": "4478ea700cf0b89c"
  },
  {
   "cell_type": "code",
   "id": "initial_id",
   "metadata": {
    "collapsed": true,
    "ExecuteTime": {
     "end_time": "2025-09-15T04:52:06.663960Z",
     "start_time": "2025-09-15T04:52:06.658512Z"
    }
   },
   "source": [
    "def is_multiple(n):             # 파라미터를 갖는 데코레이터\n",
    "    def decorator(func):        # 호출할 함수를 아규먼트로 전달받음.\n",
    "        def wrapper(x, y):      # 파라미터 x, y - 호출할 함수 func의 아규먼트로 사용.\n",
    "            r = func(x, y)\n",
    "            print(f'{func.__name__}(x={x}, y={y}) -> {r}')\n",
    "            if r % n == 0:\n",
    "                print(f'{func.__name__}의 리턴 값은 {n}의 배수입니다.')\n",
    "            else:\n",
    "                print(f'{func.__name__}의 리턴 값은 {n}의 배수가 아닙니다.')\n",
    "            return r\n",
    "\n",
    "        return wrapper\n",
    "\n",
    "    return decorator"
   ],
   "outputs": [],
   "execution_count": 1
  },
  {
   "metadata": {
    "ExecuteTime": {
     "end_time": "2025-09-15T04:53:00.659131Z",
     "start_time": "2025-09-15T04:53:00.655562Z"
    }
   },
   "cell_type": "code",
   "source": [
    "@is_multiple(2)\n",
    "def add(x, y):\n",
    "    return x + y"
   ],
   "id": "eddbf8353c15fdce",
   "outputs": [],
   "execution_count": 2
  },
  {
   "metadata": {
    "ExecuteTime": {
     "end_time": "2025-09-15T04:53:02.727981Z",
     "start_time": "2025-09-15T04:53:02.723901Z"
    }
   },
   "cell_type": "code",
   "source": "result = add(1, 2)",
   "id": "432bea17f5618ae7",
   "outputs": [
    {
     "name": "stdout",
     "output_type": "stream",
     "text": [
      "add(x=1, y=2) -> 3\n",
      "add의 리턴 값은 2의 배수가 아닙니다.\n"
     ]
    }
   ],
   "execution_count": 3
  },
  {
   "metadata": {
    "ExecuteTime": {
     "end_time": "2025-09-15T04:53:05.707753Z",
     "start_time": "2025-09-15T04:53:05.702883Z"
    }
   },
   "cell_type": "code",
   "source": "print(result)",
   "id": "f8b60cdde866ffbd",
   "outputs": [
    {
     "name": "stdout",
     "output_type": "stream",
     "text": [
      "3\n"
     ]
    }
   ],
   "execution_count": 4
  },
  {
   "metadata": {
    "ExecuteTime": {
     "end_time": "2025-09-15T04:53:07.457193Z",
     "start_time": "2025-09-15T04:53:07.453082Z"
    }
   },
   "cell_type": "code",
   "source": "result = add(10, 20)",
   "id": "4271e02c22d5ef58",
   "outputs": [
    {
     "name": "stdout",
     "output_type": "stream",
     "text": [
      "add(x=10, y=20) -> 30\n",
      "add의 리턴 값은 2의 배수입니다.\n"
     ]
    }
   ],
   "execution_count": 5
  },
  {
   "metadata": {
    "ExecuteTime": {
     "end_time": "2025-09-15T04:53:16.344683Z",
     "start_time": "2025-09-15T04:53:16.340572Z"
    }
   },
   "cell_type": "code",
   "source": "print(result)",
   "id": "bcfbb3c1766b0170",
   "outputs": [
    {
     "name": "stdout",
     "output_type": "stream",
     "text": [
      "30\n"
     ]
    }
   ],
   "execution_count": 6
  },
  {
   "metadata": {
    "ExecuteTime": {
     "end_time": "2025-09-15T04:53:29.775961Z",
     "start_time": "2025-09-15T04:53:29.773518Z"
    }
   },
   "cell_type": "code",
   "source": [
    "@is_multiple(3)         # 함수를 꾸며주는 데코레이터\n",
    "def subtract(x, y):\n",
    "    return x - y"
   ],
   "id": "4cf810224f61a436",
   "outputs": [],
   "execution_count": 7
  },
  {
   "metadata": {
    "ExecuteTime": {
     "end_time": "2025-09-15T04:54:53.108233Z",
     "start_time": "2025-09-15T04:54:53.104192Z"
    }
   },
   "cell_type": "code",
   "source": "result = subtract(10, 1)",
   "id": "6807c095140dd0d6",
   "outputs": [
    {
     "name": "stdout",
     "output_type": "stream",
     "text": [
      "subtract(x=10, y=1) -> 9\n",
      "subtract의 리턴 값은 3의 배수입니다.\n"
     ]
    }
   ],
   "execution_count": 10
  },
  {
   "metadata": {
    "ExecuteTime": {
     "end_time": "2025-09-15T04:55:41.149457Z",
     "start_time": "2025-09-15T04:55:41.145492Z"
    }
   },
   "cell_type": "code",
   "source": "print(result)",
   "id": "f088fdd78b4fc029",
   "outputs": [
    {
     "name": "stdout",
     "output_type": "stream",
     "text": [
      "9\n"
     ]
    }
   ],
   "execution_count": 11
  },
  {
   "metadata": {
    "ExecuteTime": {
     "end_time": "2025-09-15T04:57:09.766606Z",
     "start_time": "2025-09-15T04:57:09.762617Z"
    }
   },
   "cell_type": "code",
   "source": [
    "@is_multiple(2)\n",
    "@is_multiple(3)\n",
    "def add(x, y):\n",
    "    return x + y"
   ],
   "id": "d70337bc6295764",
   "outputs": [],
   "execution_count": 12
  },
  {
   "metadata": {
    "ExecuteTime": {
     "end_time": "2025-09-15T04:57:24.054665Z",
     "start_time": "2025-09-15T04:57:24.051074Z"
    }
   },
   "cell_type": "code",
   "source": "result = add(2, 4)",
   "id": "aef8268e44625008",
   "outputs": [
    {
     "name": "stdout",
     "output_type": "stream",
     "text": [
      "add(x=2, y=4) -> 6\n",
      "add의 리턴 값은 3의 배수입니다.\n",
      "wrapper(x=2, y=4) -> 6\n",
      "wrapper의 리턴 값은 2의 배수입니다.\n"
     ]
    }
   ],
   "execution_count": 13
  },
  {
   "metadata": {
    "ExecuteTime": {
     "end_time": "2025-09-15T05:01:28.185870Z",
     "start_time": "2025-09-15T05:01:28.182078Z"
    }
   },
   "cell_type": "code",
   "source": "print(result)",
   "id": "beb2985ef2bf4421",
   "outputs": [
    {
     "name": "stdout",
     "output_type": "stream",
     "text": [
      "6\n"
     ]
    }
   ],
   "execution_count": 14
  },
  {
   "metadata": {},
   "cell_type": "markdown",
   "source": [
    "데코레이터(`@decorator`)를 여러 개 사용하면 데코레이터에서 반환된 wrapper 함수가 다른 데코레이터의 아규먼트로 전달됨. 그래서 두번째 데코레이터에서 `__name__` 속성의 값은 `wrapper`가 됨.\n",
    "\n",
    "처음에 전달된 함수 이름을 그대로 출력하고 싶을 때 `functools` 모듈의 `wraps` 데코레이터를 사용하면 됨."
   ],
   "id": "e798ddece053a088"
  },
  {
   "metadata": {
    "ExecuteTime": {
     "end_time": "2025-09-15T05:04:49.940582Z",
     "start_time": "2025-09-15T05:04:49.937070Z"
    }
   },
   "cell_type": "code",
   "source": "import functools",
   "id": "537fc93969f8fc5b",
   "outputs": [],
   "execution_count": 15
  },
  {
   "metadata": {
    "ExecuteTime": {
     "end_time": "2025-09-15T05:07:30.537781Z",
     "start_time": "2025-09-15T05:07:30.532950Z"
    }
   },
   "cell_type": "code",
   "source": [
    "def is_multiple(n):\n",
    "    def decorator(func):\n",
    "        @functools.wraps(func)\n",
    "        def wrapper(x, y):\n",
    "            r = func(x, y)\n",
    "            print(f'{func.__name__}(x={x}, y={y}) -> {r}')\n",
    "            if r % n == 0:\n",
    "                print(f'{func.__name__}의 리턴 값은 {n}의 배수입니다.')\n",
    "            else:\n",
    "                print(f'{func.__name__}의 리턴 값은 {n}의 배수가 아닙니다.')\n",
    "            return r\n",
    "\n",
    "        return wrapper\n",
    "\n",
    "    return decorator"
   ],
   "id": "8b022ade6204561b",
   "outputs": [],
   "execution_count": 16
  },
  {
   "metadata": {
    "ExecuteTime": {
     "end_time": "2025-09-15T05:09:23.631287Z",
     "start_time": "2025-09-15T05:09:23.628168Z"
    }
   },
   "cell_type": "code",
   "source": [
    "@is_multiple(2)\n",
    "@is_multiple(3)\n",
    "def subtract(x, y):\n",
    "    return x - y"
   ],
   "id": "ef7921b8c37fafa3",
   "outputs": [],
   "execution_count": 17
  },
  {
   "metadata": {
    "ExecuteTime": {
     "end_time": "2025-09-15T05:09:52.766353Z",
     "start_time": "2025-09-15T05:09:52.761818Z"
    }
   },
   "cell_type": "code",
   "source": "result = subtract(10, 1)",
   "id": "355f62059bd78ace",
   "outputs": [
    {
     "name": "stdout",
     "output_type": "stream",
     "text": [
      "subtract(x=10, y=1) -> 9\n",
      "subtract의 리턴 값은 3의 배수입니다.\n",
      "subtract(x=10, y=1) -> 9\n",
      "subtract의 리턴 값은 2의 배수가 아닙니다.\n"
     ]
    }
   ],
   "execution_count": 18
  },
  {
   "metadata": {},
   "cell_type": "markdown",
   "source": "# 클래스로 데코레이터 작성",
   "id": "70a4d65f965c8a5e"
  },
  {
   "metadata": {
    "ExecuteTime": {
     "end_time": "2025-09-15T05:17:53.105465Z",
     "start_time": "2025-09-15T05:17:53.100446Z"
    }
   },
   "cell_type": "code",
   "source": [
    "class Square:\n",
    "    def __init__(self):\n",
    "        print('Square 객체 생성됨.')\n",
    "\n",
    "    def __call__(self, n):\n",
    "        return n ** 2"
   ],
   "id": "a6cf7d1151f8a047",
   "outputs": [],
   "execution_count": 25
  },
  {
   "metadata": {
    "ExecuteTime": {
     "end_time": "2025-09-15T05:18:20.979803Z",
     "start_time": "2025-09-15T05:18:20.975745Z"
    }
   },
   "cell_type": "code",
   "source": "square = Square()       # 생성자 호출 -> __init__ 메서드 호출",
   "id": "272959ea1c2f33cd",
   "outputs": [
    {
     "name": "stdout",
     "output_type": "stream",
     "text": [
      "Square 객체 생성됨.\n"
     ]
    }
   ],
   "execution_count": 27
  },
  {
   "metadata": {
    "ExecuteTime": {
     "end_time": "2025-09-15T05:19:21.735052Z",
     "start_time": "2025-09-15T05:19:21.730692Z"
    }
   },
   "cell_type": "code",
   "source": "square(3)       # 인스턴스를 함수처럼 호출 -> __call__ 메서드 호출",
   "id": "abb3d049f7923db4",
   "outputs": [
    {
     "data": {
      "text/plain": [
       "9"
      ]
     },
     "execution_count": 30,
     "metadata": {},
     "output_type": "execute_result"
    }
   ],
   "execution_count": 30
  },
  {
   "metadata": {
    "ExecuteTime": {
     "end_time": "2025-09-15T05:46:42.892266Z",
     "start_time": "2025-09-15T05:46:42.887509Z"
    }
   },
   "cell_type": "code",
   "source": [
    "class Trace:\n",
    "    def __init__(self, func):   # 호출할 함수를 아규먼트로 전달받음.\n",
    "        self.func = func\n",
    "\n",
    "    def __call__(self, *args):  # 데코레이터 함수에서 지역 함수 wrapper가 해야할 일.\n",
    "        print(f'=== {self.func.__name__} 시작 ===')\n",
    "        r = self.func(*args)\n",
    "        print(f'{self.func.__name__}(args={args}) -> {r}')\n",
    "        print(f'=== {self.func.__name__} 종료 ===')\n",
    "\n",
    "        return r"
   ],
   "id": "8f3cd904ecfabc57",
   "outputs": [],
   "execution_count": 39
  },
  {
   "metadata": {
    "ExecuteTime": {
     "end_time": "2025-09-15T05:48:26.229332Z",
     "start_time": "2025-09-15T05:48:26.226129Z"
    }
   },
   "cell_type": "code",
   "source": [
    "def multiply(x, y):\n",
    "    return x * y"
   ],
   "id": "f4baddc93a5b860f",
   "outputs": [],
   "execution_count": 42
  },
  {
   "metadata": {
    "ExecuteTime": {
     "end_time": "2025-09-15T05:48:27.784269Z",
     "start_time": "2025-09-15T05:48:27.780985Z"
    }
   },
   "cell_type": "code",
   "source": "trace = Trace(multiply)",
   "id": "ce278627f4c12de5",
   "outputs": [],
   "execution_count": 43
  },
  {
   "metadata": {
    "ExecuteTime": {
     "end_time": "2025-09-15T05:49:16.799626Z",
     "start_time": "2025-09-15T05:49:16.795895Z"
    }
   },
   "cell_type": "code",
   "source": "result = trace(2, 3)",
   "id": "f5cd34e3928ced7a",
   "outputs": [
    {
     "name": "stdout",
     "output_type": "stream",
     "text": [
      "=== multiply 시작 ===\n",
      "multiply(args=(2, 3)) -> 6\n",
      "=== multiply 종료 ===\n"
     ]
    }
   ],
   "execution_count": 46
  },
  {
   "metadata": {
    "ExecuteTime": {
     "end_time": "2025-09-15T05:51:53.809800Z",
     "start_time": "2025-09-15T05:51:53.806105Z"
    }
   },
   "cell_type": "code",
   "source": "print(result)",
   "id": "11ea197309e4c379",
   "outputs": [
    {
     "name": "stdout",
     "output_type": "stream",
     "text": [
      "6\n"
     ]
    }
   ],
   "execution_count": 47
  },
  {
   "metadata": {
    "ExecuteTime": {
     "end_time": "2025-09-15T05:52:36.924020Z",
     "start_time": "2025-09-15T05:52:36.920760Z"
    }
   },
   "cell_type": "code",
   "source": [
    "@Trace\n",
    "def divide(x, y):\n",
    "    return x / y"
   ],
   "id": "35b11cc9498f03b7",
   "outputs": [],
   "execution_count": 48
  },
  {
   "metadata": {
    "ExecuteTime": {
     "end_time": "2025-09-15T05:52:41.230790Z",
     "start_time": "2025-09-15T05:52:41.227280Z"
    }
   },
   "cell_type": "code",
   "source": "result = divide(1, 2)",
   "id": "ed5dc34227cacfd6",
   "outputs": [
    {
     "name": "stdout",
     "output_type": "stream",
     "text": [
      "=== divide 시작 ===\n",
      "divide(args=(1, 2)) -> 0.5\n",
      "=== divide 종료 ===\n"
     ]
    }
   ],
   "execution_count": 49
  },
  {
   "metadata": {
    "ExecuteTime": {
     "end_time": "2025-09-15T05:52:45.699540Z",
     "start_time": "2025-09-15T05:52:45.694368Z"
    }
   },
   "cell_type": "code",
   "source": "print(result)",
   "id": "d6f7e5ae2a990b5a",
   "outputs": [
    {
     "name": "stdout",
     "output_type": "stream",
     "text": [
      "0.5\n"
     ]
    }
   ],
   "execution_count": 50
  },
  {
   "metadata": {},
   "cell_type": "code",
   "outputs": [],
   "execution_count": null,
   "source": "",
   "id": "8d15327358eaa747"
  }
 ],
 "metadata": {
  "kernelspec": {
   "display_name": "Python 3",
   "language": "python",
   "name": "python3"
  },
  "language_info": {
   "codemirror_mode": {
    "name": "ipython",
    "version": 2
   },
   "file_extension": ".py",
   "mimetype": "text/x-python",
   "name": "python",
   "nbconvert_exporter": "python",
   "pygments_lexer": "ipython2",
   "version": "2.7.6"
  }
 },
 "nbformat": 4,
 "nbformat_minor": 5
}
