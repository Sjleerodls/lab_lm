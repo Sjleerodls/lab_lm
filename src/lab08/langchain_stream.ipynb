{
 "cells": [
  {
   "metadata": {
    "ExecuteTime": {
     "end_time": "2025-09-16T05:38:15.972328Z",
     "start_time": "2025-09-16T05:38:15.336582Z"
    }
   },
   "cell_type": "code",
   "source": [
    "from dotenv import load_dotenv\n",
    "from langchain_core.output_parsers import StrOutputParser\n",
    "from langchain_openai import ChatOpenAI\n",
    "from langchain_core.messages import SystemMessage, HumanMessage\n",
    "\n",
    "from src.lab08.langchain_tools import tools, tool_dict\n",
    "from src.lab08.langchain_tools import get_current_time, get_yf_stock_history"
   ],
   "id": "6f245b932d3bcb44",
   "outputs": [],
   "execution_count": 10
  },
  {
   "metadata": {
    "ExecuteTime": {
     "end_time": "2025-09-16T05:11:53.991898Z",
     "start_time": "2025-09-16T05:11:53.985400Z"
    }
   },
   "cell_type": "code",
   "source": "load_dotenv()   # .env 파일의 api_key 정보를 환경 변수로 로딩.",
   "id": "72faa19b81eb9b25",
   "outputs": [
    {
     "data": {
      "text/plain": [
       "True"
      ]
     },
     "execution_count": 2,
     "metadata": {},
     "output_type": "execute_result"
    }
   ],
   "execution_count": 2
  },
  {
   "metadata": {},
   "cell_type": "markdown",
   "source": "# 한 번에 출력하기",
   "id": "1481913bf662b6d"
  },
  {
   "metadata": {},
   "cell_type": "markdown",
   "source": "## 언어 모델만 있는 경우",
   "id": "41da938d750e600"
  },
  {
   "cell_type": "code",
   "id": "initial_id",
   "metadata": {
    "collapsed": true,
    "ExecuteTime": {
     "end_time": "2025-09-16T05:12:57.604736Z",
     "start_time": "2025-09-16T05:12:56.865904Z"
    }
   },
   "source": "model = ChatOpenAI(model='gpt-4o-mini')",
   "outputs": [],
   "execution_count": 3
  },
  {
   "metadata": {
    "ExecuteTime": {
     "end_time": "2025-09-16T05:13:36.413559Z",
     "start_time": "2025-09-16T05:13:36.410566Z"
    }
   },
   "cell_type": "code",
   "source": "parser = StrOutputParser()",
   "id": "2f715455eea7b310",
   "outputs": [],
   "execution_count": 4
  },
  {
   "metadata": {
    "ExecuteTime": {
     "end_time": "2025-09-16T05:13:55.423250Z",
     "start_time": "2025-09-16T05:13:55.419925Z"
    }
   },
   "cell_type": "code",
   "source": "chain = model | parser",
   "id": "b09afeb1b492d168",
   "outputs": [],
   "execution_count": 5
  },
  {
   "metadata": {
    "ExecuteTime": {
     "end_time": "2025-09-16T05:15:08.164754Z",
     "start_time": "2025-09-16T05:15:08.161488Z"
    }
   },
   "cell_type": "code",
   "source": "messages = [HumanMessage('한강 작가의 채식주의자를 1000자 이내로 요약해줘.')]",
   "id": "a10a1145ec4b6264",
   "outputs": [],
   "execution_count": 6
  },
  {
   "metadata": {
    "ExecuteTime": {
     "end_time": "2025-09-16T05:16:21.707393Z",
     "start_time": "2025-09-16T05:16:16.019150Z"
    }
   },
   "cell_type": "code",
   "source": "ai_message = chain.invoke(input=messages)",
   "id": "f5b458b0e289af61",
   "outputs": [],
   "execution_count": 7
  },
  {
   "metadata": {
    "ExecuteTime": {
     "end_time": "2025-09-16T05:17:14.937511Z",
     "start_time": "2025-09-16T05:17:14.933944Z"
    }
   },
   "cell_type": "code",
   "source": "print(ai_message)",
   "id": "45b1ce839755f13d",
   "outputs": [
    {
     "name": "stdout",
     "output_type": "stream",
     "text": [
      "한강의 소설 \"채식주의자\"는 3부로 구성된 이야기로, 주인공 영혜의 비극적인 변화를 중심으로 전개됩니다. 이야기의 시작은 평범한 주부인 영혜가 갑작스럽게 채식주의자가 되겠다고 선언하면서 시작됩니다. 그녀는 고기를 일체 먹지 않겠다고 결심하고, 이를 통해 자신이 처한 가족과 사회의 억압적인 환경에서 벗어나고자 합니다.\n",
      "\n",
      "영혜의 변화를 이해하려는 가족은 혼란에 빠지고, 그녀의 남편인 상욱은 영혜의 결정이 자신과의 관계에 미치는 영향을 받아 괴로워합니다. 영혜의 가족은 그녀의 선택을 이해하기는커녕, 점차 그녀를 소외시키고 비난하게 됩니다. 영혜의 채식주의는 단순한 식습관의 변화가 아니라, 내면의 고통과 개인의 자유에 대한 갈망을 상징합니다.\n",
      "\n",
      "소설은 영혜가 갇힌 현실에서 탈출하려는 시도로 해석될 수 있으며, 그 과정에서 인간의 본성과 욕망, 그리고 사회적 압박에 대한 깊은 성찰을 제공합니다. 글은 현대 사회에서의 인간관계, 자아의 정체성 및 개인의 선택이 어떻게 달라질 수 있는지를 탐구하며, 마지막에는 영혜의 삶이 어떻게 비극적으로 마무리되는지를 보여줍니다. \"채식주의자\"는 결국 인간의 내면과 사회적 갈등에 대한 날카로운 고찰을 담고 있습니다.\n"
     ]
    }
   ],
   "execution_count": 8
  },
  {
   "metadata": {},
   "cell_type": "markdown",
   "source": "## 도구를 설정한 경우 한 번에 출력하기",
   "id": "7d8adcaa21bcfe42"
  },
  {
   "metadata": {
    "ExecuteTime": {
     "end_time": "2025-09-16T05:40:55.881501Z",
     "start_time": "2025-09-16T05:40:55.872378Z"
    }
   },
   "cell_type": "code",
   "source": [
    "# AI 모델과 도구 목록을 바인딩.\n",
    "model_with_tools = model.bind_tools(tools=tools)"
   ],
   "id": "dad26483f62562aa",
   "outputs": [],
   "execution_count": 11
  },
  {
   "metadata": {
    "ExecuteTime": {
     "end_time": "2025-09-16T05:41:23.148216Z",
     "start_time": "2025-09-16T05:41:23.144748Z"
    }
   },
   "cell_type": "code",
   "source": "messages = [HumanMessage('서울, 부산, LA의 현재 시간을 비교해줘.')]",
   "id": "7271fa3d87b470e5",
   "outputs": [],
   "execution_count": 12
  },
  {
   "metadata": {
    "ExecuteTime": {
     "end_time": "2025-09-16T05:42:30.620548Z",
     "start_time": "2025-09-16T05:42:28.904893Z"
    }
   },
   "cell_type": "code",
   "source": "ai_message = model_with_tools.invoke(input=messages)",
   "id": "927db477c36718ab",
   "outputs": [],
   "execution_count": 13
  },
  {
   "metadata": {
    "ExecuteTime": {
     "end_time": "2025-09-16T05:42:36.577954Z",
     "start_time": "2025-09-16T05:42:36.574235Z"
    }
   },
   "cell_type": "code",
   "source": "ai_message.pretty_print()",
   "id": "3fb85f90ff3cd9be",
   "outputs": [
    {
     "name": "stdout",
     "output_type": "stream",
     "text": [
      "==================================\u001B[1m Ai Message \u001B[0m==================================\n",
      "Tool Calls:\n",
      "  get_current_time (call_aenXL72Wu2vHSsSqqMi6voyw)\n",
      " Call ID: call_aenXL72Wu2vHSsSqqMi6voyw\n",
      "  Args:\n",
      "    timezone: Asia/Seoul\n",
      "    location: 서울\n",
      "  get_current_time (call_rDtDmMg0Puf4f0U9BeTr1gfJ)\n",
      " Call ID: call_rDtDmMg0Puf4f0U9BeTr1gfJ\n",
      "  Args:\n",
      "    timezone: Asia/Seoul\n",
      "    location: 부산\n",
      "  get_current_time (call_cbPPD8uwUckEwVppYcgRX1p8)\n",
      " Call ID: call_cbPPD8uwUckEwVppYcgRX1p8\n",
      "  Args:\n",
      "    timezone: America/Los_Angeles\n",
      "    location: LA\n"
     ]
    }
   ],
   "execution_count": 14
  },
  {
   "metadata": {
    "ExecuteTime": {
     "end_time": "2025-09-16T05:45:17.596823Z",
     "start_time": "2025-09-16T05:45:17.590827Z"
    }
   },
   "cell_type": "code",
   "source": "messages.append(ai_message)     # tool_calls를 가지고 있는 AIMessages를 대화 리스트에 추가!",
   "id": "73a55182881cfcfe",
   "outputs": [],
   "execution_count": 15
  },
  {
   "metadata": {
    "ExecuteTime": {
     "end_time": "2025-09-16T06:00:38.141647Z",
     "start_time": "2025-09-16T06:00:38.136913Z"
    }
   },
   "cell_type": "code",
   "source": [
    "for tool_call in ai_message.tool_calls:\n",
    "    print(tool_call['name'], tool_call['args'])\n",
    "    fn = tool_dict[tool_call['name']]       # tool_dict.get(tool_call['name'])\n",
    "    tool_msg = fn.invoke(input=tool_call)\n",
    "    messages.append(tool_msg)"
   ],
   "id": "a009cbced82d2c4",
   "outputs": [
    {
     "name": "stdout",
     "output_type": "stream",
     "text": [
      "get_current_time {'timezone': 'Asia/Seoul', 'location': '서울'}\n",
      "get_current_time {'timezone': 'Asia/Seoul', 'location': '부산'}\n",
      "get_current_time {'timezone': 'America/Los_Angeles', 'location': 'LA'}\n"
     ]
    }
   ],
   "execution_count": 21
  },
  {
   "metadata": {
    "ExecuteTime": {
     "end_time": "2025-09-16T06:00:40.157320Z",
     "start_time": "2025-09-16T06:00:40.152923Z"
    }
   },
   "cell_type": "code",
   "source": [
    "for m in messages:\n",
    "    m.pretty_print()"
   ],
   "id": "9411747195021285",
   "outputs": [
    {
     "name": "stdout",
     "output_type": "stream",
     "text": [
      "================================\u001B[1m Human Message \u001B[0m=================================\n",
      "\n",
      "서울, 부산, LA의 현재 시간을 비교해줘.\n",
      "==================================\u001B[1m Ai Message \u001B[0m==================================\n",
      "Tool Calls:\n",
      "  get_current_time (call_aenXL72Wu2vHSsSqqMi6voyw)\n",
      " Call ID: call_aenXL72Wu2vHSsSqqMi6voyw\n",
      "  Args:\n",
      "    timezone: Asia/Seoul\n",
      "    location: 서울\n",
      "  get_current_time (call_rDtDmMg0Puf4f0U9BeTr1gfJ)\n",
      " Call ID: call_rDtDmMg0Puf4f0U9BeTr1gfJ\n",
      "  Args:\n",
      "    timezone: Asia/Seoul\n",
      "    location: 부산\n",
      "  get_current_time (call_cbPPD8uwUckEwVppYcgRX1p8)\n",
      " Call ID: call_cbPPD8uwUckEwVppYcgRX1p8\n",
      "  Args:\n",
      "    timezone: America/Los_Angeles\n",
      "    location: LA\n",
      "=================================\u001B[1m Tool Message \u001B[0m=================================\n",
      "Name: get_current_time\n",
      "\n",
      "2025-09-16 15:00:38 Asia/Seoul(서울)\n",
      "=================================\u001B[1m Tool Message \u001B[0m=================================\n",
      "Name: get_current_time\n",
      "\n",
      "2025-09-16 15:00:38 Asia/Seoul(부산)\n",
      "=================================\u001B[1m Tool Message \u001B[0m=================================\n",
      "Name: get_current_time\n",
      "\n",
      "2025-09-15 23:00:38 America/Los_Angeles(LA)\n"
     ]
    }
   ],
   "execution_count": 22
  },
  {
   "metadata": {
    "ExecuteTime": {
     "end_time": "2025-09-16T06:00:47.807322Z",
     "start_time": "2025-09-16T06:00:45.537827Z"
    }
   },
   "cell_type": "code",
   "source": "ai_message = model_with_tools.invoke(input=messages)",
   "id": "c7d0e5124a87f652",
   "outputs": [],
   "execution_count": 23
  },
  {
   "metadata": {
    "ExecuteTime": {
     "end_time": "2025-09-16T06:00:49.534237Z",
     "start_time": "2025-09-16T06:00:49.528605Z"
    }
   },
   "cell_type": "code",
   "source": "ai_message.pretty_print()",
   "id": "896db371eaeabbd2",
   "outputs": [
    {
     "name": "stdout",
     "output_type": "stream",
     "text": [
      "==================================\u001B[1m Ai Message \u001B[0m==================================\n",
      "\n",
      "현재 시간은 다음과 같습니다:\n",
      "\n",
      "- 서울: 2025-09-16 15:00:38\n",
      "- 부산: 2025-09-16 15:00:38\n",
      "- LA: 2025-09-15 23:00:38\n",
      "\n",
      "서울과 부산은 동일한 시간이지만, LA는 한국보다 16시간 늦은 시간을 보여줍니다.\n"
     ]
    }
   ],
   "execution_count": 24
  },
  {
   "metadata": {},
   "cell_type": "markdown",
   "source": "# 언어 모델만 있는 경우 스트리밍 방식으로 출력하기",
   "id": "2845668418cff363"
  },
  {
   "metadata": {
    "ExecuteTime": {
     "end_time": "2025-09-16T06:10:12.425268Z",
     "start_time": "2025-09-16T06:10:12.421395Z"
    }
   },
   "cell_type": "code",
   "source": "messages = [HumanMessage('한강 작가의 채식주의자를 1000자 이내로 요약해줘.')]",
   "id": "6b37aa87dee97bdb",
   "outputs": [],
   "execution_count": 37
  },
  {
   "metadata": {
    "ExecuteTime": {
     "end_time": "2025-09-16T06:10:13.066422Z",
     "start_time": "2025-09-16T06:10:13.062404Z"
    }
   },
   "cell_type": "code",
   "source": "response = model.stream(input=messages)",
   "id": "376f9963a58d3219",
   "outputs": [],
   "execution_count": 38
  },
  {
   "metadata": {
    "ExecuteTime": {
     "end_time": "2025-09-16T06:10:13.746859Z",
     "start_time": "2025-09-16T06:10:13.741987Z"
    }
   },
   "cell_type": "code",
   "source": "type(response)  #> generator: for-in 구문에서 반복할 때마다 어떤 값을 yield(반환)하는 객체.",
   "id": "c093bc4dc173ec17",
   "outputs": [
    {
     "data": {
      "text/plain": [
       "generator"
      ]
     },
     "execution_count": 39,
     "metadata": {},
     "output_type": "execute_result"
    }
   ],
   "execution_count": 39
  },
  {
   "metadata": {
    "ExecuteTime": {
     "end_time": "2025-09-16T06:10:19.426159Z",
     "start_time": "2025-09-16T06:10:14.391182Z"
    }
   },
   "cell_type": "code",
   "source": [
    "for r in response:\n",
    "    print(r.content, end='')"
   ],
   "id": "8f197d3188380bde",
   "outputs": [
    {
     "name": "stdout",
     "output_type": "stream",
     "text": [
      "한강의 소설 *채식주의자*는 주인공 영혜가 갑작스럽게 채식주의자가 되면서 시작되는 이야기를 그립니다. 영혜는 평범한 가정주부로 살고 있었지만, 어느 날 꿈 속에서의 경험을 통해 육식을 거부하게 되며 삶의 방식을 급격히 변화시킵니다. 이 결정은 그녀의 가족과 주변 사람들에게 큰 충격을 주고, 갈등을 일으키게 됩니다.\n",
      "\n",
      "소설은 세 개의 파트로 나뉘어 있고, 각각의 파트는 영혜의 남편, 형부, 그리고 동생의 시각에서 바라본 이야기를 담고 있습니다. 첫 번째 파트에서는 남편의 시점에서 영혜의 변화를 어떻게 받아들이는지를 보여주며, 그녀의 신념과 고뇌를 탐구합니다. 두 번째 파트에서는 형부가 영혜에게 집착하면서 발생하는 복잡한 감정선과 갈등을 다룹니다. 마지막으로, 세 번째 파트에서는 영혜의 동생이 그녀의 삶을 돌아보며 가족 간의 관계와 소외감을 탐구합니다.\n",
      "\n",
      "*채식주의자*는 인간 존재와 선택, 그리고 사회의 규범에 대한 질문을 던지며, 개인의 자유와 고뇌를 심오하게 탐구합니다. 영혜의 채식 선택은 단순한 식습관의 변화가 아니라, 더 깊은 상징성과 메시지를 지니고 있습니다. 이 작품은 현대 사회에서 인간의 정체성과 관계, 그리고 욕망을 성찰하는 중요한 이야기로 평가받습니다."
     ]
    }
   ],
   "execution_count": 40
  },
  {
   "metadata": {
    "ExecuteTime": {
     "end_time": "2025-09-16T06:13:15.122848Z",
     "start_time": "2025-09-16T06:13:07.350332Z"
    }
   },
   "cell_type": "code",
   "source": [
    "# model과 parser가 연결된 체인을 사용하는 경우\n",
    "response = chain.stream(input=[HumanMessage('해리포터와 비밀의 방의 내용을 1000자 이내로 요약해줘.')])\n",
    "for r in response:\n",
    "    print(r, end='')"
   ],
   "id": "b79fc827cec8ad50",
   "outputs": [
    {
     "name": "stdout",
     "output_type": "stream",
     "text": [
      "《해리 포터와 비밀의 방》은 J.K. 롤링의 해리 포터 시리즈 두 번째 책으로, 해리 포터가 호그와트 마법학교의 2학년을 보내는 이야기입니다.\n",
      "\n",
      "해리는 여름 방학을 모르고 지내고, 다시 호그와트에 돌아가기 위해 론 위즐리의 차를 타고 학교로 향합니다. 학교에 도착한 후, 해리는 이상한 사건들이 발생하고 있다는 소문을 듣게 됩니다. 여러 학생들이 의식 불명 상태로 쓰러지고, 교내에는 '비밀의 방'이라는 전설이 떠도는 상황입니다. 이 방에는 차별적인 존재가 숨겨져 있다고 합니다.\n",
      "\n",
      "해리는 친구 론과 헤르미온느와 함께 비밀의 방의 진실을 밝히기 위해 조사에 나섭니다. 그 과정에서 해리는 자신의 능력과 정체성에 대해 더 깊이 이해하게 됩니다. 해리는 파셀탑스(뱀과 대화할 수 있는 능력)를 가진 것을 통해 비밀의 방의 존재와 괴물의 정체를 추적합니다.\n",
      "\n",
      "결국 해리와 친구들은 비밀의 방을 찾고, 그곳에서 '바실리스크'라는 큰 뱀과 맞닥뜨리게 됩니다. 해리는 친구들이 도와줌으로써 바실리스크를 물리치고, 위험에 처한 지니 위즐리를 구합니다. 이 과정에서 해리는 자신의 용기와 우정을 다시 한번 확인하며, 자신의 정체성에 대한 중요한 단서를 얻습니다.\n",
      "\n",
      "마침내, 해리는 덤블도어와의 대화를 통해 자신의 성장과 앞으로의 길에 대해 더 깊이 고민하게 되며, 이야기는 해리와 친구들이 함께한 모험의 의미를 보여줍니다. 이야기는 우정, 용기, 그리고 자기 발견의 중요성을 강조하며 종료됩니다."
     ]
    }
   ],
   "execution_count": 42
  },
  {
   "metadata": {},
   "cell_type": "markdown",
   "source": "## 도구를 포함하는 모델의 스트리밍 출력",
   "id": "f52d2a65cc7a1623"
  },
  {
   "metadata": {},
   "cell_type": "code",
   "outputs": [],
   "execution_count": null,
   "source": "",
   "id": "2ad851e32a5ccdd"
  },
  {
   "metadata": {},
   "cell_type": "code",
   "outputs": [],
   "execution_count": null,
   "source": "",
   "id": "fbbc15b80653a517"
  },
  {
   "metadata": {
    "ExecuteTime": {
     "end_time": "2025-09-16T06:41:00.558008Z",
     "start_time": "2025-09-16T06:41:00.553692Z"
    }
   },
   "cell_type": "code",
   "source": "messages = [HumanMessage('하이닉스의 지난 한 달 동안 주식 변동을 요약해줘.')]",
   "id": "5d698bf175dcef1",
   "outputs": [],
   "execution_count": 43
  },
  {
   "metadata": {
    "ExecuteTime": {
     "end_time": "2025-09-16T06:41:10.455852Z",
     "start_time": "2025-09-16T06:41:10.451612Z"
    }
   },
   "cell_type": "code",
   "source": "response = model_with_tools.stream(input=messages)",
   "id": "5cfbdcf8c42d5f8",
   "outputs": [],
   "execution_count": 44
  },
  {
   "metadata": {
    "ExecuteTime": {
     "end_time": "2025-09-16T06:42:58.817921Z",
     "start_time": "2025-09-16T06:42:57.894045Z"
    }
   },
   "cell_type": "code",
   "source": [
    "# 파편하된 tool_calls 청크들을 하나로 합치기.\n",
    "is_first = True\n",
    "for chunk in response:\n",
    "    print(type(chunk))  #> AIMessageChunk\n",
    "    if is_first:    # 첫번째 청크이면,\n",
    "        is_first = False    # 다음 반복(iteration)부터는 첫번째 청크가 아니기 때문에\n",
    "        gathered = chunk\n",
    "    else:   # 두번째 이후 청크이면,\n",
    "        gathered += chunk   # 이미 만들어진 청크의 뒤에 덧붙임(append).\n",
    "    gathered.pretty_print()"
   ],
   "id": "8baaf1d224dc5d50",
   "outputs": [
    {
     "name": "stdout",
     "output_type": "stream",
     "text": [
      "<class 'langchain_core.messages.ai.AIMessageChunk'>\n",
      "============================\u001B[1m Aimessagechunk Message \u001B[0m============================\n",
      "Tool Calls:\n",
      "  get_yf_stock_history (call_EpspKkzlvTsjooYlrUvLm3uu)\n",
      " Call ID: call_EpspKkzlvTsjooYlrUvLm3uu\n",
      "  Args:\n",
      "<class 'langchain_core.messages.ai.AIMessageChunk'>\n",
      "============================\u001B[1m Aimessagechunk Message \u001B[0m============================\n",
      "Tool Calls:\n",
      "  get_yf_stock_history (call_EpspKkzlvTsjooYlrUvLm3uu)\n",
      " Call ID: call_EpspKkzlvTsjooYlrUvLm3uu\n",
      "  Args:\n",
      "<class 'langchain_core.messages.ai.AIMessageChunk'>\n",
      "============================\u001B[1m Aimessagechunk Message \u001B[0m============================\n",
      "Tool Calls:\n",
      "  get_yf_stock_history (call_EpspKkzlvTsjooYlrUvLm3uu)\n",
      " Call ID: call_EpspKkzlvTsjooYlrUvLm3uu\n",
      "  Args:\n",
      "<class 'langchain_core.messages.ai.AIMessageChunk'>\n",
      "============================\u001B[1m Aimessagechunk Message \u001B[0m============================\n",
      "Tool Calls:\n",
      "  get_yf_stock_history (call_EpspKkzlvTsjooYlrUvLm3uu)\n",
      " Call ID: call_EpspKkzlvTsjooYlrUvLm3uu\n",
      "  Args:\n",
      "    input: {}\n",
      "<class 'langchain_core.messages.ai.AIMessageChunk'>\n",
      "============================\u001B[1m Aimessagechunk Message \u001B[0m============================\n",
      "Tool Calls:\n",
      "  get_yf_stock_history (call_EpspKkzlvTsjooYlrUvLm3uu)\n",
      " Call ID: call_EpspKkzlvTsjooYlrUvLm3uu\n",
      "  Args:\n",
      "    input: {}\n",
      "<class 'langchain_core.messages.ai.AIMessageChunk'>\n",
      "============================\u001B[1m Aimessagechunk Message \u001B[0m============================\n",
      "Tool Calls:\n",
      "  get_yf_stock_history (call_EpspKkzlvTsjooYlrUvLm3uu)\n",
      " Call ID: call_EpspKkzlvTsjooYlrUvLm3uu\n",
      "  Args:\n",
      "    input: {'ticker': ''}\n",
      "<class 'langchain_core.messages.ai.AIMessageChunk'>\n",
      "============================\u001B[1m Aimessagechunk Message \u001B[0m============================\n",
      "Tool Calls:\n",
      "  get_yf_stock_history (call_EpspKkzlvTsjooYlrUvLm3uu)\n",
      " Call ID: call_EpspKkzlvTsjooYlrUvLm3uu\n",
      "  Args:\n",
      "    input: {'ticker': '000'}\n",
      "<class 'langchain_core.messages.ai.AIMessageChunk'>\n",
      "============================\u001B[1m Aimessagechunk Message \u001B[0m============================\n",
      "Tool Calls:\n",
      "  get_yf_stock_history (call_EpspKkzlvTsjooYlrUvLm3uu)\n",
      " Call ID: call_EpspKkzlvTsjooYlrUvLm3uu\n",
      "  Args:\n",
      "    input: {'ticker': '000660'}\n",
      "<class 'langchain_core.messages.ai.AIMessageChunk'>\n",
      "============================\u001B[1m Aimessagechunk Message \u001B[0m============================\n",
      "Tool Calls:\n",
      "  get_yf_stock_history (call_EpspKkzlvTsjooYlrUvLm3uu)\n",
      " Call ID: call_EpspKkzlvTsjooYlrUvLm3uu\n",
      "  Args:\n",
      "    input: {'ticker': '000660.K'}\n",
      "<class 'langchain_core.messages.ai.AIMessageChunk'>\n",
      "============================\u001B[1m Aimessagechunk Message \u001B[0m============================\n",
      "Tool Calls:\n",
      "  get_yf_stock_history (call_EpspKkzlvTsjooYlrUvLm3uu)\n",
      " Call ID: call_EpspKkzlvTsjooYlrUvLm3uu\n",
      "  Args:\n",
      "    input: {'ticker': '000660.KS'}\n",
      "<class 'langchain_core.messages.ai.AIMessageChunk'>\n",
      "============================\u001B[1m Aimessagechunk Message \u001B[0m============================\n",
      "Tool Calls:\n",
      "  get_yf_stock_history (call_EpspKkzlvTsjooYlrUvLm3uu)\n",
      " Call ID: call_EpspKkzlvTsjooYlrUvLm3uu\n",
      "  Args:\n",
      "    input: {'ticker': '000660.KS'}\n",
      "<class 'langchain_core.messages.ai.AIMessageChunk'>\n",
      "============================\u001B[1m Aimessagechunk Message \u001B[0m============================\n",
      "Tool Calls:\n",
      "  get_yf_stock_history (call_EpspKkzlvTsjooYlrUvLm3uu)\n",
      " Call ID: call_EpspKkzlvTsjooYlrUvLm3uu\n",
      "  Args:\n",
      "    input: {'ticker': '000660.KS'}\n",
      "<class 'langchain_core.messages.ai.AIMessageChunk'>\n",
      "============================\u001B[1m Aimessagechunk Message \u001B[0m============================\n",
      "Tool Calls:\n",
      "  get_yf_stock_history (call_EpspKkzlvTsjooYlrUvLm3uu)\n",
      " Call ID: call_EpspKkzlvTsjooYlrUvLm3uu\n",
      "  Args:\n",
      "    input: {'ticker': '000660.KS', 'period': ''}\n",
      "<class 'langchain_core.messages.ai.AIMessageChunk'>\n",
      "============================\u001B[1m Aimessagechunk Message \u001B[0m============================\n",
      "Tool Calls:\n",
      "  get_yf_stock_history (call_EpspKkzlvTsjooYlrUvLm3uu)\n",
      " Call ID: call_EpspKkzlvTsjooYlrUvLm3uu\n",
      "  Args:\n",
      "    input: {'ticker': '000660.KS', 'period': '1'}\n",
      "<class 'langchain_core.messages.ai.AIMessageChunk'>\n",
      "============================\u001B[1m Aimessagechunk Message \u001B[0m============================\n",
      "Tool Calls:\n",
      "  get_yf_stock_history (call_EpspKkzlvTsjooYlrUvLm3uu)\n",
      " Call ID: call_EpspKkzlvTsjooYlrUvLm3uu\n",
      "  Args:\n",
      "    input: {'ticker': '000660.KS', 'period': '1mo'}\n",
      "<class 'langchain_core.messages.ai.AIMessageChunk'>\n",
      "============================\u001B[1m Aimessagechunk Message \u001B[0m============================\n",
      "Tool Calls:\n",
      "  get_yf_stock_history (call_EpspKkzlvTsjooYlrUvLm3uu)\n",
      " Call ID: call_EpspKkzlvTsjooYlrUvLm3uu\n",
      "  Args:\n",
      "    input: {'ticker': '000660.KS', 'period': '1mo'}\n",
      "<class 'langchain_core.messages.ai.AIMessageChunk'>\n",
      "============================\u001B[1m Aimessagechunk Message \u001B[0m============================\n",
      "Tool Calls:\n",
      "  get_yf_stock_history (call_EpspKkzlvTsjooYlrUvLm3uu)\n",
      " Call ID: call_EpspKkzlvTsjooYlrUvLm3uu\n",
      "  Args:\n",
      "    input: {'ticker': '000660.KS', 'period': '1mo'}\n"
     ]
    }
   ],
   "execution_count": 45
  },
  {
   "metadata": {
    "ExecuteTime": {
     "end_time": "2025-09-16T06:52:17.968111Z",
     "start_time": "2025-09-16T06:52:17.965113Z"
    }
   },
   "cell_type": "code",
   "source": "messages.append(gathered)   # 하나로 합친 AI 답변을 메시지 리스트에 추가!",
   "id": "1f7274e292ccc17b",
   "outputs": [],
   "execution_count": 47
  },
  {
   "metadata": {
    "ExecuteTime": {
     "end_time": "2025-09-16T06:52:20.298189Z",
     "start_time": "2025-09-16T06:52:19.193862Z"
    }
   },
   "cell_type": "code",
   "source": [
    "# 하나로 합쳐진 tool_calls를 반복하면서 function calling을 수행.\n",
    "for tool_call in gathered.tool_calls:\n",
    "    fn = tool_dict.get(tool_call['name'])\n",
    "    tool_msg = fn.invoke(input=tool_call)\n",
    "    messages.append(tool_msg)"
   ],
   "id": "fe8e9100e4f2d1fc",
   "outputs": [],
   "execution_count": 48
  },
  {
   "metadata": {
    "ExecuteTime": {
     "end_time": "2025-09-16T06:58:04.307669Z",
     "start_time": "2025-09-16T06:58:04.302999Z"
    }
   },
   "cell_type": "code",
   "source": [
    "for m in messages:\n",
    "    m.pretty_print()"
   ],
   "id": "e8dc407c1f959860",
   "outputs": [
    {
     "name": "stdout",
     "output_type": "stream",
     "text": [
      "================================\u001B[1m Human Message \u001B[0m=================================\n",
      "\n",
      "하이닉스의 지난 한 달 동안 주식 변동을 요약해줘.\n",
      "============================\u001B[1m Aimessagechunk Message \u001B[0m============================\n",
      "Tool Calls:\n",
      "  get_yf_stock_history (call_EpspKkzlvTsjooYlrUvLm3uu)\n",
      " Call ID: call_EpspKkzlvTsjooYlrUvLm3uu\n",
      "  Args:\n",
      "    input: {'ticker': '000660.KS', 'period': '1mo'}\n",
      "============================\u001B[1m Aimessagechunk Message \u001B[0m============================\n",
      "Tool Calls:\n",
      "  get_yf_stock_history (call_EpspKkzlvTsjooYlrUvLm3uu)\n",
      " Call ID: call_EpspKkzlvTsjooYlrUvLm3uu\n",
      "  Args:\n",
      "    input: {'ticker': '000660.KS', 'period': '1mo'}\n",
      "=================================\u001B[1m Tool Message \u001B[0m=================================\n",
      "Name: get_yf_stock_history\n",
      "\n",
      "| Date                      |   Open |   High |    Low |   Close |      Volume |   Dividends |   Stock Splits |\n",
      "|:--------------------------|-------:|-------:|-------:|--------:|------------:|------------:|---------------:|\n",
      "| 2025-08-18 00:00:00+09:00 | 271608 | 271608 | 266615 |  267114 | 1.99322e+06 |           0 |              0 |\n",
      "| 2025-08-19 00:00:00+09:00 | 268113 | 269611 | 261123 |  262621 | 1.70965e+06 |           0 |              0 |\n",
      "| 2025-08-20 00:00:00+09:00 | 254133 | 256629 | 250638 |  255131 | 3.57154e+06 |           0 |              0 |\n",
      "| 2025-08-21 00:00:00+09:00 | 246144 | 250638 | 244647 |  244647 | 6.30113e+06 |           0 |              0 |\n",
      "| 2025-08-22 00:00:00+09:00 | 245146 | 252136 | 245146 |  250638 | 3.06406e+06 |           0 |              0 |\n",
      "| 2025-08-25 00:00:00+09:00 | 255631 | 261123 | 253634 |  259126 | 3.18371e+06 |           0 |              0 |\n",
      "| 2025-08-26 00:00:00+09:00 | 259126 | 262121 | 256629 |  261123 | 2.05062e+06 |           0 |              0 |\n",
      "| 2025-08-27 00:00:00+09:00 | 258626 | 260624 | 255631 |  259625 | 2.80159e+06 |           0 |              0 |\n",
      "| 2025-08-28 00:00:00+09:00 | 254000 | 268500 | 253000 |  268500 | 3.83602e+06 |         375 |              0 |\n",
      "| 2025-08-29 00:00:00+09:00 | 268000 | 270000 | 266000 |  269000 | 1.89213e+06 |           0 |              0 |\n",
      "| 2025-09-01 00:00:00+09:00 | 259500 | 261000 | 255000 |  256000 | 1.83705e+06 |           0 |              0 |\n",
      "| 2025-09-02 00:00:00+09:00 | 256000 | 261500 | 256000 |  260500 | 1.58471e+06 |           0 |              0 |\n",
      "| 2025-09-03 00:00:00+09:00 | 259500 | 265500 | 257750 |  262500 | 2.4379e+06  |           0 |              0 |\n",
      "| 2025-09-04 00:00:00+09:00 | 267000 | 271000 | 264500 |  265500 | 2.18996e+06 |           0 |              0 |\n",
      "| 2025-09-05 00:00:00+09:00 | 273000 | 275000 | 272000 |  273500 | 3.10343e+06 |           0 |              0 |\n",
      "| 2025-09-08 00:00:00+09:00 | 278500 | 279000 | 274000 |  277000 | 2.0183e+06  |           0 |              0 |\n",
      "| 2025-09-09 00:00:00+09:00 | 278000 | 288500 | 277000 |  288000 | 4.15834e+06 |           0 |              0 |\n",
      "| 2025-09-10 00:00:00+09:00 | 294500 | 305000 | 293000 |  304000 | 5.26555e+06 |           0 |              0 |\n",
      "| 2025-09-11 00:00:00+09:00 | 310000 | 315000 | 305500 |  307000 | 5.14809e+06 |           0 |              0 |\n",
      "| 2025-09-12 00:00:00+09:00 | 322000 | 329500 | 319000 |  328500 | 4.24252e+06 |           0 |              0 |\n",
      "| 2025-09-15 00:00:00+09:00 | 339500 | 341500 | 325000 |  331000 | 4.22126e+06 |           0 |              0 |\n",
      "| 2025-09-16 00:00:00+09:00 |      0 | 354000 | 331500 |  348000 | 5.70331e+06 |           0 |              0 |\n"
     ]
    }
   ],
   "execution_count": 55
  },
  {
   "metadata": {
    "ExecuteTime": {
     "end_time": "2025-09-16T06:58:07.326652Z",
     "start_time": "2025-09-16T06:58:07.323534Z"
    }
   },
   "cell_type": "code",
   "source": "response = model_with_tools.stream(input=messages)",
   "id": "a9f3e68414f9c59d",
   "outputs": [],
   "execution_count": 56
  },
  {
   "metadata": {
    "ExecuteTime": {
     "end_time": "2025-09-16T06:58:08.872824Z",
     "start_time": "2025-09-16T06:58:08.357692Z"
    }
   },
   "cell_type": "code",
   "source": [
    "for r in response:\n",
    "    print(r.content, end='')"
   ],
   "id": "f45024d4ce440c18",
   "outputs": [
    {
     "ename": "BadRequestError",
     "evalue": "Error code: 400 - {'error': {'message': \"An assistant message with 'tool_calls' must be followed by tool messages responding to each 'tool_call_id'. The following tool_call_ids did not have response messages: call_EpspKkzlvTsjooYlrUvLm3uu\", 'type': 'invalid_request_error', 'param': 'messages.[2].role', 'code': None}}",
     "output_type": "error",
     "traceback": [
      "\u001B[31m---------------------------------------------------------------------------\u001B[39m",
      "\u001B[31mBadRequestError\u001B[39m                           Traceback (most recent call last)",
      "\u001B[36mCell\u001B[39m\u001B[36m \u001B[39m\u001B[32mIn[57]\u001B[39m\u001B[32m, line 1\u001B[39m\n\u001B[32m----> \u001B[39m\u001B[32m1\u001B[39m \u001B[38;5;28;43;01mfor\u001B[39;49;00m\u001B[43m \u001B[49m\u001B[43mr\u001B[49m\u001B[43m \u001B[49m\u001B[38;5;129;43;01min\u001B[39;49;00m\u001B[43m \u001B[49m\u001B[43mresponse\u001B[49m\u001B[43m:\u001B[49m\n\u001B[32m      2\u001B[39m \u001B[43m    \u001B[49m\u001B[38;5;28;43mprint\u001B[39;49m\u001B[43m(\u001B[49m\u001B[43mr\u001B[49m\u001B[43m.\u001B[49m\u001B[43mcontent\u001B[49m\u001B[43m,\u001B[49m\u001B[43m \u001B[49m\u001B[43mend\u001B[49m\u001B[43m=\u001B[49m\u001B[33;43m'\u001B[39;49m\u001B[33;43m'\u001B[39;49m\u001B[43m)\u001B[49m\n",
      "\u001B[36mFile \u001B[39m\u001B[32mC:\\workspace\\lab_lm\\.venv\\Lib\\site-packages\\langchain_core\\runnables\\base.py:5887\u001B[39m, in \u001B[36mRunnableBindingBase.stream\u001B[39m\u001B[34m(self, input, config, **kwargs)\u001B[39m\n\u001B[32m   5880\u001B[39m \u001B[38;5;129m@override\u001B[39m\n\u001B[32m   5881\u001B[39m \u001B[38;5;28;01mdef\u001B[39;00m\u001B[38;5;250m \u001B[39m\u001B[34mstream\u001B[39m(\n\u001B[32m   5882\u001B[39m     \u001B[38;5;28mself\u001B[39m,\n\u001B[32m   (...)\u001B[39m\u001B[32m   5885\u001B[39m     **kwargs: Optional[Any],\n\u001B[32m   5886\u001B[39m ) -> Iterator[Output]:\n\u001B[32m-> \u001B[39m\u001B[32m5887\u001B[39m     \u001B[38;5;28;01myield from\u001B[39;00m \u001B[38;5;28mself\u001B[39m.bound.stream(\n\u001B[32m   5888\u001B[39m         \u001B[38;5;28minput\u001B[39m,\n\u001B[32m   5889\u001B[39m         \u001B[38;5;28mself\u001B[39m._merge_configs(config),\n\u001B[32m   5890\u001B[39m         **{**\u001B[38;5;28mself\u001B[39m.kwargs, **kwargs},\n\u001B[32m   5891\u001B[39m     )\n",
      "\u001B[36mFile \u001B[39m\u001B[32mC:\\workspace\\lab_lm\\.venv\\Lib\\site-packages\\langchain_core\\language_models\\chat_models.py:522\u001B[39m, in \u001B[36mBaseChatModel.stream\u001B[39m\u001B[34m(self, input, config, stop, **kwargs)\u001B[39m\n\u001B[32m    520\u001B[39m input_messages = _normalize_messages(messages)\n\u001B[32m    521\u001B[39m run_id = \u001B[33m\"\u001B[39m\u001B[33m-\u001B[39m\u001B[33m\"\u001B[39m.join((_LC_ID_PREFIX, \u001B[38;5;28mstr\u001B[39m(run_manager.run_id)))\n\u001B[32m--> \u001B[39m\u001B[32m522\u001B[39m \u001B[43m\u001B[49m\u001B[38;5;28;43;01mfor\u001B[39;49;00m\u001B[43m \u001B[49m\u001B[43mchunk\u001B[49m\u001B[43m \u001B[49m\u001B[38;5;129;43;01min\u001B[39;49;00m\u001B[43m \u001B[49m\u001B[38;5;28;43mself\u001B[39;49m\u001B[43m.\u001B[49m\u001B[43m_stream\u001B[49m\u001B[43m(\u001B[49m\u001B[43minput_messages\u001B[49m\u001B[43m,\u001B[49m\u001B[43m \u001B[49m\u001B[43mstop\u001B[49m\u001B[43m=\u001B[49m\u001B[43mstop\u001B[49m\u001B[43m,\u001B[49m\u001B[43m \u001B[49m\u001B[43m*\u001B[49m\u001B[43m*\u001B[49m\u001B[43mkwargs\u001B[49m\u001B[43m)\u001B[49m\u001B[43m:\u001B[49m\n\u001B[32m    523\u001B[39m \u001B[43m    \u001B[49m\u001B[38;5;28;43;01mif\u001B[39;49;00m\u001B[43m \u001B[49m\u001B[43mchunk\u001B[49m\u001B[43m.\u001B[49m\u001B[43mmessage\u001B[49m\u001B[43m.\u001B[49m\u001B[43mid\u001B[49m\u001B[43m \u001B[49m\u001B[38;5;129;43;01mis\u001B[39;49;00m\u001B[43m \u001B[49m\u001B[38;5;28;43;01mNone\u001B[39;49;00m\u001B[43m:\u001B[49m\n\u001B[32m    524\u001B[39m \u001B[43m        \u001B[49m\u001B[43mchunk\u001B[49m\u001B[43m.\u001B[49m\u001B[43mmessage\u001B[49m\u001B[43m.\u001B[49m\u001B[43mid\u001B[49m\u001B[43m \u001B[49m\u001B[43m=\u001B[49m\u001B[43m \u001B[49m\u001B[43mrun_id\u001B[49m\n",
      "\u001B[36mFile \u001B[39m\u001B[32mC:\\workspace\\lab_lm\\.venv\\Lib\\site-packages\\langchain_openai\\chat_models\\base.py:1094\u001B[39m, in \u001B[36mBaseChatOpenAI._stream\u001B[39m\u001B[34m(self, messages, stop, run_manager, stream_usage, **kwargs)\u001B[39m\n\u001B[32m   1092\u001B[39m         base_generation_info = {\u001B[33m\"\u001B[39m\u001B[33mheaders\u001B[39m\u001B[33m\"\u001B[39m: \u001B[38;5;28mdict\u001B[39m(raw_response.headers)}\n\u001B[32m   1093\u001B[39m     \u001B[38;5;28;01melse\u001B[39;00m:\n\u001B[32m-> \u001B[39m\u001B[32m1094\u001B[39m         response = \u001B[38;5;28;43mself\u001B[39;49m\u001B[43m.\u001B[49m\u001B[43mclient\u001B[49m\u001B[43m.\u001B[49m\u001B[43mcreate\u001B[49m\u001B[43m(\u001B[49m\u001B[43m*\u001B[49m\u001B[43m*\u001B[49m\u001B[43mpayload\u001B[49m\u001B[43m)\u001B[49m\n\u001B[32m   1095\u001B[39m     context_manager = response\n\u001B[32m   1096\u001B[39m \u001B[38;5;28;01mtry\u001B[39;00m:\n",
      "\u001B[36mFile \u001B[39m\u001B[32mC:\\workspace\\lab_lm\\.venv\\Lib\\site-packages\\openai\\_utils\\_utils.py:287\u001B[39m, in \u001B[36mrequired_args.<locals>.inner.<locals>.wrapper\u001B[39m\u001B[34m(*args, **kwargs)\u001B[39m\n\u001B[32m    285\u001B[39m             msg = \u001B[33mf\u001B[39m\u001B[33m\"\u001B[39m\u001B[33mMissing required argument: \u001B[39m\u001B[38;5;132;01m{\u001B[39;00mquote(missing[\u001B[32m0\u001B[39m])\u001B[38;5;132;01m}\u001B[39;00m\u001B[33m\"\u001B[39m\n\u001B[32m    286\u001B[39m     \u001B[38;5;28;01mraise\u001B[39;00m \u001B[38;5;167;01mTypeError\u001B[39;00m(msg)\n\u001B[32m--> \u001B[39m\u001B[32m287\u001B[39m \u001B[38;5;28;01mreturn\u001B[39;00m \u001B[43mfunc\u001B[49m\u001B[43m(\u001B[49m\u001B[43m*\u001B[49m\u001B[43margs\u001B[49m\u001B[43m,\u001B[49m\u001B[43m \u001B[49m\u001B[43m*\u001B[49m\u001B[43m*\u001B[49m\u001B[43mkwargs\u001B[49m\u001B[43m)\u001B[49m\n",
      "\u001B[36mFile \u001B[39m\u001B[32mC:\\workspace\\lab_lm\\.venv\\Lib\\site-packages\\openai\\resources\\chat\\completions\\completions.py:1147\u001B[39m, in \u001B[36mCompletions.create\u001B[39m\u001B[34m(self, messages, model, audio, frequency_penalty, function_call, functions, logit_bias, logprobs, max_completion_tokens, max_tokens, metadata, modalities, n, parallel_tool_calls, prediction, presence_penalty, prompt_cache_key, reasoning_effort, response_format, safety_identifier, seed, service_tier, stop, store, stream, stream_options, temperature, tool_choice, tools, top_logprobs, top_p, user, verbosity, web_search_options, extra_headers, extra_query, extra_body, timeout)\u001B[39m\n\u001B[32m   1101\u001B[39m \u001B[38;5;129m@required_args\u001B[39m([\u001B[33m\"\u001B[39m\u001B[33mmessages\u001B[39m\u001B[33m\"\u001B[39m, \u001B[33m\"\u001B[39m\u001B[33mmodel\u001B[39m\u001B[33m\"\u001B[39m], [\u001B[33m\"\u001B[39m\u001B[33mmessages\u001B[39m\u001B[33m\"\u001B[39m, \u001B[33m\"\u001B[39m\u001B[33mmodel\u001B[39m\u001B[33m\"\u001B[39m, \u001B[33m\"\u001B[39m\u001B[33mstream\u001B[39m\u001B[33m\"\u001B[39m])\n\u001B[32m   1102\u001B[39m \u001B[38;5;28;01mdef\u001B[39;00m\u001B[38;5;250m \u001B[39m\u001B[34mcreate\u001B[39m(\n\u001B[32m   1103\u001B[39m     \u001B[38;5;28mself\u001B[39m,\n\u001B[32m   (...)\u001B[39m\u001B[32m   1144\u001B[39m     timeout: \u001B[38;5;28mfloat\u001B[39m | httpx.Timeout | \u001B[38;5;28;01mNone\u001B[39;00m | NotGiven = NOT_GIVEN,\n\u001B[32m   1145\u001B[39m ) -> ChatCompletion | Stream[ChatCompletionChunk]:\n\u001B[32m   1146\u001B[39m     validate_response_format(response_format)\n\u001B[32m-> \u001B[39m\u001B[32m1147\u001B[39m     \u001B[38;5;28;01mreturn\u001B[39;00m \u001B[38;5;28;43mself\u001B[39;49m\u001B[43m.\u001B[49m\u001B[43m_post\u001B[49m\u001B[43m(\u001B[49m\n\u001B[32m   1148\u001B[39m \u001B[43m        \u001B[49m\u001B[33;43m\"\u001B[39;49m\u001B[33;43m/chat/completions\u001B[39;49m\u001B[33;43m\"\u001B[39;49m\u001B[43m,\u001B[49m\n\u001B[32m   1149\u001B[39m \u001B[43m        \u001B[49m\u001B[43mbody\u001B[49m\u001B[43m=\u001B[49m\u001B[43mmaybe_transform\u001B[49m\u001B[43m(\u001B[49m\n\u001B[32m   1150\u001B[39m \u001B[43m            \u001B[49m\u001B[43m{\u001B[49m\n\u001B[32m   1151\u001B[39m \u001B[43m                \u001B[49m\u001B[33;43m\"\u001B[39;49m\u001B[33;43mmessages\u001B[39;49m\u001B[33;43m\"\u001B[39;49m\u001B[43m:\u001B[49m\u001B[43m \u001B[49m\u001B[43mmessages\u001B[49m\u001B[43m,\u001B[49m\n\u001B[32m   1152\u001B[39m \u001B[43m                \u001B[49m\u001B[33;43m\"\u001B[39;49m\u001B[33;43mmodel\u001B[39;49m\u001B[33;43m\"\u001B[39;49m\u001B[43m:\u001B[49m\u001B[43m \u001B[49m\u001B[43mmodel\u001B[49m\u001B[43m,\u001B[49m\n\u001B[32m   1153\u001B[39m \u001B[43m                \u001B[49m\u001B[33;43m\"\u001B[39;49m\u001B[33;43maudio\u001B[39;49m\u001B[33;43m\"\u001B[39;49m\u001B[43m:\u001B[49m\u001B[43m \u001B[49m\u001B[43maudio\u001B[49m\u001B[43m,\u001B[49m\n\u001B[32m   1154\u001B[39m \u001B[43m                \u001B[49m\u001B[33;43m\"\u001B[39;49m\u001B[33;43mfrequency_penalty\u001B[39;49m\u001B[33;43m\"\u001B[39;49m\u001B[43m:\u001B[49m\u001B[43m \u001B[49m\u001B[43mfrequency_penalty\u001B[49m\u001B[43m,\u001B[49m\n\u001B[32m   1155\u001B[39m \u001B[43m                \u001B[49m\u001B[33;43m\"\u001B[39;49m\u001B[33;43mfunction_call\u001B[39;49m\u001B[33;43m\"\u001B[39;49m\u001B[43m:\u001B[49m\u001B[43m \u001B[49m\u001B[43mfunction_call\u001B[49m\u001B[43m,\u001B[49m\n\u001B[32m   1156\u001B[39m \u001B[43m                \u001B[49m\u001B[33;43m\"\u001B[39;49m\u001B[33;43mfunctions\u001B[39;49m\u001B[33;43m\"\u001B[39;49m\u001B[43m:\u001B[49m\u001B[43m \u001B[49m\u001B[43mfunctions\u001B[49m\u001B[43m,\u001B[49m\n\u001B[32m   1157\u001B[39m \u001B[43m                \u001B[49m\u001B[33;43m\"\u001B[39;49m\u001B[33;43mlogit_bias\u001B[39;49m\u001B[33;43m\"\u001B[39;49m\u001B[43m:\u001B[49m\u001B[43m \u001B[49m\u001B[43mlogit_bias\u001B[49m\u001B[43m,\u001B[49m\n\u001B[32m   1158\u001B[39m \u001B[43m                \u001B[49m\u001B[33;43m\"\u001B[39;49m\u001B[33;43mlogprobs\u001B[39;49m\u001B[33;43m\"\u001B[39;49m\u001B[43m:\u001B[49m\u001B[43m \u001B[49m\u001B[43mlogprobs\u001B[49m\u001B[43m,\u001B[49m\n\u001B[32m   1159\u001B[39m \u001B[43m                \u001B[49m\u001B[33;43m\"\u001B[39;49m\u001B[33;43mmax_completion_tokens\u001B[39;49m\u001B[33;43m\"\u001B[39;49m\u001B[43m:\u001B[49m\u001B[43m \u001B[49m\u001B[43mmax_completion_tokens\u001B[49m\u001B[43m,\u001B[49m\n\u001B[32m   1160\u001B[39m \u001B[43m                \u001B[49m\u001B[33;43m\"\u001B[39;49m\u001B[33;43mmax_tokens\u001B[39;49m\u001B[33;43m\"\u001B[39;49m\u001B[43m:\u001B[49m\u001B[43m \u001B[49m\u001B[43mmax_tokens\u001B[49m\u001B[43m,\u001B[49m\n\u001B[32m   1161\u001B[39m \u001B[43m                \u001B[49m\u001B[33;43m\"\u001B[39;49m\u001B[33;43mmetadata\u001B[39;49m\u001B[33;43m\"\u001B[39;49m\u001B[43m:\u001B[49m\u001B[43m \u001B[49m\u001B[43mmetadata\u001B[49m\u001B[43m,\u001B[49m\n\u001B[32m   1162\u001B[39m \u001B[43m                \u001B[49m\u001B[33;43m\"\u001B[39;49m\u001B[33;43mmodalities\u001B[39;49m\u001B[33;43m\"\u001B[39;49m\u001B[43m:\u001B[49m\u001B[43m \u001B[49m\u001B[43mmodalities\u001B[49m\u001B[43m,\u001B[49m\n\u001B[32m   1163\u001B[39m \u001B[43m                \u001B[49m\u001B[33;43m\"\u001B[39;49m\u001B[33;43mn\u001B[39;49m\u001B[33;43m\"\u001B[39;49m\u001B[43m:\u001B[49m\u001B[43m \u001B[49m\u001B[43mn\u001B[49m\u001B[43m,\u001B[49m\n\u001B[32m   1164\u001B[39m \u001B[43m                \u001B[49m\u001B[33;43m\"\u001B[39;49m\u001B[33;43mparallel_tool_calls\u001B[39;49m\u001B[33;43m\"\u001B[39;49m\u001B[43m:\u001B[49m\u001B[43m \u001B[49m\u001B[43mparallel_tool_calls\u001B[49m\u001B[43m,\u001B[49m\n\u001B[32m   1165\u001B[39m \u001B[43m                \u001B[49m\u001B[33;43m\"\u001B[39;49m\u001B[33;43mprediction\u001B[39;49m\u001B[33;43m\"\u001B[39;49m\u001B[43m:\u001B[49m\u001B[43m \u001B[49m\u001B[43mprediction\u001B[49m\u001B[43m,\u001B[49m\n\u001B[32m   1166\u001B[39m \u001B[43m                \u001B[49m\u001B[33;43m\"\u001B[39;49m\u001B[33;43mpresence_penalty\u001B[39;49m\u001B[33;43m\"\u001B[39;49m\u001B[43m:\u001B[49m\u001B[43m \u001B[49m\u001B[43mpresence_penalty\u001B[49m\u001B[43m,\u001B[49m\n\u001B[32m   1167\u001B[39m \u001B[43m                \u001B[49m\u001B[33;43m\"\u001B[39;49m\u001B[33;43mprompt_cache_key\u001B[39;49m\u001B[33;43m\"\u001B[39;49m\u001B[43m:\u001B[49m\u001B[43m \u001B[49m\u001B[43mprompt_cache_key\u001B[49m\u001B[43m,\u001B[49m\n\u001B[32m   1168\u001B[39m \u001B[43m                \u001B[49m\u001B[33;43m\"\u001B[39;49m\u001B[33;43mreasoning_effort\u001B[39;49m\u001B[33;43m\"\u001B[39;49m\u001B[43m:\u001B[49m\u001B[43m \u001B[49m\u001B[43mreasoning_effort\u001B[49m\u001B[43m,\u001B[49m\n\u001B[32m   1169\u001B[39m \u001B[43m                \u001B[49m\u001B[33;43m\"\u001B[39;49m\u001B[33;43mresponse_format\u001B[39;49m\u001B[33;43m\"\u001B[39;49m\u001B[43m:\u001B[49m\u001B[43m \u001B[49m\u001B[43mresponse_format\u001B[49m\u001B[43m,\u001B[49m\n\u001B[32m   1170\u001B[39m \u001B[43m                \u001B[49m\u001B[33;43m\"\u001B[39;49m\u001B[33;43msafety_identifier\u001B[39;49m\u001B[33;43m\"\u001B[39;49m\u001B[43m:\u001B[49m\u001B[43m \u001B[49m\u001B[43msafety_identifier\u001B[49m\u001B[43m,\u001B[49m\n\u001B[32m   1171\u001B[39m \u001B[43m                \u001B[49m\u001B[33;43m\"\u001B[39;49m\u001B[33;43mseed\u001B[39;49m\u001B[33;43m\"\u001B[39;49m\u001B[43m:\u001B[49m\u001B[43m \u001B[49m\u001B[43mseed\u001B[49m\u001B[43m,\u001B[49m\n\u001B[32m   1172\u001B[39m \u001B[43m                \u001B[49m\u001B[33;43m\"\u001B[39;49m\u001B[33;43mservice_tier\u001B[39;49m\u001B[33;43m\"\u001B[39;49m\u001B[43m:\u001B[49m\u001B[43m \u001B[49m\u001B[43mservice_tier\u001B[49m\u001B[43m,\u001B[49m\n\u001B[32m   1173\u001B[39m \u001B[43m                \u001B[49m\u001B[33;43m\"\u001B[39;49m\u001B[33;43mstop\u001B[39;49m\u001B[33;43m\"\u001B[39;49m\u001B[43m:\u001B[49m\u001B[43m \u001B[49m\u001B[43mstop\u001B[49m\u001B[43m,\u001B[49m\n\u001B[32m   1174\u001B[39m \u001B[43m                \u001B[49m\u001B[33;43m\"\u001B[39;49m\u001B[33;43mstore\u001B[39;49m\u001B[33;43m\"\u001B[39;49m\u001B[43m:\u001B[49m\u001B[43m \u001B[49m\u001B[43mstore\u001B[49m\u001B[43m,\u001B[49m\n\u001B[32m   1175\u001B[39m \u001B[43m                \u001B[49m\u001B[33;43m\"\u001B[39;49m\u001B[33;43mstream\u001B[39;49m\u001B[33;43m\"\u001B[39;49m\u001B[43m:\u001B[49m\u001B[43m \u001B[49m\u001B[43mstream\u001B[49m\u001B[43m,\u001B[49m\n\u001B[32m   1176\u001B[39m \u001B[43m                \u001B[49m\u001B[33;43m\"\u001B[39;49m\u001B[33;43mstream_options\u001B[39;49m\u001B[33;43m\"\u001B[39;49m\u001B[43m:\u001B[49m\u001B[43m \u001B[49m\u001B[43mstream_options\u001B[49m\u001B[43m,\u001B[49m\n\u001B[32m   1177\u001B[39m \u001B[43m                \u001B[49m\u001B[33;43m\"\u001B[39;49m\u001B[33;43mtemperature\u001B[39;49m\u001B[33;43m\"\u001B[39;49m\u001B[43m:\u001B[49m\u001B[43m \u001B[49m\u001B[43mtemperature\u001B[49m\u001B[43m,\u001B[49m\n\u001B[32m   1178\u001B[39m \u001B[43m                \u001B[49m\u001B[33;43m\"\u001B[39;49m\u001B[33;43mtool_choice\u001B[39;49m\u001B[33;43m\"\u001B[39;49m\u001B[43m:\u001B[49m\u001B[43m \u001B[49m\u001B[43mtool_choice\u001B[49m\u001B[43m,\u001B[49m\n\u001B[32m   1179\u001B[39m \u001B[43m                \u001B[49m\u001B[33;43m\"\u001B[39;49m\u001B[33;43mtools\u001B[39;49m\u001B[33;43m\"\u001B[39;49m\u001B[43m:\u001B[49m\u001B[43m \u001B[49m\u001B[43mtools\u001B[49m\u001B[43m,\u001B[49m\n\u001B[32m   1180\u001B[39m \u001B[43m                \u001B[49m\u001B[33;43m\"\u001B[39;49m\u001B[33;43mtop_logprobs\u001B[39;49m\u001B[33;43m\"\u001B[39;49m\u001B[43m:\u001B[49m\u001B[43m \u001B[49m\u001B[43mtop_logprobs\u001B[49m\u001B[43m,\u001B[49m\n\u001B[32m   1181\u001B[39m \u001B[43m                \u001B[49m\u001B[33;43m\"\u001B[39;49m\u001B[33;43mtop_p\u001B[39;49m\u001B[33;43m\"\u001B[39;49m\u001B[43m:\u001B[49m\u001B[43m \u001B[49m\u001B[43mtop_p\u001B[49m\u001B[43m,\u001B[49m\n\u001B[32m   1182\u001B[39m \u001B[43m                \u001B[49m\u001B[33;43m\"\u001B[39;49m\u001B[33;43muser\u001B[39;49m\u001B[33;43m\"\u001B[39;49m\u001B[43m:\u001B[49m\u001B[43m \u001B[49m\u001B[43muser\u001B[49m\u001B[43m,\u001B[49m\n\u001B[32m   1183\u001B[39m \u001B[43m                \u001B[49m\u001B[33;43m\"\u001B[39;49m\u001B[33;43mverbosity\u001B[39;49m\u001B[33;43m\"\u001B[39;49m\u001B[43m:\u001B[49m\u001B[43m \u001B[49m\u001B[43mverbosity\u001B[49m\u001B[43m,\u001B[49m\n\u001B[32m   1184\u001B[39m \u001B[43m                \u001B[49m\u001B[33;43m\"\u001B[39;49m\u001B[33;43mweb_search_options\u001B[39;49m\u001B[33;43m\"\u001B[39;49m\u001B[43m:\u001B[49m\u001B[43m \u001B[49m\u001B[43mweb_search_options\u001B[49m\u001B[43m,\u001B[49m\n\u001B[32m   1185\u001B[39m \u001B[43m            \u001B[49m\u001B[43m}\u001B[49m\u001B[43m,\u001B[49m\n\u001B[32m   1186\u001B[39m \u001B[43m            \u001B[49m\u001B[43mcompletion_create_params\u001B[49m\u001B[43m.\u001B[49m\u001B[43mCompletionCreateParamsStreaming\u001B[49m\n\u001B[32m   1187\u001B[39m \u001B[43m            \u001B[49m\u001B[38;5;28;43;01mif\u001B[39;49;00m\u001B[43m \u001B[49m\u001B[43mstream\u001B[49m\n\u001B[32m   1188\u001B[39m \u001B[43m            \u001B[49m\u001B[38;5;28;43;01melse\u001B[39;49;00m\u001B[43m \u001B[49m\u001B[43mcompletion_create_params\u001B[49m\u001B[43m.\u001B[49m\u001B[43mCompletionCreateParamsNonStreaming\u001B[49m\u001B[43m,\u001B[49m\n\u001B[32m   1189\u001B[39m \u001B[43m        \u001B[49m\u001B[43m)\u001B[49m\u001B[43m,\u001B[49m\n\u001B[32m   1190\u001B[39m \u001B[43m        \u001B[49m\u001B[43moptions\u001B[49m\u001B[43m=\u001B[49m\u001B[43mmake_request_options\u001B[49m\u001B[43m(\u001B[49m\n\u001B[32m   1191\u001B[39m \u001B[43m            \u001B[49m\u001B[43mextra_headers\u001B[49m\u001B[43m=\u001B[49m\u001B[43mextra_headers\u001B[49m\u001B[43m,\u001B[49m\u001B[43m \u001B[49m\u001B[43mextra_query\u001B[49m\u001B[43m=\u001B[49m\u001B[43mextra_query\u001B[49m\u001B[43m,\u001B[49m\u001B[43m \u001B[49m\u001B[43mextra_body\u001B[49m\u001B[43m=\u001B[49m\u001B[43mextra_body\u001B[49m\u001B[43m,\u001B[49m\u001B[43m \u001B[49m\u001B[43mtimeout\u001B[49m\u001B[43m=\u001B[49m\u001B[43mtimeout\u001B[49m\n\u001B[32m   1192\u001B[39m \u001B[43m        \u001B[49m\u001B[43m)\u001B[49m\u001B[43m,\u001B[49m\n\u001B[32m   1193\u001B[39m \u001B[43m        \u001B[49m\u001B[43mcast_to\u001B[49m\u001B[43m=\u001B[49m\u001B[43mChatCompletion\u001B[49m\u001B[43m,\u001B[49m\n\u001B[32m   1194\u001B[39m \u001B[43m        \u001B[49m\u001B[43mstream\u001B[49m\u001B[43m=\u001B[49m\u001B[43mstream\u001B[49m\u001B[43m \u001B[49m\u001B[38;5;129;43;01mor\u001B[39;49;00m\u001B[43m \u001B[49m\u001B[38;5;28;43;01mFalse\u001B[39;49;00m\u001B[43m,\u001B[49m\n\u001B[32m   1195\u001B[39m \u001B[43m        \u001B[49m\u001B[43mstream_cls\u001B[49m\u001B[43m=\u001B[49m\u001B[43mStream\u001B[49m\u001B[43m[\u001B[49m\u001B[43mChatCompletionChunk\u001B[49m\u001B[43m]\u001B[49m\u001B[43m,\u001B[49m\n\u001B[32m   1196\u001B[39m \u001B[43m    \u001B[49m\u001B[43m)\u001B[49m\n",
      "\u001B[36mFile \u001B[39m\u001B[32mC:\\workspace\\lab_lm\\.venv\\Lib\\site-packages\\openai\\_base_client.py:1259\u001B[39m, in \u001B[36mSyncAPIClient.post\u001B[39m\u001B[34m(self, path, cast_to, body, options, files, stream, stream_cls)\u001B[39m\n\u001B[32m   1245\u001B[39m \u001B[38;5;28;01mdef\u001B[39;00m\u001B[38;5;250m \u001B[39m\u001B[34mpost\u001B[39m(\n\u001B[32m   1246\u001B[39m     \u001B[38;5;28mself\u001B[39m,\n\u001B[32m   1247\u001B[39m     path: \u001B[38;5;28mstr\u001B[39m,\n\u001B[32m   (...)\u001B[39m\u001B[32m   1254\u001B[39m     stream_cls: \u001B[38;5;28mtype\u001B[39m[_StreamT] | \u001B[38;5;28;01mNone\u001B[39;00m = \u001B[38;5;28;01mNone\u001B[39;00m,\n\u001B[32m   1255\u001B[39m ) -> ResponseT | _StreamT:\n\u001B[32m   1256\u001B[39m     opts = FinalRequestOptions.construct(\n\u001B[32m   1257\u001B[39m         method=\u001B[33m\"\u001B[39m\u001B[33mpost\u001B[39m\u001B[33m\"\u001B[39m, url=path, json_data=body, files=to_httpx_files(files), **options\n\u001B[32m   1258\u001B[39m     )\n\u001B[32m-> \u001B[39m\u001B[32m1259\u001B[39m     \u001B[38;5;28;01mreturn\u001B[39;00m cast(ResponseT, \u001B[38;5;28;43mself\u001B[39;49m\u001B[43m.\u001B[49m\u001B[43mrequest\u001B[49m\u001B[43m(\u001B[49m\u001B[43mcast_to\u001B[49m\u001B[43m,\u001B[49m\u001B[43m \u001B[49m\u001B[43mopts\u001B[49m\u001B[43m,\u001B[49m\u001B[43m \u001B[49m\u001B[43mstream\u001B[49m\u001B[43m=\u001B[49m\u001B[43mstream\u001B[49m\u001B[43m,\u001B[49m\u001B[43m \u001B[49m\u001B[43mstream_cls\u001B[49m\u001B[43m=\u001B[49m\u001B[43mstream_cls\u001B[49m\u001B[43m)\u001B[49m)\n",
      "\u001B[36mFile \u001B[39m\u001B[32mC:\\workspace\\lab_lm\\.venv\\Lib\\site-packages\\openai\\_base_client.py:1047\u001B[39m, in \u001B[36mSyncAPIClient.request\u001B[39m\u001B[34m(self, cast_to, options, stream, stream_cls)\u001B[39m\n\u001B[32m   1044\u001B[39m             err.response.read()\n\u001B[32m   1046\u001B[39m         log.debug(\u001B[33m\"\u001B[39m\u001B[33mRe-raising status error\u001B[39m\u001B[33m\"\u001B[39m)\n\u001B[32m-> \u001B[39m\u001B[32m1047\u001B[39m         \u001B[38;5;28;01mraise\u001B[39;00m \u001B[38;5;28mself\u001B[39m._make_status_error_from_response(err.response) \u001B[38;5;28;01mfrom\u001B[39;00m\u001B[38;5;250m \u001B[39m\u001B[38;5;28;01mNone\u001B[39;00m\n\u001B[32m   1049\u001B[39m     \u001B[38;5;28;01mbreak\u001B[39;00m\n\u001B[32m   1051\u001B[39m \u001B[38;5;28;01massert\u001B[39;00m response \u001B[38;5;129;01mis\u001B[39;00m \u001B[38;5;129;01mnot\u001B[39;00m \u001B[38;5;28;01mNone\u001B[39;00m, \u001B[33m\"\u001B[39m\u001B[33mcould not resolve response (should never happen)\u001B[39m\u001B[33m\"\u001B[39m\n",
      "\u001B[31mBadRequestError\u001B[39m: Error code: 400 - {'error': {'message': \"An assistant message with 'tool_calls' must be followed by tool messages responding to each 'tool_call_id'. The following tool_call_ids did not have response messages: call_EpspKkzlvTsjooYlrUvLm3uu\", 'type': 'invalid_request_error', 'param': 'messages.[2].role', 'code': None}}"
     ]
    }
   ],
   "execution_count": 57
  },
  {
   "metadata": {},
   "cell_type": "code",
   "outputs": [],
   "execution_count": null,
   "source": "",
   "id": "e5e1420808586637"
  }
 ],
 "metadata": {
  "kernelspec": {
   "display_name": "Python 3",
   "language": "python",
   "name": "python3"
  },
  "language_info": {
   "codemirror_mode": {
    "name": "ipython",
    "version": 2
   },
   "file_extension": ".py",
   "mimetype": "text/x-python",
   "name": "python",
   "nbconvert_exporter": "python",
   "pygments_lexer": "ipython2",
   "version": "2.7.6"
  }
 },
 "nbformat": 4,
 "nbformat_minor": 5
}
