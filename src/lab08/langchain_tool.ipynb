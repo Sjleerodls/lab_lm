{
 "cells": [
  {
   "metadata": {},
   "cell_type": "markdown",
   "source": "# LangChain `@tool` 데코레이터",
   "id": "7b8d23e26ea3cb59"
  },
  {
   "cell_type": "code",
   "id": "initial_id",
   "metadata": {
    "collapsed": true,
    "ExecuteTime": {
     "end_time": "2025-09-16T07:03:09.890810Z",
     "start_time": "2025-09-16T07:03:09.887329Z"
    }
   },
   "source": [
    "from datetime import datetime\n",
    "from dotenv import load_dotenv\n",
    "import pytz\n",
    "from langchain_core.tools import tool   # decorator\n",
    "from langchain_openai import ChatOpenAI\n",
    "from langchain_core.messages import SystemMessage, HumanMessage"
   ],
   "outputs": [],
   "execution_count": 223
  },
  {
   "metadata": {
    "ExecuteTime": {
     "end_time": "2025-09-16T07:03:09.929125Z",
     "start_time": "2025-09-16T07:03:09.906437Z"
    }
   },
   "cell_type": "code",
   "source": [
    "# .env 파일에 저장된 api_key를 OS 환경 변수로 로딩\n",
    "load_dotenv()"
   ],
   "id": "41b46901b563a98d",
   "outputs": [
    {
     "data": {
      "text/plain": [
       "True"
      ]
     },
     "execution_count": 224,
     "metadata": {},
     "output_type": "execute_result"
    }
   ],
   "execution_count": 224
  },
  {
   "metadata": {
    "ExecuteTime": {
     "end_time": "2025-09-16T07:03:09.937240Z",
     "start_time": "2025-09-16T07:03:09.932316Z"
    }
   },
   "cell_type": "code",
   "source": [
    "# OpenAI 클라이언트를 생성\n",
    "model = ChatOpenAI(model = 'gpt-4o-mini')"
   ],
   "id": "61cdf720824d6064",
   "outputs": [],
   "execution_count": 225
  },
  {
   "metadata": {
    "ExecuteTime": {
     "end_time": "2025-09-16T07:03:11.728676Z",
     "start_time": "2025-09-16T07:03:09.950851Z"
    }
   },
   "cell_type": "code",
   "source": [
    "# AI에게 메시지 전달하고 실행(invoke).\n",
    "messages = [\n",
    "    SystemMessage(content='너는 사용자의 질문에 답하는 AI 비서야.'),\n",
    "    HumanMessage(content='지금 현재 서울 시간?')\n",
    "]\n",
    "ai_message = model.invoke(input=messages)"
   ],
   "id": "376b9ac9b4dcf149",
   "outputs": [],
   "execution_count": 226
  },
  {
   "metadata": {
    "ExecuteTime": {
     "end_time": "2025-09-16T07:03:11.741300Z",
     "start_time": "2025-09-16T07:03:11.735582Z"
    }
   },
   "cell_type": "code",
   "source": "type(ai_message)",
   "id": "c71628891eb545da",
   "outputs": [
    {
     "data": {
      "text/plain": [
       "langchain_core.messages.ai.AIMessage"
      ]
     },
     "execution_count": 227,
     "metadata": {},
     "output_type": "execute_result"
    }
   ],
   "execution_count": 227
  },
  {
   "metadata": {
    "ExecuteTime": {
     "end_time": "2025-09-16T07:03:11.760540Z",
     "start_time": "2025-09-16T07:03:11.753797Z"
    }
   },
   "cell_type": "code",
   "source": "print(ai_message)",
   "id": "5e2dc3bb573e5992",
   "outputs": [
    {
     "name": "stdout",
     "output_type": "stream",
     "text": [
      "content='현재 서울 시간은 알 수 없지만, 서울은 한국 표준시(KST)로 UTC+9에 해당합니다. 현재 시간은 사용자의 기기에서 확인하실 수 있습니다. 기기의 시간대 설정이 올바른지 확인해 주세요.' additional_kwargs={'refusal': None} response_metadata={'token_usage': {'completion_tokens': 54, 'prompt_tokens': 30, 'total_tokens': 84, 'completion_tokens_details': {'accepted_prediction_tokens': 0, 'audio_tokens': 0, 'reasoning_tokens': 0, 'rejected_prediction_tokens': 0}, 'prompt_tokens_details': {'audio_tokens': 0, 'cached_tokens': 0}}, 'model_name': 'gpt-4o-mini-2024-07-18', 'system_fingerprint': 'fp_560af6e559', 'id': 'chatcmpl-CGK0U4wRfkRqmCg7AbZJa0Uj2dge6', 'service_tier': 'default', 'finish_reason': 'stop', 'logprobs': None} id='run--5c705c3d-80b7-46dd-9730-3c0cd641f31f-0' usage_metadata={'input_tokens': 30, 'output_tokens': 54, 'total_tokens': 84, 'input_token_details': {'audio': 0, 'cache_read': 0}, 'output_token_details': {'audio': 0, 'reasoning': 0}}\n"
     ]
    }
   ],
   "execution_count": 228
  },
  {
   "metadata": {
    "ExecuteTime": {
     "end_time": "2025-09-16T07:03:11.780510Z",
     "start_time": "2025-09-16T07:03:11.775987Z"
    }
   },
   "cell_type": "code",
   "source": "ai_message.pretty_print()",
   "id": "4be21a0825d9f7d9",
   "outputs": [
    {
     "name": "stdout",
     "output_type": "stream",
     "text": [
      "==================================\u001B[1m Ai Message \u001B[0m==================================\n",
      "\n",
      "현재 서울 시간은 알 수 없지만, 서울은 한국 표준시(KST)로 UTC+9에 해당합니다. 현재 시간은 사용자의 기기에서 확인하실 수 있습니다. 기기의 시간대 설정이 올바른지 확인해 주세요.\n"
     ]
    }
   ],
   "execution_count": 229
  },
  {
   "metadata": {},
   "cell_type": "markdown",
   "source": [
    "도구(tool)을 AI에게 제공하고, AI는 tool 목록에 있는 함수 호출(function calling)을 요청해서 에이전트가 함수 호출 결과를 다시 AI에게 전송하면 AI는 함수 호출 결과를 바탕으로 답변을 생성할 수 있음.\n",
    "\n",
    "사용자 질문(도구 목록 제공) -> AI 도구 호출 요청 -> 사용자 함수 호출 결과 제공 -> AI 답변 생성"
   ],
   "id": "21b7f7d53bd87a9a"
  },
  {
   "metadata": {
    "ExecuteTime": {
     "end_time": "2025-09-16T07:03:11.808287Z",
     "start_time": "2025-09-16T07:03:11.802591Z"
    }
   },
   "cell_type": "code",
   "source": [
    "@tool\n",
    "def get_current_time(timezone: str, location: str) -> str:\n",
    "    \"\"\"해당 timezone의 현재 날짜와 시간을 문자열로 리턴.\n",
    "\n",
    "    Args:\n",
    "        timezone (str) : 타임존. (예: Asia/Seoul)\n",
    "        location (str) : 지역명. 타임존은 모든 도시 이름에 대응되지 않기 때문에 LLM이 답변을 생성할 때 이용하도록 제공.\n",
    "    Returns: '날짜 시간 타임존(지역명)' 형식의 문자열을 반환. (예: 2025-09-15 15:30:55 Asia/Seoul(부산))\n",
    "    \"\"\"\n",
    "    tz = pytz.timezone(timezone)\n",
    "    now = datetime.now(tz).strftime('%Y-%m-%d %H:%M:%S')\n",
    "    result = f'{now} {timezone}({location})'\n",
    "\n",
    "    return result"
   ],
   "id": "a049100806cc4c75",
   "outputs": [],
   "execution_count": 230
  },
  {
   "metadata": {
    "ExecuteTime": {
     "end_time": "2025-09-16T07:03:11.822260Z",
     "start_time": "2025-09-16T07:03:11.819038Z"
    }
   },
   "cell_type": "code",
   "source": [
    "# 도구 목록 : @tool 데코레이터가 사용된 함수들의 리스트\n",
    "tools = [get_current_time,]"
   ],
   "id": "70171f16b8445ec3",
   "outputs": [],
   "execution_count": 231
  },
  {
   "metadata": {
    "ExecuteTime": {
     "end_time": "2025-09-16T07:03:11.829318Z",
     "start_time": "2025-09-16T07:03:11.825842Z"
    }
   },
   "cell_type": "code",
   "source": [
    "# AI에서 도구 목록의 함수 호출을 요청했을 때 함수 객체를 쉽게 찾기 위해서 dict 선언.\n",
    "tool_dict = {\n",
    "    'get_current_time': get_current_time,\n",
    "}"
   ],
   "id": "da41cc4189b20ed3",
   "outputs": [],
   "execution_count": 232
  },
  {
   "metadata": {
    "ExecuteTime": {
     "end_time": "2025-09-16T07:03:11.838802Z",
     "start_time": "2025-09-16T07:03:11.834335Z"
    }
   },
   "cell_type": "code",
   "source": [
    "# AI 모델과 도구 목록을 binding (묶어줌).\n",
    "model_with_tools = model.bind_tools(tools=tools)"
   ],
   "id": "810c7dbcf970a0dc",
   "outputs": [],
   "execution_count": 233
  },
  {
   "metadata": {
    "ExecuteTime": {
     "end_time": "2025-09-16T07:03:11.846882Z",
     "start_time": "2025-09-16T07:03:11.843377Z"
    }
   },
   "cell_type": "code",
   "source": "print(messages)",
   "id": "95c410ac731478eb",
   "outputs": [
    {
     "name": "stdout",
     "output_type": "stream",
     "text": [
      "[SystemMessage(content='너는 사용자의 질문에 답하는 AI 비서야.', additional_kwargs={}, response_metadata={}), HumanMessage(content='지금 현재 서울 시간?', additional_kwargs={}, response_metadata={})]\n"
     ]
    }
   ],
   "execution_count": 234
  },
  {
   "metadata": {
    "ExecuteTime": {
     "end_time": "2025-09-16T07:03:12.884502Z",
     "start_time": "2025-09-16T07:03:11.856793Z"
    }
   },
   "cell_type": "code",
   "source": [
    "# 도구 목록을 가지고 있는 AI 모델 호출\n",
    "response = model_with_tools.invoke(input=messages)"
   ],
   "id": "9ab8d53a093e9f51",
   "outputs": [],
   "execution_count": 235
  },
  {
   "metadata": {
    "ExecuteTime": {
     "end_time": "2025-09-16T07:03:12.892732Z",
     "start_time": "2025-09-16T07:03:12.889421Z"
    }
   },
   "cell_type": "code",
   "source": "print(type(response))",
   "id": "843286e4187adc05",
   "outputs": [
    {
     "name": "stdout",
     "output_type": "stream",
     "text": [
      "<class 'langchain_core.messages.ai.AIMessage'>\n"
     ]
    }
   ],
   "execution_count": 236
  },
  {
   "metadata": {
    "ExecuteTime": {
     "end_time": "2025-09-16T07:03:12.913671Z",
     "start_time": "2025-09-16T07:03:12.908117Z"
    }
   },
   "cell_type": "code",
   "source": "print(response)",
   "id": "3e71ae88ac2bca77",
   "outputs": [
    {
     "name": "stdout",
     "output_type": "stream",
     "text": [
      "content='' additional_kwargs={'tool_calls': [{'id': 'call_CRJM7ekTQfM0L1A5SRmolVCY', 'function': {'arguments': '{\"timezone\":\"Asia/Seoul\",\"location\":\"서울\"}', 'name': 'get_current_time'}, 'type': 'function'}], 'refusal': None} response_metadata={'token_usage': {'completion_tokens': 22, 'prompt_tokens': 170, 'total_tokens': 192, 'completion_tokens_details': {'accepted_prediction_tokens': 0, 'audio_tokens': 0, 'reasoning_tokens': 0, 'rejected_prediction_tokens': 0}, 'prompt_tokens_details': {'audio_tokens': 0, 'cached_tokens': 0}}, 'model_name': 'gpt-4o-mini-2024-07-18', 'system_fingerprint': 'fp_560af6e559', 'id': 'chatcmpl-CGK0WlmNFQ6pD4I73Z5Sqj8EwatzH', 'service_tier': 'default', 'finish_reason': 'tool_calls', 'logprobs': None} id='run--e3602f5d-1694-41b7-be70-7fc455645545-0' tool_calls=[{'name': 'get_current_time', 'args': {'timezone': 'Asia/Seoul', 'location': '서울'}, 'id': 'call_CRJM7ekTQfM0L1A5SRmolVCY', 'type': 'tool_call'}] usage_metadata={'input_tokens': 170, 'output_tokens': 22, 'total_tokens': 192, 'input_token_details': {'audio': 0, 'cache_read': 0}, 'output_token_details': {'audio': 0, 'reasoning': 0}}\n"
     ]
    }
   ],
   "execution_count": 237
  },
  {
   "metadata": {
    "ExecuteTime": {
     "end_time": "2025-09-16T07:03:12.935826Z",
     "start_time": "2025-09-16T07:03:12.932739Z"
    }
   },
   "cell_type": "code",
   "source": "response.pretty_print()",
   "id": "f887da91ac8ed647",
   "outputs": [
    {
     "name": "stdout",
     "output_type": "stream",
     "text": [
      "==================================\u001B[1m Ai Message \u001B[0m==================================\n",
      "Tool Calls:\n",
      "  get_current_time (call_CRJM7ekTQfM0L1A5SRmolVCY)\n",
      " Call ID: call_CRJM7ekTQfM0L1A5SRmolVCY\n",
      "  Args:\n",
      "    timezone: Asia/Seoul\n",
      "    location: 서울\n"
     ]
    }
   ],
   "execution_count": 238
  },
  {
   "metadata": {
    "ExecuteTime": {
     "end_time": "2025-09-16T07:03:12.950774Z",
     "start_time": "2025-09-16T07:03:12.947259Z"
    }
   },
   "cell_type": "code",
   "source": "messages.append(response)   # 대화 이력 저장 : AIMessages 객체를 리스트에 추가",
   "id": "4ab5fda49820b69a",
   "outputs": [],
   "execution_count": 239
  },
  {
   "metadata": {
    "ExecuteTime": {
     "end_time": "2025-09-16T07:03:12.964153Z",
     "start_time": "2025-09-16T07:03:12.961107Z"
    }
   },
   "cell_type": "code",
   "source": [
    "for m in messages:\n",
    "    m.pretty_print()"
   ],
   "id": "224661562f953a13",
   "outputs": [
    {
     "name": "stdout",
     "output_type": "stream",
     "text": [
      "================================\u001B[1m System Message \u001B[0m================================\n",
      "\n",
      "너는 사용자의 질문에 답하는 AI 비서야.\n",
      "================================\u001B[1m Human Message \u001B[0m=================================\n",
      "\n",
      "지금 현재 서울 시간?\n",
      "==================================\u001B[1m Ai Message \u001B[0m==================================\n",
      "Tool Calls:\n",
      "  get_current_time (call_CRJM7ekTQfM0L1A5SRmolVCY)\n",
      " Call ID: call_CRJM7ekTQfM0L1A5SRmolVCY\n",
      "  Args:\n",
      "    timezone: Asia/Seoul\n",
      "    location: 서울\n"
     ]
    }
   ],
   "execution_count": 240
  },
  {
   "metadata": {
    "ExecuteTime": {
     "end_time": "2025-09-16T07:03:12.978310Z",
     "start_time": "2025-09-16T07:03:12.974023Z"
    }
   },
   "cell_type": "code",
   "source": [
    "for tool_call in response.tool_calls:\n",
    "    fn = tool_dict[tool_call['name']]   # AIMessage의 포함된 함수 이름으로 함수 객체를 찾음.\n",
    "    tool_msg = fn.invoke(tool_call)     # @tool 데코레이터로 포장 -> invoke가 가능.\n",
    "    # invoke : tool_call에서 args를 찾고 fn를 호출할 때 아규먼트를 전달. 리턴값을 이용해서 ToolMessage 객체 반환.\n",
    "    messages.append(tool_msg)"
   ],
   "id": "d78986c532a445f4",
   "outputs": [],
   "execution_count": 241
  },
  {
   "metadata": {
    "ExecuteTime": {
     "end_time": "2025-09-16T07:03:12.993090Z",
     "start_time": "2025-09-16T07:03:12.989483Z"
    }
   },
   "cell_type": "code",
   "source": [
    "for m in messages:\n",
    "    m.pretty_print()"
   ],
   "id": "7c00799f466614e1",
   "outputs": [
    {
     "name": "stdout",
     "output_type": "stream",
     "text": [
      "================================\u001B[1m System Message \u001B[0m================================\n",
      "\n",
      "너는 사용자의 질문에 답하는 AI 비서야.\n",
      "================================\u001B[1m Human Message \u001B[0m=================================\n",
      "\n",
      "지금 현재 서울 시간?\n",
      "==================================\u001B[1m Ai Message \u001B[0m==================================\n",
      "Tool Calls:\n",
      "  get_current_time (call_CRJM7ekTQfM0L1A5SRmolVCY)\n",
      " Call ID: call_CRJM7ekTQfM0L1A5SRmolVCY\n",
      "  Args:\n",
      "    timezone: Asia/Seoul\n",
      "    location: 서울\n",
      "=================================\u001B[1m Tool Message \u001B[0m=================================\n",
      "Name: get_current_time\n",
      "\n",
      "2025-09-16 16:03:12 Asia/Seoul(서울)\n"
     ]
    }
   ],
   "execution_count": 242
  },
  {
   "metadata": {
    "ExecuteTime": {
     "end_time": "2025-09-16T07:03:14.136082Z",
     "start_time": "2025-09-16T07:03:13.008667Z"
    }
   },
   "cell_type": "code",
   "source": "ai_message = model_with_tools.invoke(input=messages)",
   "id": "3c26d783aa3fb4d0",
   "outputs": [],
   "execution_count": 243
  },
  {
   "metadata": {
    "ExecuteTime": {
     "end_time": "2025-09-16T07:03:14.146383Z",
     "start_time": "2025-09-16T07:03:14.142607Z"
    }
   },
   "cell_type": "code",
   "source": "ai_message.pretty_print()",
   "id": "44eb426fb6ad1bcb",
   "outputs": [
    {
     "name": "stdout",
     "output_type": "stream",
     "text": [
      "==================================\u001B[1m Ai Message \u001B[0m==================================\n",
      "\n",
      "현재 서울의 시간은 2025년 9월 16일 16:03:12입니다.\n"
     ]
    }
   ],
   "execution_count": 244
  },
  {
   "metadata": {},
   "cell_type": "markdown",
   "source": "# 2개 이상의 도구 호출을 포함하는 tool_calls 리스트",
   "id": "a91464f176d847c2"
  },
  {
   "metadata": {
    "ExecuteTime": {
     "end_time": "2025-09-16T07:03:14.162557Z",
     "start_time": "2025-09-16T07:03:14.159099Z"
    }
   },
   "cell_type": "code",
   "source": [
    "messages = [\n",
    "    SystemMessage('사용자의 질문에 답하기 위해서 도구를 사용할 수 있어.'),\n",
    "    SystemMessage('도시 이름과 타임존은 일치하지 않을 수도 있으니, 정확한 타임존을 선택해줘.'),\n",
    "    HumanMessage('서울, LA, 런던의 현재 시간은?'),\n",
    "]"
   ],
   "id": "cb556b8642802b04",
   "outputs": [],
   "execution_count": 245
  },
  {
   "metadata": {
    "ExecuteTime": {
     "end_time": "2025-09-16T07:03:16.329728Z",
     "start_time": "2025-09-16T07:03:14.173378Z"
    }
   },
   "cell_type": "code",
   "source": "ai_message = model_with_tools.invoke(input=messages)",
   "id": "20fe46af06e9ba7a",
   "outputs": [],
   "execution_count": 246
  },
  {
   "metadata": {
    "ExecuteTime": {
     "end_time": "2025-09-16T07:03:16.343068Z",
     "start_time": "2025-09-16T07:03:16.338937Z"
    }
   },
   "cell_type": "code",
   "source": "messages.append(ai_message)",
   "id": "fc534a0207ef20b8",
   "outputs": [],
   "execution_count": 247
  },
  {
   "metadata": {
    "ExecuteTime": {
     "end_time": "2025-09-16T07:03:16.365163Z",
     "start_time": "2025-09-16T07:03:16.347129Z"
    }
   },
   "cell_type": "code",
   "source": [
    "for m in messages:\n",
    "    m.pretty_print()"
   ],
   "id": "c99a9695cf61e406",
   "outputs": [
    {
     "name": "stdout",
     "output_type": "stream",
     "text": [
      "================================\u001B[1m System Message \u001B[0m================================\n",
      "\n",
      "사용자의 질문에 답하기 위해서 도구를 사용할 수 있어.\n",
      "================================\u001B[1m System Message \u001B[0m================================\n",
      "\n",
      "도시 이름과 타임존은 일치하지 않을 수도 있으니, 정확한 타임존을 선택해줘.\n",
      "================================\u001B[1m Human Message \u001B[0m=================================\n",
      "\n",
      "서울, LA, 런던의 현재 시간은?\n",
      "==================================\u001B[1m Ai Message \u001B[0m==================================\n",
      "Tool Calls:\n",
      "  get_current_time (call_egUhzj0n9SOdhhL9WXX1lL2p)\n",
      " Call ID: call_egUhzj0n9SOdhhL9WXX1lL2p\n",
      "  Args:\n",
      "    timezone: Asia/Seoul\n",
      "    location: 서울\n",
      "  get_current_time (call_JXALW9OJznhGbd7iWZdTE7N3)\n",
      " Call ID: call_JXALW9OJznhGbd7iWZdTE7N3\n",
      "  Args:\n",
      "    timezone: America/Los_Angeles\n",
      "    location: LA\n",
      "  get_current_time (call_LI4Gi1dyvJMaUReQqPny1lLP)\n",
      " Call ID: call_LI4Gi1dyvJMaUReQqPny1lLP\n",
      "  Args:\n",
      "    timezone: Europe/London\n",
      "    location: 런던\n"
     ]
    }
   ],
   "execution_count": 248
  },
  {
   "metadata": {
    "ExecuteTime": {
     "end_time": "2025-09-16T07:03:16.380572Z",
     "start_time": "2025-09-16T07:03:16.375372Z"
    }
   },
   "cell_type": "code",
   "source": [
    "for tool_call in ai_message.tool_calls:\n",
    "    fn = tool_dict[tool_call['name']]\n",
    "    tool_msg = fn.invoke(tool_call)\n",
    "    messages.append(tool_msg)"
   ],
   "id": "c85018e093bf834e",
   "outputs": [],
   "execution_count": 249
  },
  {
   "metadata": {
    "ExecuteTime": {
     "end_time": "2025-09-16T07:03:16.390285Z",
     "start_time": "2025-09-16T07:03:16.385860Z"
    }
   },
   "cell_type": "code",
   "source": [
    "for m in messages:\n",
    "    m.pretty_print()"
   ],
   "id": "8d35ee3ead31965b",
   "outputs": [
    {
     "name": "stdout",
     "output_type": "stream",
     "text": [
      "================================\u001B[1m System Message \u001B[0m================================\n",
      "\n",
      "사용자의 질문에 답하기 위해서 도구를 사용할 수 있어.\n",
      "================================\u001B[1m System Message \u001B[0m================================\n",
      "\n",
      "도시 이름과 타임존은 일치하지 않을 수도 있으니, 정확한 타임존을 선택해줘.\n",
      "================================\u001B[1m Human Message \u001B[0m=================================\n",
      "\n",
      "서울, LA, 런던의 현재 시간은?\n",
      "==================================\u001B[1m Ai Message \u001B[0m==================================\n",
      "Tool Calls:\n",
      "  get_current_time (call_egUhzj0n9SOdhhL9WXX1lL2p)\n",
      " Call ID: call_egUhzj0n9SOdhhL9WXX1lL2p\n",
      "  Args:\n",
      "    timezone: Asia/Seoul\n",
      "    location: 서울\n",
      "  get_current_time (call_JXALW9OJznhGbd7iWZdTE7N3)\n",
      " Call ID: call_JXALW9OJznhGbd7iWZdTE7N3\n",
      "  Args:\n",
      "    timezone: America/Los_Angeles\n",
      "    location: LA\n",
      "  get_current_time (call_LI4Gi1dyvJMaUReQqPny1lLP)\n",
      " Call ID: call_LI4Gi1dyvJMaUReQqPny1lLP\n",
      "  Args:\n",
      "    timezone: Europe/London\n",
      "    location: 런던\n",
      "=================================\u001B[1m Tool Message \u001B[0m=================================\n",
      "Name: get_current_time\n",
      "\n",
      "2025-09-16 16:03:16 Asia/Seoul(서울)\n",
      "=================================\u001B[1m Tool Message \u001B[0m=================================\n",
      "Name: get_current_time\n",
      "\n",
      "2025-09-16 00:03:16 America/Los_Angeles(LA)\n",
      "=================================\u001B[1m Tool Message \u001B[0m=================================\n",
      "Name: get_current_time\n",
      "\n",
      "2025-09-16 08:03:16 Europe/London(런던)\n"
     ]
    }
   ],
   "execution_count": 250
  },
  {
   "metadata": {
    "ExecuteTime": {
     "end_time": "2025-09-16T07:03:16.402078Z",
     "start_time": "2025-09-16T07:03:16.398377Z"
    }
   },
   "cell_type": "code",
   "source": "ai_message.pretty_print()",
   "id": "f55379bc29302d20",
   "outputs": [
    {
     "name": "stdout",
     "output_type": "stream",
     "text": [
      "==================================\u001B[1m Ai Message \u001B[0m==================================\n",
      "Tool Calls:\n",
      "  get_current_time (call_egUhzj0n9SOdhhL9WXX1lL2p)\n",
      " Call ID: call_egUhzj0n9SOdhhL9WXX1lL2p\n",
      "  Args:\n",
      "    timezone: Asia/Seoul\n",
      "    location: 서울\n",
      "  get_current_time (call_JXALW9OJznhGbd7iWZdTE7N3)\n",
      " Call ID: call_JXALW9OJznhGbd7iWZdTE7N3\n",
      "  Args:\n",
      "    timezone: America/Los_Angeles\n",
      "    location: LA\n",
      "  get_current_time (call_LI4Gi1dyvJMaUReQqPny1lLP)\n",
      " Call ID: call_LI4Gi1dyvJMaUReQqPny1lLP\n",
      "  Args:\n",
      "    timezone: Europe/London\n",
      "    location: 런던\n"
     ]
    }
   ],
   "execution_count": 251
  },
  {
   "metadata": {},
   "cell_type": "markdown",
   "source": [
    "# Pydantic\n",
    "\n",
    "입력된 데이터의 유효성과 형식을 검증하고 특정 데이터 형식으로 명확히 표현하는 라이브러리."
   ],
   "id": "854fa86fdd32ac21"
  },
  {
   "metadata": {
    "ExecuteTime": {
     "end_time": "2025-09-16T07:03:16.412413Z",
     "start_time": "2025-09-16T07:03:16.409461Z"
    }
   },
   "cell_type": "code",
   "source": [
    "def subtract(x: int, y: int) -> int:\n",
    "    return x - y"
   ],
   "id": "69db89807fcd008b",
   "outputs": [],
   "execution_count": 252
  },
  {
   "metadata": {
    "ExecuteTime": {
     "end_time": "2025-09-16T07:03:16.426143Z",
     "start_time": "2025-09-16T07:03:16.422040Z"
    }
   },
   "cell_type": "code",
   "source": "subtract(1, 2)",
   "id": "2d7d69840c89ce29",
   "outputs": [
    {
     "data": {
      "text/plain": [
       "-1"
      ]
     },
     "execution_count": 253,
     "metadata": {},
     "output_type": "execute_result"
    }
   ],
   "execution_count": 253
  },
  {
   "metadata": {
    "ExecuteTime": {
     "end_time": "2025-09-16T07:03:16.441672Z",
     "start_time": "2025-09-16T07:03:16.437778Z"
    }
   },
   "cell_type": "code",
   "source": "subtract(1.1, 2.5)",
   "id": "88c226da5946cb16",
   "outputs": [
    {
     "data": {
      "text/plain": [
       "-1.4"
      ]
     },
     "execution_count": 254,
     "metadata": {},
     "output_type": "execute_result"
    }
   ],
   "execution_count": 254
  },
  {
   "metadata": {},
   "cell_type": "markdown",
   "source": "Python은 파라미터의 타입 검사를 하지 않고, 리턴 타입도 힌트대로 반환하는 것은 아님.",
   "id": "4c39ccd652ca8785"
  },
  {
   "metadata": {
    "ExecuteTime": {
     "end_time": "2025-09-16T07:03:16.475361Z",
     "start_time": "2025-09-16T07:03:16.449292Z"
    }
   },
   "cell_type": "code",
   "source": "subtract('a', 'b')",
   "id": "528fc697185a2775",
   "outputs": [
    {
     "ename": "TypeError",
     "evalue": "unsupported operand type(s) for -: 'str' and 'str'",
     "output_type": "error",
     "traceback": [
      "\u001B[31m---------------------------------------------------------------------------\u001B[39m",
      "\u001B[31mTypeError\u001B[39m                                 Traceback (most recent call last)",
      "\u001B[36mCell\u001B[39m\u001B[36m \u001B[39m\u001B[32mIn[255]\u001B[39m\u001B[32m, line 1\u001B[39m\n\u001B[32m----> \u001B[39m\u001B[32m1\u001B[39m \u001B[43msubtract\u001B[49m\u001B[43m(\u001B[49m\u001B[33;43m'\u001B[39;49m\u001B[33;43ma\u001B[39;49m\u001B[33;43m'\u001B[39;49m\u001B[43m,\u001B[49m\u001B[43m \u001B[49m\u001B[33;43m'\u001B[39;49m\u001B[33;43mb\u001B[39;49m\u001B[33;43m'\u001B[39;49m\u001B[43m)\u001B[49m\n",
      "\u001B[36mCell\u001B[39m\u001B[36m \u001B[39m\u001B[32mIn[252]\u001B[39m\u001B[32m, line 2\u001B[39m, in \u001B[36msubtract\u001B[39m\u001B[34m(x, y)\u001B[39m\n\u001B[32m      1\u001B[39m \u001B[38;5;28;01mdef\u001B[39;00m\u001B[38;5;250m \u001B[39m\u001B[34msubtract\u001B[39m(x: \u001B[38;5;28mint\u001B[39m, y: \u001B[38;5;28mint\u001B[39m) -> \u001B[38;5;28mint\u001B[39m:\n\u001B[32m----> \u001B[39m\u001B[32m2\u001B[39m     \u001B[38;5;28;01mreturn\u001B[39;00m \u001B[43mx\u001B[49m\u001B[43m \u001B[49m\u001B[43m-\u001B[49m\u001B[43m \u001B[49m\u001B[43my\u001B[49m\n",
      "\u001B[31mTypeError\u001B[39m: unsupported operand type(s) for -: 'str' and 'str'"
     ]
    }
   ],
   "execution_count": 255
  },
  {
   "metadata": {
    "ExecuteTime": {
     "end_time": "2025-09-16T07:06:29.671137Z",
     "start_time": "2025-09-16T07:06:29.667737Z"
    }
   },
   "cell_type": "code",
   "source": [
    "class Person:\n",
    "    def __init__(self, id: int, name: str):\n",
    "        self.id = id\n",
    "        self.name = name"
   ],
   "id": "b1768a0b347b221",
   "outputs": [],
   "execution_count": 290
  },
  {
   "metadata": {
    "ExecuteTime": {
     "end_time": "2025-09-16T07:06:30.747288Z",
     "start_time": "2025-09-16T07:06:30.744449Z"
    }
   },
   "cell_type": "code",
   "source": "person = Person(id=1, name='오쌤')",
   "id": "6cbf947b52e1f218",
   "outputs": [],
   "execution_count": 291
  },
  {
   "metadata": {
    "ExecuteTime": {
     "end_time": "2025-09-16T07:06:32.295739Z",
     "start_time": "2025-09-16T07:06:32.291790Z"
    }
   },
   "cell_type": "code",
   "source": "print(person.id)",
   "id": "e06be5ff6a5c0172",
   "outputs": [
    {
     "name": "stdout",
     "output_type": "stream",
     "text": [
      "1\n"
     ]
    }
   ],
   "execution_count": 292
  },
  {
   "metadata": {
    "ExecuteTime": {
     "end_time": "2025-09-16T07:06:33.596625Z",
     "start_time": "2025-09-16T07:06:33.593611Z"
    }
   },
   "cell_type": "code",
   "source": "person2 = Person(id='abc123', name=123)",
   "id": "db8a94e5caed16f3",
   "outputs": [],
   "execution_count": 293
  },
  {
   "metadata": {
    "ExecuteTime": {
     "end_time": "2025-09-16T07:06:34.497751Z",
     "start_time": "2025-09-16T07:06:34.494238Z"
    }
   },
   "cell_type": "code",
   "source": "print(person2.id)",
   "id": "1a5f2613f829f348",
   "outputs": [
    {
     "name": "stdout",
     "output_type": "stream",
     "text": [
      "abc123\n"
     ]
    }
   ],
   "execution_count": 294
  },
  {
   "metadata": {},
   "cell_type": "markdown",
   "source": "Python은 객체를 생성할 때 속성(property)들의 타입 검사를 수행하지 않음.",
   "id": "12171bd5d3c9ab83"
  },
  {
   "metadata": {
    "ExecuteTime": {
     "end_time": "2025-09-16T07:06:36.287698Z",
     "start_time": "2025-09-16T07:06:36.284126Z"
    }
   },
   "cell_type": "code",
   "source": "from pydantic import BaseModel, ValidationError, PositiveInt",
   "id": "7ffc48159af7cd94",
   "outputs": [],
   "execution_count": 295
  },
  {
   "metadata": {
    "ExecuteTime": {
     "end_time": "2025-09-16T07:06:37.263511Z",
     "start_time": "2025-09-16T07:06:37.260007Z"
    }
   },
   "cell_type": "code",
   "source": [
    "class Person(BaseModel):    # 부모 클래스 상속, Person 클래스는 BaseModel 클래스를 상속(확장).\n",
    "    id: PositiveInt\n",
    "    name: str"
   ],
   "id": "60e6f380fb49a950",
   "outputs": [],
   "execution_count": 296
  },
  {
   "metadata": {
    "ExecuteTime": {
     "end_time": "2025-09-16T07:06:38.774502Z",
     "start_time": "2025-09-16T07:06:38.770756Z"
    }
   },
   "cell_type": "code",
   "source": "person3 = Person(id=12345, name='홍길동')",
   "id": "89296004ddb70906",
   "outputs": [],
   "execution_count": 297
  },
  {
   "metadata": {
    "ExecuteTime": {
     "end_time": "2025-09-16T07:06:40.752579Z",
     "start_time": "2025-09-16T07:06:40.747814Z"
    }
   },
   "cell_type": "code",
   "source": "print(person3)",
   "id": "3b24e758572c93b3",
   "outputs": [
    {
     "name": "stdout",
     "output_type": "stream",
     "text": [
      "id=12345 name='홍길동'\n"
     ]
    }
   ],
   "execution_count": 298
  },
  {
   "metadata": {
    "ExecuteTime": {
     "end_time": "2025-09-16T07:06:42.207236Z",
     "start_time": "2025-09-16T07:06:42.202724Z"
    }
   },
   "cell_type": "code",
   "source": "person3.model_dump()    # 인스턴스의 속성(property) 이름과 값으로 dict를 생성해서 리턴.",
   "id": "de21391aab8751d7",
   "outputs": [
    {
     "data": {
      "text/plain": [
       "{'id': 12345, 'name': '홍길동'}"
      ]
     },
     "execution_count": 299,
     "metadata": {},
     "output_type": "execute_result"
    }
   ],
   "execution_count": 299
  },
  {
   "metadata": {
    "ExecuteTime": {
     "end_time": "2025-09-16T07:06:43.314194Z",
     "start_time": "2025-09-16T07:06:43.310001Z"
    }
   },
   "cell_type": "code",
   "source": [
    "try:\n",
    "    person4 = Person(id='abc123', name='1_000')\n",
    "    print(person4)\n",
    "except ValidationError as e:\n",
    "    print(e)"
   ],
   "id": "5050351b3241d53f",
   "outputs": [
    {
     "name": "stdout",
     "output_type": "stream",
     "text": [
      "1 validation error for Person\n",
      "id\n",
      "  Input should be a valid integer, unable to parse string as an integer [type=int_parsing, input_value='abc123', input_type=str]\n",
      "    For further information visit https://errors.pydantic.dev/2.11/v/int_parsing\n"
     ]
    }
   ],
   "execution_count": 300
  },
  {
   "metadata": {
    "ExecuteTime": {
     "end_time": "2025-09-16T07:06:47.071734Z",
     "start_time": "2025-09-16T07:06:47.068279Z"
    }
   },
   "cell_type": "code",
   "source": [
    "person5 = Person(**{'id' : 123456, 'name' : '길동'})  # ** : unpacking 연산자\n",
    "print(person5)"
   ],
   "id": "a0e26a6ab3ac5d3b",
   "outputs": [
    {
     "name": "stdout",
     "output_type": "stream",
     "text": [
      "id=123456 name='길동'\n"
     ]
    }
   ],
   "execution_count": 301
  },
  {
   "metadata": {},
   "cell_type": "markdown",
   "source": "# Pydandtic을 이용한 함수 파라미터 타입 클래스 선언",
   "id": "830a3c787577509f"
  },
  {
   "metadata": {
    "ExecuteTime": {
     "end_time": "2025-09-16T07:06:50.327620Z",
     "start_time": "2025-09-16T07:06:50.324169Z"
    }
   },
   "cell_type": "code",
   "source": "from pydantic import Field",
   "id": "6fca8b6bcae57709",
   "outputs": [],
   "execution_count": 302
  },
  {
   "metadata": {
    "ExecuteTime": {
     "end_time": "2025-09-16T07:06:51.696905Z",
     "start_time": "2025-09-16T07:06:51.693582Z"
    }
   },
   "cell_type": "code",
   "source": [
    "# 주식 가격 조회 함수의 파라미터 타입으로 사용할 클래스.\n",
    "class StockHistoryArgs(BaseModel):\n",
    "    ticker: str = Field(..., title='주식 코드',\n",
    "                        description='주식 데이터를 검색하기 위한 주식 코드(예: AAPL, AMZN)')\n",
    "    period: str = Field(..., title='기간',\n",
    "                        description='주식 데이터 조회 기간(예: 1d, 1mo, 1y)')"
   ],
   "id": "71e504cc973df4bf",
   "outputs": [],
   "execution_count": 303
  },
  {
   "metadata": {
    "ExecuteTime": {
     "end_time": "2025-09-16T07:06:53.184429Z",
     "start_time": "2025-09-16T07:06:53.179333Z"
    }
   },
   "cell_type": "code",
   "source": "StockHistoryArgs.model_json_schema()",
   "id": "94a0c8c9ae08b031",
   "outputs": [
    {
     "data": {
      "text/plain": [
       "{'properties': {'ticker': {'description': '주식 데이터를 검색하기 위한 주식 코드(예: AAPL, AMZN)',\n",
       "   'title': '주식 코드',\n",
       "   'type': 'string'},\n",
       "  'period': {'description': '주식 데이터 조회 기간(예: 1d, 1mo, 1y)',\n",
       "   'title': '기간',\n",
       "   'type': 'string'}},\n",
       " 'required': ['ticker', 'period'],\n",
       " 'title': 'StockHistoryArgs',\n",
       " 'type': 'object'}"
      ]
     },
     "execution_count": 304,
     "metadata": {},
     "output_type": "execute_result"
    }
   ],
   "execution_count": 304
  },
  {
   "metadata": {
    "ExecuteTime": {
     "end_time": "2025-09-16T07:06:55.237296Z",
     "start_time": "2025-09-16T07:06:55.233914Z"
    }
   },
   "cell_type": "code",
   "source": "import yfinance as yf",
   "id": "7ecaa451b2d6871a",
   "outputs": [],
   "execution_count": 305
  },
  {
   "metadata": {
    "ExecuteTime": {
     "end_time": "2025-09-16T07:06:56.955004Z",
     "start_time": "2025-09-16T07:06:56.950075Z"
    }
   },
   "cell_type": "code",
   "source": [
    "@tool\n",
    "def get_yf_stock_history(input: StockHistoryArgs):\n",
    "    \"\"\"해당 기간(period) 동안 주식 코드(ticker)의 데이터를 조회하는 함수. \"\"\"\n",
    "    ticker = yf.Ticker(input.ticker)\n",
    "    history = ticker.history(period=input.period)\n",
    "    return history.to_markdown()    # 조회한 데이터를 마크다운(Markdown) 형식의 문자열로 리턴."
   ],
   "id": "5c6ec5afdbb88343",
   "outputs": [],
   "execution_count": 306
  },
  {
   "metadata": {
    "ExecuteTime": {
     "end_time": "2025-09-16T07:06:58.518244Z",
     "start_time": "2025-09-16T07:06:58.514131Z"
    }
   },
   "cell_type": "code",
   "source": "tools = [get_current_time, get_yf_stock_history,]",
   "id": "3834211ff09a24c",
   "outputs": [],
   "execution_count": 307
  },
  {
   "metadata": {
    "ExecuteTime": {
     "end_time": "2025-09-16T07:07:00.054683Z",
     "start_time": "2025-09-16T07:07:00.051928Z"
    }
   },
   "cell_type": "code",
   "source": [
    "tool_dict ={\n",
    "    'get_current_time': get_current_time,\n",
    "    'get_yf_stock_history': get_yf_stock_history,\n",
    "}"
   ],
   "id": "5d55b15b174d078e",
   "outputs": [],
   "execution_count": 308
  },
  {
   "metadata": {
    "ExecuteTime": {
     "end_time": "2025-09-16T07:07:02.147972Z",
     "start_time": "2025-09-16T07:07:02.140039Z"
    }
   },
   "cell_type": "code",
   "source": "model_with_tools = model.bind_tools(tools=tools)    # 도구 목록을 포함하는 AI 모델 객체",
   "id": "c7bbc850374223fa",
   "outputs": [],
   "execution_count": 309
  },
  {
   "metadata": {
    "ExecuteTime": {
     "end_time": "2025-09-16T07:07:03.750045Z",
     "start_time": "2025-09-16T07:07:03.747488Z"
    }
   },
   "cell_type": "code",
   "source": [
    "messages = [\n",
    "    SystemMessage('답변을 생성하기 위해 도구를 사용할 수 있어.'),\n",
    "    SystemMessage('도시 이름과 타임존은 일치하지 않을 수도 있어.'),\n",
    "    SystemMessage('ticker는 실제 사용되는 주식 코드여야 해.'),\n",
    "    HumanMessage('삼성전자는 한 달 전과 비교해서 주식이 올랐어? 내렸어?'),\n",
    "]"
   ],
   "id": "57f8a7ab33057a0a",
   "outputs": [],
   "execution_count": 310
  },
  {
   "metadata": {
    "ExecuteTime": {
     "end_time": "2025-09-16T07:07:06.518497Z",
     "start_time": "2025-09-16T07:07:05.291615Z"
    }
   },
   "cell_type": "code",
   "source": "ai_message = model_with_tools.invoke(input=messages)",
   "id": "b7ba690906f58e20",
   "outputs": [],
   "execution_count": 311
  },
  {
   "metadata": {
    "ExecuteTime": {
     "end_time": "2025-09-16T07:07:08.062266Z",
     "start_time": "2025-09-16T07:07:08.058682Z"
    }
   },
   "cell_type": "code",
   "source": "messages.append(ai_message)",
   "id": "2a3a50dc9cd60d1d",
   "outputs": [],
   "execution_count": 312
  },
  {
   "metadata": {
    "ExecuteTime": {
     "end_time": "2025-09-16T07:07:09.536882Z",
     "start_time": "2025-09-16T07:07:09.531935Z"
    }
   },
   "cell_type": "code",
   "source": [
    "for m in messages:\n",
    "    m.pretty_print()"
   ],
   "id": "4f777decea9e4bd4",
   "outputs": [
    {
     "name": "stdout",
     "output_type": "stream",
     "text": [
      "================================\u001B[1m System Message \u001B[0m================================\n",
      "\n",
      "답변을 생성하기 위해 도구를 사용할 수 있어.\n",
      "================================\u001B[1m System Message \u001B[0m================================\n",
      "\n",
      "도시 이름과 타임존은 일치하지 않을 수도 있어.\n",
      "================================\u001B[1m System Message \u001B[0m================================\n",
      "\n",
      "ticker는 실제 사용되는 주식 코드여야 해.\n",
      "================================\u001B[1m Human Message \u001B[0m=================================\n",
      "\n",
      "삼성전자는 한 달 전과 비교해서 주식이 올랐어? 내렸어?\n",
      "==================================\u001B[1m Ai Message \u001B[0m==================================\n",
      "Tool Calls:\n",
      "  get_yf_stock_history (call_ZbkrSu2IJrRVLLg6MHfZz8Xx)\n",
      " Call ID: call_ZbkrSu2IJrRVLLg6MHfZz8Xx\n",
      "  Args:\n",
      "    input: {'ticker': '005930.KS', 'period': '1mo'}\n"
     ]
    }
   ],
   "execution_count": 313
  },
  {
   "metadata": {
    "ExecuteTime": {
     "end_time": "2025-09-16T07:07:13.249418Z",
     "start_time": "2025-09-16T07:07:12.949417Z"
    }
   },
   "cell_type": "code",
   "source": [
    "for tool_call in ai_message.tool_calls:\n",
    "    fn = tool_dict[tool_call['name']]\n",
    "    tool_msg = fn.invoke(tool_call)\n",
    "    messages.append(tool_msg)"
   ],
   "id": "3b2ec3bfe339fac4",
   "outputs": [],
   "execution_count": 314
  },
  {
   "metadata": {
    "ExecuteTime": {
     "end_time": "2025-09-16T07:07:14.794061Z",
     "start_time": "2025-09-16T07:07:14.789255Z"
    }
   },
   "cell_type": "code",
   "source": [
    "for m in messages:\n",
    "    m.pretty_print()"
   ],
   "id": "be1004c3bf8f0fc6",
   "outputs": [
    {
     "name": "stdout",
     "output_type": "stream",
     "text": [
      "================================\u001B[1m System Message \u001B[0m================================\n",
      "\n",
      "답변을 생성하기 위해 도구를 사용할 수 있어.\n",
      "================================\u001B[1m System Message \u001B[0m================================\n",
      "\n",
      "도시 이름과 타임존은 일치하지 않을 수도 있어.\n",
      "================================\u001B[1m System Message \u001B[0m================================\n",
      "\n",
      "ticker는 실제 사용되는 주식 코드여야 해.\n",
      "================================\u001B[1m Human Message \u001B[0m=================================\n",
      "\n",
      "삼성전자는 한 달 전과 비교해서 주식이 올랐어? 내렸어?\n",
      "==================================\u001B[1m Ai Message \u001B[0m==================================\n",
      "Tool Calls:\n",
      "  get_yf_stock_history (call_ZbkrSu2IJrRVLLg6MHfZz8Xx)\n",
      " Call ID: call_ZbkrSu2IJrRVLLg6MHfZz8Xx\n",
      "  Args:\n",
      "    input: {'ticker': '005930.KS', 'period': '1mo'}\n",
      "=================================\u001B[1m Tool Message \u001B[0m=================================\n",
      "Name: get_yf_stock_history\n",
      "\n",
      "| Date                      |   Open |   High |   Low |   Close |      Volume |   Dividends |   Stock Splits |\n",
      "|:--------------------------|-------:|-------:|------:|--------:|------------:|------------:|---------------:|\n",
      "| 2025-08-18 00:00:00+09:00 |  71100 |  71200 | 70000 |   70000 | 1.35956e+07 |           0 |              0 |\n",
      "| 2025-08-19 00:00:00+09:00 |  70400 |  70700 | 69700 |   70000 | 1.05331e+07 |           0 |              0 |\n",
      "| 2025-08-20 00:00:00+09:00 |  70100 |  70700 | 69400 |   70500 | 1.74455e+07 |           0 |              0 |\n",
      "| 2025-08-21 00:00:00+09:00 |  71500 |  71900 | 70600 |   70600 | 1.88438e+07 |           0 |              0 |\n",
      "| 2025-08-22 00:00:00+09:00 |  71700 |  71800 | 70800 |   71400 | 9.27743e+06 |           0 |              0 |\n",
      "| 2025-08-25 00:00:00+09:00 |  71700 |  71800 | 71000 |   71500 | 1.03452e+07 |           0 |              0 |\n",
      "| 2025-08-26 00:00:00+09:00 |  70800 |  71100 | 70300 |   70300 | 1.47125e+07 |           0 |              0 |\n",
      "| 2025-08-27 00:00:00+09:00 |  70100 |  70900 | 69800 |   70600 | 1.05234e+07 |           0 |              0 |\n",
      "| 2025-08-28 00:00:00+09:00 |  70100 |  70400 | 69600 |   69600 | 1.1578e+07  |           0 |              0 |\n",
      "| 2025-08-29 00:00:00+09:00 |  70100 |  70500 | 69700 |   69700 | 1.16823e+07 |           0 |              0 |\n",
      "| 2025-09-01 00:00:00+09:00 |  68400 |  68600 | 67500 |   67600 | 1.20023e+07 |           0 |              0 |\n",
      "| 2025-09-02 00:00:00+09:00 |  67800 |  69500 | 67800 |   69100 | 1.0604e+07  |           0 |              0 |\n",
      "| 2025-09-03 00:00:00+09:00 |  69200 |  69800 | 68800 |   69800 | 1.0283e+07  |           0 |              0 |\n",
      "| 2025-09-04 00:00:00+09:00 |  69500 |  70100 | 69300 |   70100 | 1.22844e+07 |           0 |              0 |\n",
      "| 2025-09-05 00:00:00+09:00 |  70300 |  70400 | 69500 |   69500 | 1.15267e+07 |           0 |              0 |\n",
      "| 2025-09-08 00:00:00+09:00 |  69800 |  70500 | 69600 |   70100 | 9.26314e+06 |           0 |              0 |\n",
      "| 2025-09-09 00:00:00+09:00 |  70100 |  71500 | 70000 |   71500 | 1.48702e+07 |           0 |              0 |\n",
      "| 2025-09-10 00:00:00+09:00 |  71800 |  72800 | 71600 |   72600 | 2.19286e+07 |           0 |              0 |\n",
      "| 2025-09-11 00:00:00+09:00 |  73200 |  73600 | 72100 |   73400 | 2.07935e+07 |           0 |              0 |\n",
      "| 2025-09-12 00:00:00+09:00 |  74600 |  75600 | 74200 |   75400 | 2.82197e+07 |           0 |              0 |\n",
      "| 2025-09-15 00:00:00+09:00 |  77200 |  77600 | 75900 |   76500 | 1.99088e+07 |           0 |              0 |\n",
      "| 2025-09-16 00:00:00+09:00 |      0 |  79500 | 76700 |   79400 | 3.02179e+07 |           0 |              0 |\n"
     ]
    }
   ],
   "execution_count": 315
  },
  {
   "metadata": {
    "ExecuteTime": {
     "end_time": "2025-09-16T07:07:23.164748Z",
     "start_time": "2025-09-16T07:07:20.847473Z"
    }
   },
   "cell_type": "code",
   "source": "ai_message = model_with_tools.invoke(input=messages)",
   "id": "39810d4a54b1ca19",
   "outputs": [],
   "execution_count": 316
  },
  {
   "metadata": {
    "ExecuteTime": {
     "end_time": "2025-09-16T07:07:25.425205Z",
     "start_time": "2025-09-16T07:07:25.421043Z"
    }
   },
   "cell_type": "code",
   "source": "ai_message.pretty_print()",
   "id": "6d5c879470412fff",
   "outputs": [
    {
     "name": "stdout",
     "output_type": "stream",
     "text": [
      "==================================\u001B[1m Ai Message \u001B[0m==================================\n",
      "\n",
      "삼성전자의 주가는 한 달 전과 비교하여 다음과 같은 변화가 있었습니다.\n",
      "\n",
      "- 한 달 전의 주가 (2025년 8월 18일): 70,000 원\n",
      "- 현재 주가 (2025년 9월 16일): 79,400 원\n",
      "\n",
      "따라서, 삼성전자는 한 달 동안 주가가 상승했습니다.\n"
     ]
    }
   ],
   "execution_count": 317
  },
  {
   "metadata": {},
   "cell_type": "code",
   "outputs": [],
   "execution_count": null,
   "source": "",
   "id": "543fe31bfc2eba10"
  }
 ],
 "metadata": {
  "kernelspec": {
   "display_name": "Python 3",
   "language": "python",
   "name": "python3"
  },
  "language_info": {
   "codemirror_mode": {
    "name": "ipython",
    "version": 2
   },
   "file_extension": ".py",
   "mimetype": "text/x-python",
   "name": "python",
   "nbconvert_exporter": "python",
   "pygments_lexer": "ipython2",
   "version": "2.7.6"
  }
 },
 "nbformat": 4,
 "nbformat_minor": 5
}
