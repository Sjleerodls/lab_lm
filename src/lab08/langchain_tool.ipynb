{
 "cells": [
  {
   "metadata": {},
   "cell_type": "markdown",
   "source": "# LangChain `@tool` 데코레이터",
   "id": "7b8d23e26ea3cb59"
  },
  {
   "cell_type": "code",
   "id": "initial_id",
   "metadata": {
    "collapsed": true,
    "ExecuteTime": {
     "end_time": "2025-09-16T03:04:12.083622Z",
     "start_time": "2025-09-16T03:04:12.079307Z"
    }
   },
   "source": [
    "from datetime import datetime\n",
    "from dotenv import load_dotenv\n",
    "import pytz\n",
    "from isapi.isapicon import HTTP_UNAUTHORIZED\n",
    "from langchain_core.tools import tool   # decorator\n",
    "from langchain_openai import ChatOpenAI\n",
    "from langchain_core.messages import SystemMessage, HumanMessage"
   ],
   "outputs": [],
   "execution_count": 113
  },
  {
   "metadata": {
    "ExecuteTime": {
     "end_time": "2025-09-16T03:04:12.103474Z",
     "start_time": "2025-09-16T03:04:12.099140Z"
    }
   },
   "cell_type": "code",
   "source": [
    "# .env 파일에 저장된 api_key를 OS 환경 변수로 로딩\n",
    "load_dotenv()"
   ],
   "id": "41b46901b563a98d",
   "outputs": [
    {
     "data": {
      "text/plain": [
       "True"
      ]
     },
     "execution_count": 114,
     "metadata": {},
     "output_type": "execute_result"
    }
   ],
   "execution_count": 114
  },
  {
   "metadata": {
    "ExecuteTime": {
     "end_time": "2025-09-16T03:04:12.118450Z",
     "start_time": "2025-09-16T03:04:12.113204Z"
    }
   },
   "cell_type": "code",
   "source": [
    "# OpenAI 클라이언트를 생성\n",
    "model = ChatOpenAI(model = 'gpt-4o-mini')"
   ],
   "id": "61cdf720824d6064",
   "outputs": [],
   "execution_count": 115
  },
  {
   "metadata": {
    "ExecuteTime": {
     "end_time": "2025-09-16T03:04:15.354384Z",
     "start_time": "2025-09-16T03:04:12.122500Z"
    }
   },
   "cell_type": "code",
   "source": [
    "# AI에게 메시지 전달하고 실행(invoke).\n",
    "messages = [\n",
    "    SystemMessage(content='너는 사용자의 질문에 답하는 AI 비서야.'),\n",
    "    HumanMessage(content='지금 현재 서울 시간?')\n",
    "]\n",
    "ai_message = model.invoke(input=messages)"
   ],
   "id": "376b9ac9b4dcf149",
   "outputs": [],
   "execution_count": 116
  },
  {
   "metadata": {
    "ExecuteTime": {
     "end_time": "2025-09-16T03:04:15.367395Z",
     "start_time": "2025-09-16T03:04:15.362573Z"
    }
   },
   "cell_type": "code",
   "source": "type(ai_message)",
   "id": "c71628891eb545da",
   "outputs": [
    {
     "data": {
      "text/plain": [
       "langchain_core.messages.ai.AIMessage"
      ]
     },
     "execution_count": 117,
     "metadata": {},
     "output_type": "execute_result"
    }
   ],
   "execution_count": 117
  },
  {
   "metadata": {
    "ExecuteTime": {
     "end_time": "2025-09-16T03:04:15.382718Z",
     "start_time": "2025-09-16T03:04:15.379178Z"
    }
   },
   "cell_type": "code",
   "source": "print(ai_message)",
   "id": "5e2dc3bb573e5992",
   "outputs": [
    {
     "name": "stdout",
     "output_type": "stream",
     "text": [
      "content='서울의 현재 시간을 확인하려면 인터넷에서 시간을 확인해 보시기 바랍니다. 제가 실시간 정보를 제공할 수는 없지만, 서울은 한국 표준시(KST)로 UTC+9 시간대에 있습니다. 따라서 다른 지역의 시간을 기준으로 변환하시면 서울의 현재 시간을 알 수 있습니다.' additional_kwargs={'refusal': None} response_metadata={'token_usage': {'completion_tokens': 65, 'prompt_tokens': 30, 'total_tokens': 95, 'completion_tokens_details': {'accepted_prediction_tokens': 0, 'audio_tokens': 0, 'reasoning_tokens': 0, 'rejected_prediction_tokens': 0}, 'prompt_tokens_details': {'audio_tokens': 0, 'cached_tokens': 0}}, 'model_name': 'gpt-4o-mini-2024-07-18', 'system_fingerprint': 'fp_51db84afab', 'id': 'chatcmpl-CGGHGSjMECvY3kTnuuLNCTHoI3qGd', 'service_tier': 'default', 'finish_reason': 'stop', 'logprobs': None} id='run--e3a79987-4ef1-41e1-8e4f-0529b411078d-0' usage_metadata={'input_tokens': 30, 'output_tokens': 65, 'total_tokens': 95, 'input_token_details': {'audio': 0, 'cache_read': 0}, 'output_token_details': {'audio': 0, 'reasoning': 0}}\n"
     ]
    }
   ],
   "execution_count": 118
  },
  {
   "metadata": {
    "ExecuteTime": {
     "end_time": "2025-09-16T03:04:15.400060Z",
     "start_time": "2025-09-16T03:04:15.396834Z"
    }
   },
   "cell_type": "code",
   "source": "ai_message.pretty_print()",
   "id": "4be21a0825d9f7d9",
   "outputs": [
    {
     "name": "stdout",
     "output_type": "stream",
     "text": [
      "==================================\u001B[1m Ai Message \u001B[0m==================================\n",
      "\n",
      "서울의 현재 시간을 확인하려면 인터넷에서 시간을 확인해 보시기 바랍니다. 제가 실시간 정보를 제공할 수는 없지만, 서울은 한국 표준시(KST)로 UTC+9 시간대에 있습니다. 따라서 다른 지역의 시간을 기준으로 변환하시면 서울의 현재 시간을 알 수 있습니다.\n"
     ]
    }
   ],
   "execution_count": 119
  },
  {
   "metadata": {},
   "cell_type": "markdown",
   "source": [
    "도구(tool)을 AI에게 제공하고, AI는 tool 목록에 있는 함수 호출(function calling)을 요청해서 에이전트가 함수 호출 결과를 다시 AI에게 전송하면 AI는 함수 호출 결과를 바탕으로 답변을 생성할 수 있음.\n",
    "\n",
    "사용자 질문(도구 목록 제공) -> AI 도구 호출 요청 -> 사용자 함수 호출 결과 제공 -> AI 답변 생성"
   ],
   "id": "21b7f7d53bd87a9a"
  },
  {
   "metadata": {
    "ExecuteTime": {
     "end_time": "2025-09-16T03:04:15.416675Z",
     "start_time": "2025-09-16T03:04:15.410875Z"
    }
   },
   "cell_type": "code",
   "source": [
    "@tool\n",
    "def get_current_time(timezone: str, location: str) -> str:\n",
    "    \"\"\"해당 timezone의 현재 날짜와 시간을 문자열로 리턴.\n",
    "\n",
    "    Args:\n",
    "        timezone (str) : 타임존. (예: Asia/Seoul)\n",
    "        location (str) : 지역명. 타임존은 모든 도시 이름에 대응되지 않기 때문에 LLM이 답변을 생성할 때 이용하도록 제공.\n",
    "    Returns: '날짜 시간 타임존(지역명)' 형식의 문자열을 반환. (예: 2025-09-15 15:30:55 Asia/Seoul(부산))\n",
    "    \"\"\"\n",
    "    tz = pytz.timezone(timezone)\n",
    "    now = datetime.now(tz).strftime('%Y-%m-%d %H:%M:%S')\n",
    "    result = f'{now} {timezone}({location})'\n",
    "\n",
    "    return result"
   ],
   "id": "a049100806cc4c75",
   "outputs": [],
   "execution_count": 120
  },
  {
   "metadata": {
    "ExecuteTime": {
     "end_time": "2025-09-16T03:04:15.426247Z",
     "start_time": "2025-09-16T03:04:15.422989Z"
    }
   },
   "cell_type": "code",
   "source": [
    "# 도구 목록 : @tool 데코레이터가 사용된 함수들의 리스트\n",
    "tools = [get_current_time,]"
   ],
   "id": "70171f16b8445ec3",
   "outputs": [],
   "execution_count": 121
  },
  {
   "metadata": {
    "ExecuteTime": {
     "end_time": "2025-09-16T03:04:15.432091Z",
     "start_time": "2025-09-16T03:04:15.429728Z"
    }
   },
   "cell_type": "code",
   "source": [
    "# AI에서 도구 목록의 함수 호출을 요청했을 때 함수 객체를 쉽게 찾기 위해서 dict 선언.\n",
    "tool_dict = {\n",
    "    'get_current_time': get_current_time,\n",
    "}"
   ],
   "id": "da41cc4189b20ed3",
   "outputs": [],
   "execution_count": 122
  },
  {
   "metadata": {
    "ExecuteTime": {
     "end_time": "2025-09-16T03:04:15.440455Z",
     "start_time": "2025-09-16T03:04:15.435625Z"
    }
   },
   "cell_type": "code",
   "source": [
    "# AI 모델과 도구 목록을 binding (묶어줌).\n",
    "model_with_tools = model.bind_tools(tools=tools)"
   ],
   "id": "810c7dbcf970a0dc",
   "outputs": [],
   "execution_count": 123
  },
  {
   "metadata": {
    "ExecuteTime": {
     "end_time": "2025-09-16T03:04:15.451369Z",
     "start_time": "2025-09-16T03:04:15.447331Z"
    }
   },
   "cell_type": "code",
   "source": "print(messages)",
   "id": "95c410ac731478eb",
   "outputs": [
    {
     "name": "stdout",
     "output_type": "stream",
     "text": [
      "[SystemMessage(content='너는 사용자의 질문에 답하는 AI 비서야.', additional_kwargs={}, response_metadata={}), HumanMessage(content='지금 현재 서울 시간?', additional_kwargs={}, response_metadata={})]\n"
     ]
    }
   ],
   "execution_count": 124
  },
  {
   "metadata": {
    "ExecuteTime": {
     "end_time": "2025-09-16T03:04:17.059023Z",
     "start_time": "2025-09-16T03:04:15.473493Z"
    }
   },
   "cell_type": "code",
   "source": [
    "# 도구 목록을 가지고 있는 AI 모델 호출\n",
    "response = model_with_tools.invoke(input=messages)"
   ],
   "id": "9ab8d53a093e9f51",
   "outputs": [],
   "execution_count": 125
  },
  {
   "metadata": {
    "ExecuteTime": {
     "end_time": "2025-09-16T03:04:17.069446Z",
     "start_time": "2025-09-16T03:04:17.064751Z"
    }
   },
   "cell_type": "code",
   "source": "print(type(response))",
   "id": "843286e4187adc05",
   "outputs": [
    {
     "name": "stdout",
     "output_type": "stream",
     "text": [
      "<class 'langchain_core.messages.ai.AIMessage'>\n"
     ]
    }
   ],
   "execution_count": 126
  },
  {
   "metadata": {
    "ExecuteTime": {
     "end_time": "2025-09-16T03:04:17.086285Z",
     "start_time": "2025-09-16T03:04:17.081580Z"
    }
   },
   "cell_type": "code",
   "source": "print(response)",
   "id": "3e71ae88ac2bca77",
   "outputs": [
    {
     "name": "stdout",
     "output_type": "stream",
     "text": [
      "content='' additional_kwargs={'tool_calls': [{'id': 'call_249lctUKDSXYg8rDlJ5LGssh', 'function': {'arguments': '{\"timezone\":\"Asia/Seoul\",\"location\":\"서울\"}', 'name': 'get_current_time'}, 'type': 'function'}], 'refusal': None} response_metadata={'token_usage': {'completion_tokens': 22, 'prompt_tokens': 170, 'total_tokens': 192, 'completion_tokens_details': {'accepted_prediction_tokens': 0, 'audio_tokens': 0, 'reasoning_tokens': 0, 'rejected_prediction_tokens': 0}, 'prompt_tokens_details': {'audio_tokens': 0, 'cached_tokens': 0}}, 'model_name': 'gpt-4o-mini-2024-07-18', 'system_fingerprint': 'fp_560af6e559', 'id': 'chatcmpl-CGGHIy3T9qRVMGLDbQAfCLimAwWS3', 'service_tier': 'default', 'finish_reason': 'tool_calls', 'logprobs': None} id='run--b9023ffc-c5ed-4986-8393-ebf11e19befb-0' tool_calls=[{'name': 'get_current_time', 'args': {'timezone': 'Asia/Seoul', 'location': '서울'}, 'id': 'call_249lctUKDSXYg8rDlJ5LGssh', 'type': 'tool_call'}] usage_metadata={'input_tokens': 170, 'output_tokens': 22, 'total_tokens': 192, 'input_token_details': {'audio': 0, 'cache_read': 0}, 'output_token_details': {'audio': 0, 'reasoning': 0}}\n"
     ]
    }
   ],
   "execution_count": 127
  },
  {
   "metadata": {
    "ExecuteTime": {
     "end_time": "2025-09-16T03:04:17.103320Z",
     "start_time": "2025-09-16T03:04:17.100333Z"
    }
   },
   "cell_type": "code",
   "source": "response.pretty_print()",
   "id": "f887da91ac8ed647",
   "outputs": [
    {
     "name": "stdout",
     "output_type": "stream",
     "text": [
      "==================================\u001B[1m Ai Message \u001B[0m==================================\n",
      "Tool Calls:\n",
      "  get_current_time (call_249lctUKDSXYg8rDlJ5LGssh)\n",
      " Call ID: call_249lctUKDSXYg8rDlJ5LGssh\n",
      "  Args:\n",
      "    timezone: Asia/Seoul\n",
      "    location: 서울\n"
     ]
    }
   ],
   "execution_count": 128
  },
  {
   "metadata": {
    "ExecuteTime": {
     "end_time": "2025-09-16T03:04:17.118433Z",
     "start_time": "2025-09-16T03:04:17.114105Z"
    }
   },
   "cell_type": "code",
   "source": "messages.append(response)   # 대화 이력 저장 : AIMessages 객체를 리스트에 추가",
   "id": "4ab5fda49820b69a",
   "outputs": [],
   "execution_count": 129
  },
  {
   "metadata": {
    "ExecuteTime": {
     "end_time": "2025-09-16T03:04:17.131443Z",
     "start_time": "2025-09-16T03:04:17.128552Z"
    }
   },
   "cell_type": "code",
   "source": [
    "for m in messages:\n",
    "    m.pretty_print()"
   ],
   "id": "224661562f953a13",
   "outputs": [
    {
     "name": "stdout",
     "output_type": "stream",
     "text": [
      "================================\u001B[1m System Message \u001B[0m================================\n",
      "\n",
      "너는 사용자의 질문에 답하는 AI 비서야.\n",
      "================================\u001B[1m Human Message \u001B[0m=================================\n",
      "\n",
      "지금 현재 서울 시간?\n",
      "==================================\u001B[1m Ai Message \u001B[0m==================================\n",
      "Tool Calls:\n",
      "  get_current_time (call_249lctUKDSXYg8rDlJ5LGssh)\n",
      " Call ID: call_249lctUKDSXYg8rDlJ5LGssh\n",
      "  Args:\n",
      "    timezone: Asia/Seoul\n",
      "    location: 서울\n"
     ]
    }
   ],
   "execution_count": 130
  },
  {
   "metadata": {
    "ExecuteTime": {
     "end_time": "2025-09-16T03:04:17.149270Z",
     "start_time": "2025-09-16T03:04:17.145082Z"
    }
   },
   "cell_type": "code",
   "source": [
    "for tool_call in response.tool_calls:\n",
    "    fn = tool_dict[tool_call['name']]   # AIMessage의 포함된 함수 이름으로 함수 객체를 찾음.\n",
    "    tool_msg = fn.invoke(tool_call)     # @tool 데코레이터로 포장 -> invoke가 가능.\n",
    "    # invoke : tool_call에서 args를 찾고 fn를 호출할 때 아규먼트를 전달. 리턴값을 이용해서 ToolMessage 객체 반환.\n",
    "    messages.append(tool_msg)"
   ],
   "id": "d78986c532a445f4",
   "outputs": [],
   "execution_count": 131
  },
  {
   "metadata": {
    "ExecuteTime": {
     "end_time": "2025-09-16T03:04:17.162938Z",
     "start_time": "2025-09-16T03:04:17.159870Z"
    }
   },
   "cell_type": "code",
   "source": [
    "for m in messages:\n",
    "    m.pretty_print()"
   ],
   "id": "7c00799f466614e1",
   "outputs": [
    {
     "name": "stdout",
     "output_type": "stream",
     "text": [
      "================================\u001B[1m System Message \u001B[0m================================\n",
      "\n",
      "너는 사용자의 질문에 답하는 AI 비서야.\n",
      "================================\u001B[1m Human Message \u001B[0m=================================\n",
      "\n",
      "지금 현재 서울 시간?\n",
      "==================================\u001B[1m Ai Message \u001B[0m==================================\n",
      "Tool Calls:\n",
      "  get_current_time (call_249lctUKDSXYg8rDlJ5LGssh)\n",
      " Call ID: call_249lctUKDSXYg8rDlJ5LGssh\n",
      "  Args:\n",
      "    timezone: Asia/Seoul\n",
      "    location: 서울\n",
      "=================================\u001B[1m Tool Message \u001B[0m=================================\n",
      "Name: get_current_time\n",
      "\n",
      "2025-09-16 12:04:17 Asia/Seoul(서울)\n"
     ]
    }
   ],
   "execution_count": 132
  },
  {
   "metadata": {
    "ExecuteTime": {
     "end_time": "2025-09-16T03:04:18.141786Z",
     "start_time": "2025-09-16T03:04:17.173433Z"
    }
   },
   "cell_type": "code",
   "source": "ai_message = model_with_tools.invoke(input=messages)",
   "id": "3c26d783aa3fb4d0",
   "outputs": [],
   "execution_count": 133
  },
  {
   "metadata": {
    "ExecuteTime": {
     "end_time": "2025-09-16T03:04:18.151485Z",
     "start_time": "2025-09-16T03:04:18.147535Z"
    }
   },
   "cell_type": "code",
   "source": "ai_message.pretty_print()",
   "id": "44eb426fb6ad1bcb",
   "outputs": [
    {
     "name": "stdout",
     "output_type": "stream",
     "text": [
      "==================================\u001B[1m Ai Message \u001B[0m==================================\n",
      "\n",
      "현재 서울 시간은 2025-09-16 12:04:17입니다.\n"
     ]
    }
   ],
   "execution_count": 134
  },
  {
   "metadata": {},
   "cell_type": "markdown",
   "source": "# 2개 이상의 도구 호출을 포함하는 tool_calls 리스트",
   "id": "a91464f176d847c2"
  },
  {
   "metadata": {
    "ExecuteTime": {
     "end_time": "2025-09-16T03:04:18.169682Z",
     "start_time": "2025-09-16T03:04:18.164419Z"
    }
   },
   "cell_type": "code",
   "source": [
    "messages = [\n",
    "    SystemMessage('사용자의 질문에 답하기 위해서 도구를 사용할 수 있어.'),\n",
    "    SystemMessage('도시 이름과 타임존은 일치하지 않을 수도 있으니, 정확한 타임존을 선택해줘.'),\n",
    "    HumanMessage('서울, LA, 런던의 현재 시간은?'),\n",
    "]"
   ],
   "id": "cb556b8642802b04",
   "outputs": [],
   "execution_count": 135
  },
  {
   "metadata": {
    "ExecuteTime": {
     "end_time": "2025-09-16T03:04:20.002437Z",
     "start_time": "2025-09-16T03:04:18.176705Z"
    }
   },
   "cell_type": "code",
   "source": "ai_message = model_with_tools.invoke(input=messages)",
   "id": "20fe46af06e9ba7a",
   "outputs": [],
   "execution_count": 136
  },
  {
   "metadata": {
    "ExecuteTime": {
     "end_time": "2025-09-16T03:04:20.010093Z",
     "start_time": "2025-09-16T03:04:20.007660Z"
    }
   },
   "cell_type": "code",
   "source": "messages.append(ai_message)",
   "id": "fc534a0207ef20b8",
   "outputs": [],
   "execution_count": 137
  },
  {
   "metadata": {
    "ExecuteTime": {
     "end_time": "2025-09-16T03:04:20.028543Z",
     "start_time": "2025-09-16T03:04:20.015916Z"
    }
   },
   "cell_type": "code",
   "source": [
    "for m in messages:\n",
    "    m.pretty_print()"
   ],
   "id": "c99a9695cf61e406",
   "outputs": [
    {
     "name": "stdout",
     "output_type": "stream",
     "text": [
      "================================\u001B[1m System Message \u001B[0m================================\n",
      "\n",
      "사용자의 질문에 답하기 위해서 도구를 사용할 수 있어.\n",
      "================================\u001B[1m System Message \u001B[0m================================\n",
      "\n",
      "도시 이름과 타임존은 일치하지 않을 수도 있으니, 정확한 타임존을 선택해줘.\n",
      "================================\u001B[1m Human Message \u001B[0m=================================\n",
      "\n",
      "서울, LA, 런던의 현재 시간은?\n",
      "==================================\u001B[1m Ai Message \u001B[0m==================================\n",
      "Tool Calls:\n",
      "  get_current_time (call_nK3wXiob5AdNRrRWzlcqswqX)\n",
      " Call ID: call_nK3wXiob5AdNRrRWzlcqswqX\n",
      "  Args:\n",
      "    timezone: Asia/Seoul\n",
      "    location: 서울\n",
      "  get_current_time (call_WztA2jJOEeVsJvvGja6Jk0Fu)\n",
      " Call ID: call_WztA2jJOEeVsJvvGja6Jk0Fu\n",
      "  Args:\n",
      "    timezone: America/Los_Angeles\n",
      "    location: LA\n",
      "  get_current_time (call_RSVvYlDukaE7A6wWMcwNPuM8)\n",
      " Call ID: call_RSVvYlDukaE7A6wWMcwNPuM8\n",
      "  Args:\n",
      "    timezone: Europe/London\n",
      "    location: 런던\n"
     ]
    }
   ],
   "execution_count": 138
  },
  {
   "metadata": {
    "ExecuteTime": {
     "end_time": "2025-09-16T03:04:20.036826Z",
     "start_time": "2025-09-16T03:04:20.032492Z"
    }
   },
   "cell_type": "code",
   "source": [
    "for tool_call in ai_message.tool_calls:\n",
    "    fn = tool_dict[tool_call['name']]\n",
    "    tool_msg = fn.invoke(tool_call)\n",
    "    messages.append(tool_msg)"
   ],
   "id": "c85018e093bf834e",
   "outputs": [],
   "execution_count": 139
  },
  {
   "metadata": {
    "ExecuteTime": {
     "end_time": "2025-09-16T03:04:20.050072Z",
     "start_time": "2025-09-16T03:04:20.046542Z"
    }
   },
   "cell_type": "code",
   "source": [
    "for m in messages:\n",
    "    m.pretty_print()"
   ],
   "id": "8d35ee3ead31965b",
   "outputs": [
    {
     "name": "stdout",
     "output_type": "stream",
     "text": [
      "================================\u001B[1m System Message \u001B[0m================================\n",
      "\n",
      "사용자의 질문에 답하기 위해서 도구를 사용할 수 있어.\n",
      "================================\u001B[1m System Message \u001B[0m================================\n",
      "\n",
      "도시 이름과 타임존은 일치하지 않을 수도 있으니, 정확한 타임존을 선택해줘.\n",
      "================================\u001B[1m Human Message \u001B[0m=================================\n",
      "\n",
      "서울, LA, 런던의 현재 시간은?\n",
      "==================================\u001B[1m Ai Message \u001B[0m==================================\n",
      "Tool Calls:\n",
      "  get_current_time (call_nK3wXiob5AdNRrRWzlcqswqX)\n",
      " Call ID: call_nK3wXiob5AdNRrRWzlcqswqX\n",
      "  Args:\n",
      "    timezone: Asia/Seoul\n",
      "    location: 서울\n",
      "  get_current_time (call_WztA2jJOEeVsJvvGja6Jk0Fu)\n",
      " Call ID: call_WztA2jJOEeVsJvvGja6Jk0Fu\n",
      "  Args:\n",
      "    timezone: America/Los_Angeles\n",
      "    location: LA\n",
      "  get_current_time (call_RSVvYlDukaE7A6wWMcwNPuM8)\n",
      " Call ID: call_RSVvYlDukaE7A6wWMcwNPuM8\n",
      "  Args:\n",
      "    timezone: Europe/London\n",
      "    location: 런던\n",
      "=================================\u001B[1m Tool Message \u001B[0m=================================\n",
      "Name: get_current_time\n",
      "\n",
      "2025-09-16 12:04:20 Asia/Seoul(서울)\n",
      "=================================\u001B[1m Tool Message \u001B[0m=================================\n",
      "Name: get_current_time\n",
      "\n",
      "2025-09-15 20:04:20 America/Los_Angeles(LA)\n",
      "=================================\u001B[1m Tool Message \u001B[0m=================================\n",
      "Name: get_current_time\n",
      "\n",
      "2025-09-16 04:04:20 Europe/London(런던)\n"
     ]
    }
   ],
   "execution_count": 140
  },
  {
   "metadata": {
    "ExecuteTime": {
     "end_time": "2025-09-16T03:04:20.065481Z",
     "start_time": "2025-09-16T03:04:20.062125Z"
    }
   },
   "cell_type": "code",
   "source": "ai_message.pretty_print()",
   "id": "f55379bc29302d20",
   "outputs": [
    {
     "name": "stdout",
     "output_type": "stream",
     "text": [
      "==================================\u001B[1m Ai Message \u001B[0m==================================\n",
      "Tool Calls:\n",
      "  get_current_time (call_nK3wXiob5AdNRrRWzlcqswqX)\n",
      " Call ID: call_nK3wXiob5AdNRrRWzlcqswqX\n",
      "  Args:\n",
      "    timezone: Asia/Seoul\n",
      "    location: 서울\n",
      "  get_current_time (call_WztA2jJOEeVsJvvGja6Jk0Fu)\n",
      " Call ID: call_WztA2jJOEeVsJvvGja6Jk0Fu\n",
      "  Args:\n",
      "    timezone: America/Los_Angeles\n",
      "    location: LA\n",
      "  get_current_time (call_RSVvYlDukaE7A6wWMcwNPuM8)\n",
      " Call ID: call_RSVvYlDukaE7A6wWMcwNPuM8\n",
      "  Args:\n",
      "    timezone: Europe/London\n",
      "    location: 런던\n"
     ]
    }
   ],
   "execution_count": 141
  },
  {
   "metadata": {},
   "cell_type": "markdown",
   "source": [
    "# Pydantic\n",
    "\n",
    "입력된 데이터의 유효성과 형식을 검증하고 특정 데이터 형식으로 명확히 표현하는 라이브러리."
   ],
   "id": "854fa86fdd32ac21"
  },
  {
   "metadata": {
    "ExecuteTime": {
     "end_time": "2025-09-16T03:04:20.077771Z",
     "start_time": "2025-09-16T03:04:20.074183Z"
    }
   },
   "cell_type": "code",
   "source": [
    "def subtract(x: int, y: int) -> int:\n",
    "    return x - y"
   ],
   "id": "69db89807fcd008b",
   "outputs": [],
   "execution_count": 142
  },
  {
   "metadata": {
    "ExecuteTime": {
     "end_time": "2025-09-16T03:04:20.093436Z",
     "start_time": "2025-09-16T03:04:20.089589Z"
    }
   },
   "cell_type": "code",
   "source": "subtract(1, 2)",
   "id": "2d7d69840c89ce29",
   "outputs": [
    {
     "data": {
      "text/plain": [
       "-1"
      ]
     },
     "execution_count": 143,
     "metadata": {},
     "output_type": "execute_result"
    }
   ],
   "execution_count": 143
  },
  {
   "metadata": {
    "ExecuteTime": {
     "end_time": "2025-09-16T03:04:20.109905Z",
     "start_time": "2025-09-16T03:04:20.105757Z"
    }
   },
   "cell_type": "code",
   "source": "subtract(1.1, 2.5)",
   "id": "88c226da5946cb16",
   "outputs": [
    {
     "data": {
      "text/plain": [
       "-1.4"
      ]
     },
     "execution_count": 144,
     "metadata": {},
     "output_type": "execute_result"
    }
   ],
   "execution_count": 144
  },
  {
   "metadata": {},
   "cell_type": "markdown",
   "source": "Python은 파라미터의 타입 검사를 하지 않고, 리턴 타입도 힌트대로 반환하는 것은 아님.",
   "id": "4c39ccd652ca8785"
  },
  {
   "metadata": {
    "ExecuteTime": {
     "end_time": "2025-09-16T03:04:20.120159Z",
     "start_time": "2025-09-16T03:04:20.117211Z"
    }
   },
   "cell_type": "code",
   "source": [
    "class Person:\n",
    "    def __init__(self, id: int, name: str):\n",
    "        self.id = id\n",
    "        self.name = name"
   ],
   "id": "b1768a0b347b221",
   "outputs": [],
   "execution_count": 145
  },
  {
   "metadata": {
    "ExecuteTime": {
     "end_time": "2025-09-16T03:04:20.131674Z",
     "start_time": "2025-09-16T03:04:20.127876Z"
    }
   },
   "cell_type": "code",
   "source": "person = Person(id=1, name='오쌤')",
   "id": "6cbf947b52e1f218",
   "outputs": [],
   "execution_count": 146
  },
  {
   "metadata": {
    "ExecuteTime": {
     "end_time": "2025-09-16T03:04:20.140654Z",
     "start_time": "2025-09-16T03:04:20.138175Z"
    }
   },
   "cell_type": "code",
   "source": "print(person.id)",
   "id": "e06be5ff6a5c0172",
   "outputs": [
    {
     "name": "stdout",
     "output_type": "stream",
     "text": [
      "1\n"
     ]
    }
   ],
   "execution_count": 147
  },
  {
   "metadata": {
    "ExecuteTime": {
     "end_time": "2025-09-16T03:04:20.156088Z",
     "start_time": "2025-09-16T03:04:20.152824Z"
    }
   },
   "cell_type": "code",
   "source": "person2 = Person(id='abc123', name=123)",
   "id": "db8a94e5caed16f3",
   "outputs": [],
   "execution_count": 148
  },
  {
   "metadata": {
    "ExecuteTime": {
     "end_time": "2025-09-16T03:04:20.170048Z",
     "start_time": "2025-09-16T03:04:20.166480Z"
    }
   },
   "cell_type": "code",
   "source": "print(person2.id)",
   "id": "1a5f2613f829f348",
   "outputs": [
    {
     "name": "stdout",
     "output_type": "stream",
     "text": [
      "abc123\n"
     ]
    }
   ],
   "execution_count": 149
  },
  {
   "metadata": {},
   "cell_type": "markdown",
   "source": "Python은 객체를 생성할 때 속성(property)들의 타입 검사를 수행하지 않음.",
   "id": "12171bd5d3c9ab83"
  },
  {
   "metadata": {
    "ExecuteTime": {
     "end_time": "2025-09-16T03:04:20.183141Z",
     "start_time": "2025-09-16T03:04:20.179748Z"
    }
   },
   "cell_type": "code",
   "source": "from pydantic import BaseModel, ValidationError, PositiveInt",
   "id": "7ffc48159af7cd94",
   "outputs": [],
   "execution_count": 150
  },
  {
   "metadata": {
    "ExecuteTime": {
     "end_time": "2025-09-16T03:04:20.194934Z",
     "start_time": "2025-09-16T03:04:20.191760Z"
    }
   },
   "cell_type": "code",
   "source": [
    "class Person(BaseModel):    # 부모 클래스 상속, Person 클래스는 BaseModel 클래스를 상속(확장).\n",
    "    id: PositiveInt\n",
    "    name: str"
   ],
   "id": "60e6f380fb49a950",
   "outputs": [],
   "execution_count": 151
  },
  {
   "metadata": {
    "ExecuteTime": {
     "end_time": "2025-09-16T03:04:20.201200Z",
     "start_time": "2025-09-16T03:04:20.198070Z"
    }
   },
   "cell_type": "code",
   "source": "person3 = Person(id=12345, name='홍길동')",
   "id": "89296004ddb70906",
   "outputs": [],
   "execution_count": 152
  },
  {
   "metadata": {
    "ExecuteTime": {
     "end_time": "2025-09-16T03:04:20.209659Z",
     "start_time": "2025-09-16T03:04:20.206605Z"
    }
   },
   "cell_type": "code",
   "source": "print(person3)",
   "id": "3b24e758572c93b3",
   "outputs": [
    {
     "name": "stdout",
     "output_type": "stream",
     "text": [
      "id=12345 name='홍길동'\n"
     ]
    }
   ],
   "execution_count": 153
  },
  {
   "metadata": {
    "ExecuteTime": {
     "end_time": "2025-09-16T03:04:20.225939Z",
     "start_time": "2025-09-16T03:04:20.221884Z"
    }
   },
   "cell_type": "code",
   "source": "person3.model_dump()    # 인스턴스의 속성(property) 이름과 값으로 dict를 생성해서 리턴.",
   "id": "de21391aab8751d7",
   "outputs": [
    {
     "data": {
      "text/plain": [
       "{'id': 12345, 'name': '홍길동'}"
      ]
     },
     "execution_count": 154,
     "metadata": {},
     "output_type": "execute_result"
    }
   ],
   "execution_count": 154
  },
  {
   "metadata": {
    "ExecuteTime": {
     "end_time": "2025-09-16T03:04:20.238964Z",
     "start_time": "2025-09-16T03:04:20.235725Z"
    }
   },
   "cell_type": "code",
   "source": [
    "try:\n",
    "    person4 = Person(id='abc123', name='1_000')\n",
    "    print(person4)\n",
    "except ValidationError as e:\n",
    "    print(e)"
   ],
   "id": "5050351b3241d53f",
   "outputs": [
    {
     "name": "stdout",
     "output_type": "stream",
     "text": [
      "1 validation error for Person\n",
      "id\n",
      "  Input should be a valid integer, unable to parse string as an integer [type=int_parsing, input_value='abc123', input_type=str]\n",
      "    For further information visit https://errors.pydantic.dev/2.11/v/int_parsing\n"
     ]
    }
   ],
   "execution_count": 155
  },
  {
   "metadata": {
    "ExecuteTime": {
     "end_time": "2025-09-16T03:04:20.255413Z",
     "start_time": "2025-09-16T03:04:20.251967Z"
    }
   },
   "cell_type": "code",
   "source": [
    "person5 = Person(**{'id' : 123456, 'name' : '길동'})  # ** : unpacking 연산자\n",
    "print(person5)"
   ],
   "id": "a0e26a6ab3ac5d3b",
   "outputs": [
    {
     "name": "stdout",
     "output_type": "stream",
     "text": [
      "id=123456 name='길동'\n"
     ]
    }
   ],
   "execution_count": 156
  },
  {
   "metadata": {},
   "cell_type": "markdown",
   "source": "# Pydandtic을 이용한 함수 파라미터 타입 클래스 선언",
   "id": "830a3c787577509f"
  },
  {
   "metadata": {
    "ExecuteTime": {
     "end_time": "2025-09-16T03:51:31.700198Z",
     "start_time": "2025-09-16T03:51:31.696675Z"
    }
   },
   "cell_type": "code",
   "source": "from pydantic import Field",
   "id": "6fca8b6bcae57709",
   "outputs": [],
   "execution_count": 180
  },
  {
   "metadata": {
    "ExecuteTime": {
     "end_time": "2025-09-16T03:51:32.875890Z",
     "start_time": "2025-09-16T03:51:32.872059Z"
    }
   },
   "cell_type": "code",
   "source": [
    "# 주식 가격 조회 함수의 파라미터 타입으로 사용할 클래스.\n",
    "class StockHistoryArgs(BaseModel):\n",
    "    ticker: str = Field(..., title='주식 코드',\n",
    "                        description='주식 데이터를 검색하기 위한 주식 코드(예: AAPL, AMZN)')\n",
    "    period: str = Field(..., title='기간',\n",
    "                        description='주식 데이터 조회 기간(예: 1d, 1mo, 1y)')"
   ],
   "id": "71e504cc973df4bf",
   "outputs": [],
   "execution_count": 181
  },
  {
   "metadata": {
    "ExecuteTime": {
     "end_time": "2025-09-16T03:51:34.313583Z",
     "start_time": "2025-09-16T03:51:34.308590Z"
    }
   },
   "cell_type": "code",
   "source": "StockHistoryArgs.model_json_schema()",
   "id": "94a0c8c9ae08b031",
   "outputs": [
    {
     "data": {
      "text/plain": [
       "{'properties': {'ticker': {'description': '주식 데이터를 검색하기 위한 주식 코드(예: AAPL, AMZN)',\n",
       "   'title': '주식 코드',\n",
       "   'type': 'string'},\n",
       "  'period': {'description': '주식 데이터 조회 기간(예: 1d, 1mo, 1y)',\n",
       "   'title': '기간',\n",
       "   'type': 'string'}},\n",
       " 'required': ['ticker', 'period'],\n",
       " 'title': 'StockHistoryArgs',\n",
       " 'type': 'object'}"
      ]
     },
     "execution_count": 182,
     "metadata": {},
     "output_type": "execute_result"
    }
   ],
   "execution_count": 182
  },
  {
   "metadata": {
    "ExecuteTime": {
     "end_time": "2025-09-16T03:51:37.293597Z",
     "start_time": "2025-09-16T03:51:37.290872Z"
    }
   },
   "cell_type": "code",
   "source": "import yfinance as yf",
   "id": "7ecaa451b2d6871a",
   "outputs": [],
   "execution_count": 183
  },
  {
   "metadata": {
    "ExecuteTime": {
     "end_time": "2025-09-16T03:51:40.072471Z",
     "start_time": "2025-09-16T03:51:40.066720Z"
    }
   },
   "cell_type": "code",
   "source": [
    "@tool\n",
    "def get_yf_stock_history(input: StockHistoryArgs):\n",
    "    \"\"\"해당 기간(period) 동안 주식 코드(ticker)의 데이터를 조회하는 함수. \"\"\"\n",
    "    ticker = yf.Ticker(input.ticker)\n",
    "    history = ticker.history(period=input.period)\n",
    "    return history.to_markdown()    # 조회한 데이터를 마크다운(Markdown) 형식의 문자열로 리턴."
   ],
   "id": "5c6ec5afdbb88343",
   "outputs": [],
   "execution_count": 184
  },
  {
   "metadata": {
    "ExecuteTime": {
     "end_time": "2025-09-16T03:52:07.039071Z",
     "start_time": "2025-09-16T03:52:07.035973Z"
    }
   },
   "cell_type": "code",
   "source": [
    "tool_dict ={\n",
    "    'get_current_time': get_current_time,\n",
    "    'get_yf_stock_history': get_yf_stock_history,\n",
    "}"
   ],
   "id": "5d55b15b174d078e",
   "outputs": [],
   "execution_count": 188
  },
  {
   "metadata": {
    "ExecuteTime": {
     "end_time": "2025-09-16T03:52:08.626912Z",
     "start_time": "2025-09-16T03:52:08.621969Z"
    }
   },
   "cell_type": "code",
   "source": "model_with_tools = model.bind_tools(tools=tools)    # 도구 목록을 포함하는 AI 모델 객체",
   "id": "c7bbc850374223fa",
   "outputs": [],
   "execution_count": 189
  },
  {
   "metadata": {
    "ExecuteTime": {
     "end_time": "2025-09-16T03:52:10.147676Z",
     "start_time": "2025-09-16T03:52:10.144254Z"
    }
   },
   "cell_type": "code",
   "source": [
    "messages = [\n",
    "    SystemMessage('답변을 생성하기 위해 도구를 사용할 수 있어.'),\n",
    "    SystemMessage('도시 이름과 타임존은 일치하지 않을 수도 있어.'),\n",
    "    SystemMessage('ticker는 실제 사용되는 주식 코드여야 해.'),\n",
    "    HumanMessage('삼성전자는 한 달 전과 비교해서 주식이 올랐어? 내렸어?'),\n",
    "]"
   ],
   "id": "57f8a7ab33057a0a",
   "outputs": [],
   "execution_count": 190
  },
  {
   "metadata": {
    "ExecuteTime": {
     "end_time": "2025-09-16T03:52:14.090650Z",
     "start_time": "2025-09-16T03:52:12.772494Z"
    }
   },
   "cell_type": "code",
   "source": "ai_message = model_with_tools.invoke(input=messages)",
   "id": "b7ba690906f58e20",
   "outputs": [],
   "execution_count": 191
  },
  {
   "metadata": {
    "ExecuteTime": {
     "end_time": "2025-09-16T03:52:14.722225Z",
     "start_time": "2025-09-16T03:52:14.718209Z"
    }
   },
   "cell_type": "code",
   "source": "messages.append(ai_message)",
   "id": "2a3a50dc9cd60d1d",
   "outputs": [],
   "execution_count": 192
  },
  {
   "metadata": {
    "ExecuteTime": {
     "end_time": "2025-09-16T03:52:15.564061Z",
     "start_time": "2025-09-16T03:52:15.559915Z"
    }
   },
   "cell_type": "code",
   "source": [
    "for m in messages:\n",
    "    m.pretty_print()"
   ],
   "id": "4f777decea9e4bd4",
   "outputs": [
    {
     "name": "stdout",
     "output_type": "stream",
     "text": [
      "================================\u001B[1m System Message \u001B[0m================================\n",
      "\n",
      "답변을 생성하기 위해 도구를 사용할 수 있어.\n",
      "================================\u001B[1m System Message \u001B[0m================================\n",
      "\n",
      "도시 이름과 타임존은 일치하지 않을 수도 있어.\n",
      "================================\u001B[1m System Message \u001B[0m================================\n",
      "\n",
      "ticker는 실제 사용되는 주식 코드여야 해.\n",
      "================================\u001B[1m Human Message \u001B[0m=================================\n",
      "\n",
      "삼성전자는 한 달 전과 비교해서 주식이 올랐어? 내렸어?\n",
      "==================================\u001B[1m Ai Message \u001B[0m==================================\n",
      "Tool Calls:\n",
      "  get_current_time (call_mBqXEMSxHJd42eGYW8UuNSv9)\n",
      " Call ID: call_mBqXEMSxHJd42eGYW8UuNSv9\n",
      "  Args:\n",
      "    timezone: Asia/Seoul\n",
      "    location: 서울\n"
     ]
    }
   ],
   "execution_count": 193
  },
  {
   "metadata": {
    "ExecuteTime": {
     "end_time": "2025-09-16T03:50:53.221885Z",
     "start_time": "2025-09-16T03:50:53.217319Z"
    }
   },
   "cell_type": "code",
   "source": [
    "for tool_call in ai_message.tool_calls:\n",
    "    fn = tool_dict[tool_call['name']]\n",
    "    tool_msg = fn.invoke(tool_call)\n",
    "    messages.append(tool_msg)"
   ],
   "id": "3b2ec3bfe339fac4",
   "outputs": [],
   "execution_count": 176
  },
  {
   "metadata": {
    "ExecuteTime": {
     "end_time": "2025-09-16T03:50:54.204861Z",
     "start_time": "2025-09-16T03:50:54.200366Z"
    }
   },
   "cell_type": "code",
   "source": [
    "for m in messages:\n",
    "    m.pretty_print()"
   ],
   "id": "be1004c3bf8f0fc6",
   "outputs": [
    {
     "name": "stdout",
     "output_type": "stream",
     "text": [
      "================================\u001B[1m System Message \u001B[0m================================\n",
      "\n",
      "답변을 생성하기 위해 도구를 사용할 수 있어.\n",
      "================================\u001B[1m System Message \u001B[0m================================\n",
      "\n",
      "도시 이름과 타임존은 일치하지 않을 수도 있어.\n",
      "================================\u001B[1m System Message \u001B[0m================================\n",
      "\n",
      "ticker는 실제 사용되는 주식 코드여야 해.\n",
      "================================\u001B[1m Human Message \u001B[0m=================================\n",
      "\n",
      "삼성전자는 한 달 전과 비교해서 주식이 올랐어? 내렸어?\n",
      "==================================\u001B[1m Ai Message \u001B[0m==================================\n",
      "Tool Calls:\n",
      "  get_current_time (call_8wpijb4Bl7uMreCddpQl2Leo)\n",
      " Call ID: call_8wpijb4Bl7uMreCddpQl2Leo\n",
      "  Args:\n",
      "    timezone: Asia/Seoul\n",
      "    location: 서울\n",
      "  get_current_time (call_mLyFx7sSAPUZZN1TZ1ZlkMMV)\n",
      " Call ID: call_mLyFx7sSAPUZZN1TZ1ZlkMMV\n",
      "  Args:\n",
      "    timezone: America/New_York\n",
      "    location: 뉴욕\n",
      "=================================\u001B[1m Tool Message \u001B[0m=================================\n",
      "Name: get_current_time\n",
      "\n",
      "2025-09-16 12:50:53 Asia/Seoul(서울)\n",
      "=================================\u001B[1m Tool Message \u001B[0m=================================\n",
      "Name: get_current_time\n",
      "\n",
      "2025-09-15 23:50:53 America/New_York(뉴욕)\n"
     ]
    }
   ],
   "execution_count": 177
  },
  {
   "metadata": {
    "ExecuteTime": {
     "end_time": "2025-09-16T03:51:06.462127Z",
     "start_time": "2025-09-16T03:51:04.210123Z"
    }
   },
   "cell_type": "code",
   "source": "ai_message = model_with_tools.invoke(input=messages)",
   "id": "39810d4a54b1ca19",
   "outputs": [],
   "execution_count": 178
  },
  {
   "metadata": {
    "ExecuteTime": {
     "end_time": "2025-09-16T03:51:08.693710Z",
     "start_time": "2025-09-16T03:51:08.689750Z"
    }
   },
   "cell_type": "code",
   "source": "ai_message.pretty_print()",
   "id": "6d5c879470412fff",
   "outputs": [
    {
     "name": "stdout",
     "output_type": "stream",
     "text": [
      "==================================\u001B[1m Ai Message \u001B[0m==================================\n",
      "\n",
      "현재 날짜는 2025년 9월 16일입니다.\n",
      "\n",
      "삼성전자의 주가 변동을 확인하기 위해 한 달 전인 8월 16일의 주가와 현재 주가를 비교해야 합니다. 그러나 현재 삼성전자의 주가 정보는 확인할 수 없습니다. 주가를 확인하려면 주식 정보 제공 웹사이트나 금융 서비스에서 직접 찾아보셔야 합니다.\n"
     ]
    }
   ],
   "execution_count": 179
  },
  {
   "metadata": {},
   "cell_type": "code",
   "outputs": [],
   "execution_count": null,
   "source": "",
   "id": "543fe31bfc2eba10"
  }
 ],
 "metadata": {
  "kernelspec": {
   "display_name": "Python 3",
   "language": "python",
   "name": "python3"
  },
  "language_info": {
   "codemirror_mode": {
    "name": "ipython",
    "version": 2
   },
   "file_extension": ".py",
   "mimetype": "text/x-python",
   "name": "python",
   "nbconvert_exporter": "python",
   "pygments_lexer": "ipython2",
   "version": "2.7.6"
  }
 },
 "nbformat": 4,
 "nbformat_minor": 5
}
