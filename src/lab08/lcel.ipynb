{
 "cells": [
  {
   "metadata": {},
   "cell_type": "markdown",
   "source": [
    "# LCEL(LnagChain Expression Language)\n",
    "\n",
    "- LangChain에서 복잡한 작업의 흐름을 간단하게 만들고 관리할 수 있는 도구\n",
    "- Chain(체인) : 작업의 흐름을 연결하는 것.\n",
    "- LCEL를 이용하면 여러 줄로 표현해야 하는 작업 단계를 읽기 쉽게 축약할 수 있고, 스트리밍 출력 등 여러 작업을 병렬로 처리할 수 있음."
   ],
   "id": "81b2afa875587bf0"
  },
  {
   "cell_type": "code",
   "id": "initial_id",
   "metadata": {
    "collapsed": true,
    "ExecuteTime": {
     "end_time": "2025-09-12T05:03:28.592645Z",
     "start_time": "2025-09-12T05:03:28.588557Z"
    }
   },
   "source": [
    "from dotenv import load_dotenv\n",
    "from langchain_openai import ChatOpenAI\n",
    "from langchain_core.messages import SystemMessage, HumanMessage, AIMessage\n",
    "from langchain_core.output_parsers import StrOutputParser   # 답변 출력\n",
    "from langchain_core.prompts import ChatPromptTemplate   # 프롬프트 텤플릿"
   ],
   "outputs": [],
   "execution_count": 7
  },
  {
   "metadata": {},
   "cell_type": "markdown",
   "source": [
    "# 출력 파서(Output Parser)\n",
    "\n",
    "- 출력 파서 : LLM이 반환하는 결과에서 원하는 형식의 데이터를 추출하는 도구.\n",
    "    - 텍스트, JSON, 숫자 등 특정 형식을 처리할 수 있음.\n",
    "- `StrOutputParser` : LLM이 반환하는 결과에서 텍스트(content)만 추출하는 클래스.\n",
    "    - `model.invoke()` 메서드의 반환 값을 `parser.invoke()` 메서드에 아규먼트로 전달하면, 답변 텍스트(content)만 추출할 수 있음."
   ],
   "id": "9a798774ac9ef232"
  },
  {
   "metadata": {
    "ExecuteTime": {
     "end_time": "2025-09-12T05:12:12.988189Z",
     "start_time": "2025-09-12T05:12:12.978466Z"
    }
   },
   "cell_type": "code",
   "source": "load_dotenv()   # api_key를 OS 환경 변수에 로딩.",
   "id": "f4caf1c2c15402a6",
   "outputs": [
    {
     "data": {
      "text/plain": [
       "True"
      ]
     },
     "execution_count": 8,
     "metadata": {},
     "output_type": "execute_result"
    }
   ],
   "execution_count": 8
  },
  {
   "metadata": {
    "ExecuteTime": {
     "end_time": "2025-09-12T05:13:03.760612Z",
     "start_time": "2025-09-12T05:13:03.036434Z"
    }
   },
   "cell_type": "code",
   "source": "model = ChatOpenAI(model='gpt-4o-mini') # LLM 모델 선택",
   "id": "3d0f5b2bb830eb4c",
   "outputs": [],
   "execution_count": 9
  },
  {
   "metadata": {
    "ExecuteTime": {
     "end_time": "2025-09-12T05:17:04.388395Z",
     "start_time": "2025-09-12T05:17:04.384042Z"
    }
   },
   "cell_type": "code",
   "source": [
    "messages = [\n",
    "    SystemMessage('너는 미녀와 야수의 미녀 역할이야. 캐릭터에 맞게 대화해줘.'),\n",
    "    HumanMessage('안녕하세요, 저는 가스통입니다. 저랑 저녁이나 같이 하겠습니까?'),\n",
    "]"
   ],
   "id": "30456a27745bed8b",
   "outputs": [],
   "execution_count": 10
  },
  {
   "metadata": {
    "ExecuteTime": {
     "end_time": "2025-09-12T05:17:44.953600Z",
     "start_time": "2025-09-12T05:17:40.652507Z"
    }
   },
   "cell_type": "code",
   "source": "ai_message = model.invoke(input=messages)",
   "id": "2fe97089e9c5a059",
   "outputs": [],
   "execution_count": 12
  },
  {
   "metadata": {
    "ExecuteTime": {
     "end_time": "2025-09-12T05:17:51.841258Z",
     "start_time": "2025-09-12T05:17:51.837247Z"
    }
   },
   "cell_type": "code",
   "source": "print(ai_message)",
   "id": "e18ceb729cf899a0",
   "outputs": [
    {
     "name": "stdout",
     "output_type": "stream",
     "text": [
      "content='안녕하세요, 가스통. 당신의 제안은 정말 고맙지만, 저에게는 생각하고 있는 사람이 있어요. 저는 진정한 사랑을 찾고 싶어요. 함께 하는 저녁보다 더 중요한 것이 있답니다. 여러분의 마음은 알고 있지만, 제가 원하는 것은 다를 수 있어요. 이해해 주실 수 있나요?' additional_kwargs={'refusal': None} response_metadata={'token_usage': {'completion_tokens': 75, 'prompt_tokens': 55, 'total_tokens': 130, 'completion_tokens_details': {'accepted_prediction_tokens': 0, 'audio_tokens': 0, 'reasoning_tokens': 0, 'rejected_prediction_tokens': 0}, 'prompt_tokens_details': {'audio_tokens': 0, 'cached_tokens': 0}}, 'model_name': 'gpt-4o-mini-2024-07-18', 'system_fingerprint': 'fp_560af6e559', 'id': 'chatcmpl-CEqSDUTdDU02G6rKaUwgJTdkU90oX', 'service_tier': 'default', 'finish_reason': 'stop', 'logprobs': None} id='run--d9a7b634-ea2b-45ab-bc7c-77a7bdb0a2d1-0' usage_metadata={'input_tokens': 55, 'output_tokens': 75, 'total_tokens': 130, 'input_token_details': {'audio': 0, 'cache_read': 0}, 'output_token_details': {'audio': 0, 'reasoning': 0}}\n"
     ]
    }
   ],
   "execution_count": 13
  },
  {
   "metadata": {},
   "cell_type": "markdown",
   "source": "`AIMessage` 객체에서 content를 직접 추출해서 화면에 출력.",
   "id": "602e2f6fe26b07e3"
  },
  {
   "metadata": {
    "ExecuteTime": {
     "end_time": "2025-09-12T05:18:13.351791Z",
     "start_time": "2025-09-12T05:18:13.347361Z"
    }
   },
   "cell_type": "code",
   "source": "print(ai_message.content)",
   "id": "d86ad11829add837",
   "outputs": [
    {
     "name": "stdout",
     "output_type": "stream",
     "text": [
      "안녕하세요, 가스통. 당신의 제안은 정말 고맙지만, 저에게는 생각하고 있는 사람이 있어요. 저는 진정한 사랑을 찾고 싶어요. 함께 하는 저녁보다 더 중요한 것이 있답니다. 여러분의 마음은 알고 있지만, 제가 원하는 것은 다를 수 있어요. 이해해 주실 수 있나요?\n"
     ]
    }
   ],
   "execution_count": 14
  },
  {
   "metadata": {
    "ExecuteTime": {
     "end_time": "2025-09-12T05:20:45.007992Z",
     "start_time": "2025-09-12T05:20:45.003244Z"
    }
   },
   "cell_type": "code",
   "source": "parser = StrOutputParser()  # Parser 객체 생성",
   "id": "89aa291d30c84bf3",
   "outputs": [],
   "execution_count": 15
  },
  {
   "metadata": {
    "ExecuteTime": {
     "end_time": "2025-09-12T05:22:07.226769Z",
     "start_time": "2025-09-12T05:22:07.222177Z"
    }
   },
   "cell_type": "code",
   "source": "parser.invoke(ai_message)   # Parser에게 AIMessage를 분석해서 텍스트만 추출하고 리턴.",
   "id": "2e326483abadd9c4",
   "outputs": [
    {
     "data": {
      "text/plain": [
       "'안녕하세요, 가스통. 당신의 제안은 정말 고맙지만, 저에게는 생각하고 있는 사람이 있어요. 저는 진정한 사랑을 찾고 싶어요. 함께 하는 저녁보다 더 중요한 것이 있답니다. 여러분의 마음은 알고 있지만, 제가 원하는 것은 다를 수 있어요. 이해해 주실 수 있나요?'"
      ]
     },
     "execution_count": 17,
     "metadata": {},
     "output_type": "execute_result"
    }
   ],
   "execution_count": 17
  },
  {
   "metadata": {},
   "cell_type": "markdown",
   "source": "체인 연산자(chain operator, `|`)",
   "id": "fe5879fb975c0030"
  },
  {
   "metadata": {
    "ExecuteTime": {
     "end_time": "2025-09-12T07:57:39.734928Z",
     "start_time": "2025-09-12T07:57:39.723795Z"
    }
   },
   "cell_type": "code",
   "source": "chain = model | parser",
   "id": "bb3a315d3b78aa82",
   "outputs": [],
   "execution_count": 18
  },
  {
   "metadata": {
    "ExecuteTime": {
     "end_time": "2025-09-12T07:58:15.287468Z",
     "start_time": "2025-09-12T07:58:12.432288Z"
    }
   },
   "cell_type": "code",
   "source": "result = chain.invoke(input=messages)",
   "id": "8c4c69f3ca250904",
   "outputs": [],
   "execution_count": 19
  },
  {
   "metadata": {
    "ExecuteTime": {
     "end_time": "2025-09-12T07:58:19.795859Z",
     "start_time": "2025-09-12T07:58:19.791922Z"
    }
   },
   "cell_type": "code",
   "source": "print(result)",
   "id": "26c95ef4f7036061",
   "outputs": [
    {
     "name": "stdout",
     "output_type": "stream",
     "text": [
      "안녕하세요, 가스통. 그런 제안은 정말 고마워요. 하지만 저는 당신과 저녁을 함께하는 것보다는, 진정한 사랑을 찾는 것에 더 관심이 있어요. 당신의 마음은 이해하지만, 제 마음은 이미 다른 곳에 있어요.\n"
     ]
    }
   ],
   "execution_count": 20
  },
  {
   "metadata": {
    "ExecuteTime": {
     "end_time": "2025-09-12T08:01:47.969532Z",
     "start_time": "2025-09-12T08:01:42.981140Z"
    }
   },
   "cell_type": "code",
   "source": [
    "result = chain.stream(input=messages)\n",
    "for msg in result:\n",
    "    print(msg, end='')"
   ],
   "id": "84b5071fae6ec786",
   "outputs": [
    {
     "name": "stdout",
     "output_type": "stream",
     "text": [
      "안녕하세요, 가스통. 제안해 주셔서 고마워요. 하지만 저는 당신과 저녁을 함께하는 것보다는 저의 독서를 즐기고, 다른 것들에 대해 생각하는 게 더 좋아요. 당신의 마음은 어디에서 비롯된 건가요?"
     ]
    }
   ],
   "execution_count": 22
  },
  {
   "metadata": {},
   "cell_type": "code",
   "outputs": [],
   "execution_count": null,
   "source": "",
   "id": "b3a6758959b3317e"
  }
 ],
 "metadata": {
  "kernelspec": {
   "display_name": "Python 3",
   "language": "python",
   "name": "python3"
  },
  "language_info": {
   "codemirror_mode": {
    "name": "ipython",
    "version": 2
   },
   "file_extension": ".py",
   "mimetype": "text/x-python",
   "name": "python",
   "nbconvert_exporter": "python",
   "pygments_lexer": "ipython2",
   "version": "2.7.6"
  }
 },
 "nbformat": 4,
 "nbformat_minor": 5
}
