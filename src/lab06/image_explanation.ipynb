{
 "cells": [
  {
   "metadata": {},
   "cell_type": "markdown",
   "source": "# GTP로 이미지 설명 만들기",
   "id": "54ee58154f81624c"
  },
  {
   "metadata": {
    "ExecuteTime": {
     "end_time": "2025-09-09T05:56:31.326394Z",
     "start_time": "2025-09-09T05:56:31.322589Z"
    }
   },
   "cell_type": "code",
   "source": [
    "import base64\n",
    "from openai import OpenAI\n",
    "from src.utils import get_openai_api_key"
   ],
   "id": "f6c2606c581bfd7d",
   "outputs": [],
   "execution_count": 21
  },
  {
   "metadata": {
    "ExecuteTime": {
     "end_time": "2025-09-09T05:56:32.376365Z",
     "start_time": "2025-09-09T05:56:32.131055Z"
    }
   },
   "cell_type": "code",
   "source": [
    "# OpenAI 객체 생성\n",
    "client = OpenAI(api_key=get_openai_api_key())"
   ],
   "id": "a543d50cc1949ac7",
   "outputs": [],
   "execution_count": 22
  },
  {
   "metadata": {},
   "cell_type": "markdown",
   "source": "**Lorem Picsum** 이미지 설명 요청",
   "id": "857ca56a32a8f2d4"
  },
  {
   "metadata": {
    "ExecuteTime": {
     "end_time": "2025-09-09T05:56:34.536068Z",
     "start_time": "2025-09-09T05:56:34.531357Z"
    }
   },
   "cell_type": "code",
   "source": [
    "# 이미지 설명을 요청하는 메시지 프롬프트 작성\n",
    "messages = [\n",
    "    {\n",
    "        'role': 'user',\n",
    "        'content': [\n",
    "            {'type': 'text', 'text': '이 이미지를 설명해줘.'},\n",
    "            {'type': 'image_url',\n",
    "             'image_url': {'url': 'https://fastly.picsum.photos/id/22/4434/3729.jpg?hmac=fjZdkSMZJNFgsoDh8Qo5zdA_nSGUAWvKLyyqmEt2xs0'}},\n",
    "        ],\n",
    "    },\n",
    "]"
   ],
   "id": "742a2b1616aaaff8",
   "outputs": [],
   "execution_count": 23
  },
  {
   "metadata": {
    "ExecuteTime": {
     "end_time": "2025-09-09T05:56:42.477487Z",
     "start_time": "2025-09-09T05:56:35.947339Z"
    }
   },
   "cell_type": "code",
   "source": [
    "response = client.chat.completions.create(\n",
    "    model='gpt-4o-mini',\n",
    "    messages=messages\n",
    ")"
   ],
   "id": "7328758138a75b9f",
   "outputs": [],
   "execution_count": 24
  },
  {
   "metadata": {
    "ExecuteTime": {
     "end_time": "2025-09-09T05:56:43.221026Z",
     "start_time": "2025-09-09T05:56:43.216205Z"
    }
   },
   "cell_type": "code",
   "source": "response",
   "id": "120169c78a514be0",
   "outputs": [
    {
     "data": {
      "text/plain": [
       "ChatCompletion(id='chatcmpl-CDldE46SYPEekK461k9egwZ1xFJ8k', choices=[Choice(finish_reason='stop', index=0, logprobs=None, message=ChatCompletionMessage(content='이미지는 한 남성이 도로 위를 걷고 있는 장면을 보여줍니다. 그는 정장을 입고 있으며, 하늘색 넥타이를 매고 있습니다. 도로는 비어 있으며, 흰색 선들이 그어진 바닥이 보입니다. 전체적인 분위기는 차분하고 약간 고요한 느낌을 줍니다. 남성은 걷고 있는 방향을 바라보며, 주변은 거의 인적이 없습니다.', refusal=None, role='assistant', annotations=[], audio=None, function_call=None, tool_calls=None))], created=1757397396, model='gpt-4o-mini-2024-07-18', object='chat.completion', service_tier='default', system_fingerprint='fp_e665f7564b', usage=CompletionUsage(completion_tokens=98, prompt_tokens=25515, total_tokens=25613, completion_tokens_details=CompletionTokensDetails(accepted_prediction_tokens=0, audio_tokens=0, reasoning_tokens=0, rejected_prediction_tokens=0), prompt_tokens_details=PromptTokensDetails(audio_tokens=0, cached_tokens=0)))"
      ]
     },
     "execution_count": 25,
     "metadata": {},
     "output_type": "execute_result"
    }
   ],
   "execution_count": 25
  },
  {
   "metadata": {
    "ExecuteTime": {
     "end_time": "2025-09-09T05:56:44.264976Z",
     "start_time": "2025-09-09T05:56:44.261465Z"
    }
   },
   "cell_type": "code",
   "source": "response.choices[0].message.content",
   "id": "244d3f51ff68c8a4",
   "outputs": [
    {
     "data": {
      "text/plain": [
       "'이미지는 한 남성이 도로 위를 걷고 있는 장면을 보여줍니다. 그는 정장을 입고 있으며, 하늘색 넥타이를 매고 있습니다. 도로는 비어 있으며, 흰색 선들이 그어진 바닥이 보입니다. 전체적인 분위기는 차분하고 약간 고요한 느낌을 줍니다. 남성은 걷고 있는 방향을 바라보며, 주변은 거의 인적이 없습니다.'"
      ]
     },
     "execution_count": 26,
     "metadata": {},
     "output_type": "execute_result"
    }
   ],
   "execution_count": 26
  },
  {
   "metadata": {},
   "cell_type": "markdown",
   "source": [
    "# 로컬 이미지 파일의 설명 요청하기\n",
    "\n",
    "* 이미지 바이너리 데이터를 텍스트 형식으로 변환해서 GPT chat.completions 요청을 보내야 함.\n",
    "* base64 라이브러리 : 이진(binary) 데이터를 아스키(ASCII) 문자로 인코딩(변환).\n",
    "    * 전송/저장 호환성\n",
    "    * 데이터 손상 방지\n",
    "    * 프로토콜 호환성"
   ],
   "id": "35ba96943e83a7ff"
  },
  {
   "metadata": {
    "ExecuteTime": {
     "end_time": "2025-09-09T05:56:48.871489Z",
     "start_time": "2025-09-09T05:56:48.867486Z"
    }
   },
   "cell_type": "code",
   "source": [
    "def base64encode_image(image_file):\n",
    "    with open(file=image_file, mode='rb') as f:  # 이미지 파일을 오픈.\n",
    "        data = f.read()  # 이미지 파일의 이진 데이터를 읽음.\n",
    "\n",
    "        # 이진 데이터를 base64 인코딩을 해서 ASCII 문자열로 변환, UTF-8로 변환해서 리턴.\n",
    "        return base64.b64encode(data).decode(encoding='utf-8')"
   ],
   "id": "16191bead986db95",
   "outputs": [],
   "execution_count": 27
  },
  {
   "metadata": {
    "ExecuteTime": {
     "end_time": "2025-09-09T05:56:49.716913Z",
     "start_time": "2025-09-09T05:56:49.713509Z"
    }
   },
   "cell_type": "code",
   "source": [
    "image_path_1 = './images/cafe1.jpg'\n",
    "image_path_2 = './images/cafe2.jpg'"
   ],
   "id": "d1fc32d909140940",
   "outputs": [],
   "execution_count": 28
  },
  {
   "metadata": {
    "ExecuteTime": {
     "end_time": "2025-09-09T05:56:50.489094Z",
     "start_time": "2025-09-09T05:56:50.473582Z"
    }
   },
   "cell_type": "code",
   "source": "base64_image_1 = base64encode_image(image_path_1)",
   "id": "51590714bad24a87",
   "outputs": [],
   "execution_count": 29
  },
  {
   "metadata": {
    "ExecuteTime": {
     "end_time": "2025-09-09T05:56:51.287988Z",
     "start_time": "2025-09-09T05:56:51.283990Z"
    }
   },
   "cell_type": "code",
   "source": "base64_image_1[:100]    # base64로 인코딩 된 문자열들 중에서 앞에서 100개만 출력",
   "id": "c295c7360a740590",
   "outputs": [
    {
     "data": {
      "text/plain": [
       "'/9j/4AAQSkZJRgABAgEASABIAAD/4gxYSUNDX1BST0ZJTEUAAQEAAAxITGlubwIQAABtbnRyUkdCIFhZWiAHzgACAAkABgAxAABh'"
      ]
     },
     "execution_count": 30,
     "metadata": {},
     "output_type": "execute_result"
    }
   ],
   "execution_count": 30
  },
  {
   "metadata": {
    "ExecuteTime": {
     "end_time": "2025-09-09T05:56:52.304976Z",
     "start_time": "2025-09-09T05:56:52.299971Z"
    }
   },
   "cell_type": "code",
   "source": [
    "# GPT에게 보낼 메시지 프롬프트 작성\n",
    "messages = [\n",
    "    {\n",
    "        'role': 'user',\n",
    "        'content': [\n",
    "            {'type': 'text', 'text': '이미지에 대해서 설명해줘.'},\n",
    "            {\n",
    "                'type': 'image_url',\n",
    "                'image_url': {'url': f'data:image/jpeg;base64,{base64_image_1}'}\n",
    "            },\n",
    "        ],\n",
    "    },\n",
    "]"
   ],
   "id": "6580552d3a64657c",
   "outputs": [],
   "execution_count": 31
  },
  {
   "metadata": {
    "ExecuteTime": {
     "end_time": "2025-09-09T05:57:04.750039Z",
     "start_time": "2025-09-09T05:56:54.273060Z"
    }
   },
   "cell_type": "code",
   "source": [
    "response = client.chat.completions.create(\n",
    "    model='gpt-4o-mini',\n",
    "    messages=messages\n",
    ")"
   ],
   "id": "105429ee0cce1876",
   "outputs": [],
   "execution_count": 32
  },
  {
   "metadata": {
    "ExecuteTime": {
     "end_time": "2025-09-09T05:57:06.937490Z",
     "start_time": "2025-09-09T05:57:06.933494Z"
    }
   },
   "cell_type": "code",
   "source": "response.choices[0].message.content",
   "id": "4fe2852450b687d3",
   "outputs": [
    {
     "data": {
      "text/plain": [
       "'이미지는 현대적인 카페 또는 레스토랑 내부를 보여줍니다. 공간은 큰 창과 유리 천장으로 자연광이 가득 차 있으며, 다양한 식물들이 천장과 벽에 걸려 있습니다. 중앙에는 긴 나무 테이블과 여러 개의 둥근 테이블이 배치되어 있고, 사람들이 함께 앉아 대화하는 모습이 보입니다. 바닥은 콘크리트로 되어 있으며, 바 뒤에는 바와 주방이 보이는 구조입니다. 전체적으로 아늑하고 세련된 분위기를 자아내고 있습니다.'"
      ]
     },
     "execution_count": 34,
     "metadata": {},
     "output_type": "execute_result"
    }
   ],
   "execution_count": 34
  },
  {
   "metadata": {
    "ExecuteTime": {
     "end_time": "2025-09-09T05:57:09.591775Z",
     "start_time": "2025-09-09T05:57:09.575824Z"
    }
   },
   "cell_type": "code",
   "source": "base64_image_2 = base64encode_image(image_path_2)  # cafe2.jpg를 base64 인코딩",
   "id": "c0374b8610af18ab",
   "outputs": [],
   "execution_count": 35
  },
  {
   "metadata": {
    "ExecuteTime": {
     "end_time": "2025-09-09T05:57:10.405112Z",
     "start_time": "2025-09-09T05:57:10.401303Z"
    }
   },
   "cell_type": "code",
   "source": "base64_image_2[:100]",
   "id": "1ab78184bec57764",
   "outputs": [
    {
     "data": {
      "text/plain": [
       "'/9j/4AAQSkZJRgABAgEASABIAAD/4gxYSUNDX1BST0ZJTEUAAQEAAAxITGlubwIQAABtbnRyUkdCIFhZWiAHzgACAAkABgAxAABh'"
      ]
     },
     "execution_count": 36,
     "metadata": {},
     "output_type": "execute_result"
    }
   ],
   "execution_count": 36
  },
  {
   "metadata": {
    "ExecuteTime": {
     "end_time": "2025-09-09T05:57:11.201833Z",
     "start_time": "2025-09-09T05:57:11.194643Z"
    }
   },
   "cell_type": "code",
   "source": [
    "# 이미지 비교를 요청하는 메시지 프롬프트 작성\n",
    "messages = [\n",
    "    {\n",
    "        'role': 'user',\n",
    "        'content': [\n",
    "            {'type': 'text', 'text': '두 카페의 차이점을 설명해줘.'},\n",
    "            {\n",
    "                'type': 'image_url',\n",
    "                'image_url': {'url': f'data:image/jpeg;base64,{base64_image_1}'},\n",
    "            },\n",
    "            {\n",
    "                'type': 'image_url',\n",
    "                'image_url': {'url': f'data:image/jpeg;base64,{base64_image_2}'},\n",
    "            },\n",
    "        ],\n",
    "    },\n",
    "]"
   ],
   "id": "d9f60aa2e5ea947b",
   "outputs": [],
   "execution_count": 37
  },
  {
   "metadata": {
    "ExecuteTime": {
     "end_time": "2025-09-09T05:57:42.519258Z",
     "start_time": "2025-09-09T05:57:13.681466Z"
    }
   },
   "cell_type": "code",
   "source": [
    "response = client.chat.completions.create(\n",
    "    model='gpt-4o-mini',\n",
    "    messages=messages\n",
    ")"
   ],
   "id": "d17b97ed5cc5f816",
   "outputs": [],
   "execution_count": 38
  },
  {
   "metadata": {
    "ExecuteTime": {
     "end_time": "2025-09-09T05:57:50.024038Z",
     "start_time": "2025-09-09T05:57:50.019317Z"
    }
   },
   "cell_type": "code",
   "source": "print(response.choices[0].message.content)",
   "id": "65887af07a847850",
   "outputs": [
    {
     "name": "stdout",
     "output_type": "stream",
     "text": [
      "두 카페의 차이점을 몇 가지로 설명해 드릴게요.\n",
      "\n",
      "1. **장식 및 분위기**:\n",
      "   - 첫 번째 카페는 식물 장식이 많이 되어 있고, 자연광이 많이 들어오는 공간으로, 생기있고 쾌적한 느낌을 줍니다.\n",
      "   - 두 번째 카페는 더 모던하고 산업적인 느낌을 주며, 나무와 금속 소재의 조화로 따뜻하면서도 세련된 분위기를 자아냅니다.\n",
      "\n",
      "2. **배치 및 좌석**:\n",
      "   - 첫 번째 카페는 긴 테이블과 다양한 크기의 좌석이 있어 대화와 모임에 적합해 보입니다.\n",
      "   - 두 번째 카페는 개인적인 공간을 고려하여 배치가 이루어져 있어, 혼자서 작업하거나 조용히 시간을 보내기 좋은 환경입니다.\n",
      "\n",
      "3. **조명**:\n",
      "   - 첫 번째 카페는 자연광을 강조한 반면, 두 번째 카페는 조명 기구가 눈에 띄어 인공 조명에 의존하는 느낌이 강합니다.\n",
      "\n",
      "4. **전체적인 느낌**:\n",
      "   - 첫 번째 카페는 친환경적이고 여유로운 느낌을 주는 반면, 두 번째 카페는 트렌디하고 도시적인 느낌이 강조됩니다. \n",
      "\n",
      "이런 요소들이 두 카페의 매력을 다르게 만들어 줍니다.\n"
     ]
    }
   ],
   "execution_count": 39
  },
  {
   "metadata": {},
   "cell_type": "code",
   "outputs": [],
   "execution_count": null,
   "source": "",
   "id": "ffc7fe7a856d386b"
  }
 ],
 "metadata": {
  "kernelspec": {
   "display_name": "Python 3",
   "language": "python",
   "name": "python3"
  },
  "language_info": {
   "codemirror_mode": {
    "name": "ipython",
    "version": 2
   },
   "file_extension": ".py",
   "mimetype": "text/x-python",
   "name": "python",
   "nbconvert_exporter": "python",
   "pygments_lexer": "ipython2",
   "version": "2.7.6"
  }
 },
 "nbformat": 4,
 "nbformat_minor": 5
}
